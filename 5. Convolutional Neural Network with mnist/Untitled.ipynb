{
 "cells": [
  {
   "cell_type": "code",
   "execution_count": 1,
   "metadata": {},
   "outputs": [],
   "source": [
    "import numpy as np\n",
    "import sys\n",
    "import os\n",
    "from array import array\n",
    "\n",
    "from struct import *\n",
    "import matplotlib\n",
    "import matplotlib.pyplot as plt\n",
    "import matplotlib.cm as cm\n",
    "\n",
    "#파일 읽기\n",
    "train_image = open('C:/Users/admin/Desktop/git/Machine-Learning/MNIST/raw/train-images.idx3-ubyte','rb')\n",
    "train_label = open('C:/Users/admin/Desktop/git/Machine-Learning/MNIST/raw/train-labels.idx1-ubyte','rb')\n",
    "\n",
    "#사용할 변수 초기화\n",
    "img = np.zeros((28,28)) #이미지가 저장될 부분\n",
    "trainset = [ [],[],[],[],[],[],[],[],[],[] ] #숫자별로 저장 (0 ~ 9)\n",
    "d = 0\n",
    "l = 0\n",
    "index=0\n",
    "\n",
    "s = train_image.read(16)    #read first 16byte\n",
    "l = train_label.read(8)     #read first  8byte\n",
    "\n",
    "\n",
    "\n",
    "\n",
    "\n",
    "\n",
    "k=0 #테스트용 index\n",
    "#read mnist and show number\n",
    "while True:    \n",
    "    s = train_image.read(784) #784바이트씩 읽음\n",
    "    l = train_label.read(1) #1바이트씩 읽음\n",
    "\n",
    "    if not s:\n",
    "        break;\n",
    "    if not l:\n",
    "        break;\n",
    "\n",
    "    index = int(l[0])\n",
    "    #print(k,\":\",index)\n",
    "\n",
    "#unpack\n",
    "    img = np.reshape( unpack(len(s)*'B',s), (28,28))\n",
    "    trainset[index].append(img) #각 숫자영역별로 해당이미지를 추가\n",
    "    k=k+1\n",
    "\n",
    "\n",
    "test_image = open('C:/Users/admin/Desktop/git/Machine-Learning/MNIST/raw/t10k-images.idx3-ubyte','rb')\n",
    "test_label = open('C:/Users/admin/Desktop/git/Machine-Learning/MNIST/raw/t10k-labels.idx1-ubyte','rb')\n",
    "\n",
    "#사용할 변수 초기화\n",
    "img = np.zeros((28,28)) #이미지가 저장될 부분\n",
    "testset = [ [],[],[],[],[],[],[],[],[],[] ] #숫자별로 저장 (0 ~ 9)\n",
    "d = 0\n",
    "l = 0\n",
    "index=0\n",
    "\n",
    "s = test_image.read(16)    #read first 16byte\n",
    "l = test_label.read(8)     #read first  8byte\n",
    "\n",
    "\n",
    "\n",
    "\n",
    "\n",
    "\n",
    "k=0 #테스트용 index\n",
    "#read mnist and show number\n",
    "while True:    \n",
    "    s = test_image.read(784) #784바이트씩 읽음\n",
    "    l = test_label.read(1) #1바이트씩 읽음\n",
    "\n",
    "    if not s:\n",
    "        break;\n",
    "    if not l:\n",
    "        break;\n",
    "\n",
    "    index = int(l[0])\n",
    "    #print(k,\":\",index)\n",
    "\n",
    "#unpack\n",
    "    img = np.reshape( unpack(len(s)*'B',s), (28,28))\n",
    "    testset[index].append(img) #각 숫자영역별로 해당이미지를 추가\n",
    "    k=k+1\n",
    "\n",
    "# MNIST 불러오는 코드 출처 : https://m.blog.naver.com/PostView.nhn?blogId=acwboy&logNo=220584307823&proxyReferer=https:%2F%2Fwww.google.com%2F"
   ]
  },
  {
   "cell_type": "code",
   "execution_count": null,
   "metadata": {},
   "outputs": [],
   "source": []
  },
  {
   "cell_type": "code",
   "execution_count": 10,
   "metadata": {},
   "outputs": [
    {
     "data": {
      "text/plain": [
       "<matplotlib.image.AxesImage at 0x25474171b08>"
      ]
     },
     "execution_count": 10,
     "metadata": {},
     "output_type": "execute_result"
    },
    {
     "data": {
      "image/png": "[encoded data removed]",
      "text/plain": [
       "<Figure size 432x288 with 1 Axes>"
      ]
     },
     "metadata": {
      "needs_background": "light"
     },
     "output_type": "display_data"
    }
   ],
   "source": [
    "plt.imshow(trainset[0][0], cmap=cm.binary)"
   ]
  }
 ],
 "metadata": {
  "kernelspec": {
   "display_name": "Python 3",
   "language": "python",
   "name": "python3"
  },
  "language_info": {
   "codemirror_mode": {
    "name": "ipython",
    "version": 3
   },
   "file_extension": ".py",
   "mimetype": "text/x-python",
   "name": "python",
   "nbconvert_exporter": "python",
   "pygments_lexer": "ipython3",
   "version": "3.7.4"
  }
 },
 "nbformat": 4,
 "nbformat_minor": 4
}
