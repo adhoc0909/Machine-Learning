{
 "cells": [
  {
   "cell_type": "code",
   "execution_count": 95,
   "metadata": {},
   "outputs": [],
   "source": [
    "from scipy.io import loadmat\n",
    "import numpy as np\n",
    "import pandas as pd\n",
    "import matplotlib.pyplot as plt\n",
    "from matplotlib.pyplot import subplots\n",
    "data= loadmat('data.mat')"
   ]
  },
  {
   "cell_type": "code",
   "execution_count": 96,
   "metadata": {},
   "outputs": [],
   "source": [
    "X=data['X']\n",
    "y=data['y']\n",
    "Xval=data['Xval']\n",
    "yval=data['yval']\n",
    "Xtest=data['Xtest']\n",
    "ytest=data['ytest']\n",
    "\n",
    "theta=np.ones([2,1])"
   ]
  },
  {
   "cell_type": "code",
   "execution_count": 328,
   "metadata": {},
   "outputs": [],
   "source": [
    "def costFunction(X, y, theta, Lambda):\n",
    "    m= len(y)\n",
    "    J= 0\n",
    "        \n",
    "#    x = np.stack([np.ones([X.shape[0],1]), X], axis=1)\n",
    "    h=np.array(np.dot(np.matrix(X),theta))\n",
    "    \n",
    "    theta_reg=np.vstack((np.zeros([1,1]), theta[1:]))\n",
    "    \n",
    "    J=(1/(2*m))*((h-y)**2).sum()+(Lambda/(2*m))*(theta_reg**2).sum()\n",
    "    \n",
    "    grad = (1/m)*(np.dot(X.transpose(),(h-y)))+ (Lambda/m)*theta_reg\n",
    "    \n",
    "    return [J, grad]\n",
    "\n",
    "\n",
    "def train(X, y, Lambda):\n",
    "    Theta = np.zeros([X.shape[1],1]) #initial theta\n",
    "\n",
    "    grad=np.zeros([X.shape[1],1])\n",
    " \n",
    "    for epoch in range(1,100001):\n",
    "        [J, grad] = costFunction(X, y, Theta, Lambda)\n",
    "        Theta=Theta-lr*grad\n",
    "\n",
    "        if(epoch%10000==0):\n",
    "            print(\"epoch:\", epoch, \"cost:\", J)\n",
    "            print(\"theta:\", Theta)\n",
    "        \n",
    "    return Theta\n",
    "\n",
    "def forward(X, theta):\n",
    "    return np.dot(X, theta)"
   ]
  },
  {
   "cell_type": "code",
   "execution_count": 314,
   "metadata": {},
   "outputs": [
    {
     "data": {
      "text/plain": [
       "array([[1.],\n",
       "       [1.]])"
      ]
     },
     "execution_count": 314,
     "metadata": {},
     "output_type": "execute_result"
    }
   ],
   "source": [
    "theta"
   ]
  },
  {
   "cell_type": "code",
   "execution_count": 98,
   "metadata": {},
   "outputs": [
    {
     "data": {
      "image/png": "[encoded data removed]",
      "text/plain": [
       "<Figure size 1584x288 with 3 Axes>"
      ]
     },
     "metadata": {
      "needs_background": "light"
     },
     "output_type": "display_data"
    }
   ],
   "source": [
    "f, ax = subplots(1,3,figsize=(22,4))\n",
    "\n",
    "ax[0].plot(X, y, 'or')\n",
    "ax[0].set_title('traing set')\n",
    "ax[0].set_xlabel('X')\n",
    "ax[0].set_ylabel('y')\n",
    "\n",
    "ax[1].plot(Xval, yval, 'or')\n",
    "ax[1].set_title('cross validatoin set')\n",
    "ax[1].set_xlabel('Xval')\n",
    "ax[1].set_ylabel('yval')\n",
    "\n",
    "ax[2].plot(Xtest, ytest, 'or')\n",
    "ax[2].set_title('test set')\n",
    "ax[2].set_xlabel('X')\n",
    "ax[2].set_ylabel('y')\n",
    "\n",
    "plt.show()"
   ]
  },
  {
   "cell_type": "code",
   "execution_count": 240,
   "metadata": {},
   "outputs": [
    {
     "name": "stdout",
     "output_type": "stream",
     "text": [
      "epoch: 1000 cost: 24.098354140420703\n",
      "theta: [[11.2083809 ]\n",
      " [ 0.35647195]]\n",
      "epoch: 2000 cost: 22.41497363327665\n",
      "theta: [[12.81788664]\n",
      " [ 0.36612389]]\n",
      "epoch: 3000 cost: 22.380272218673962\n",
      "theta: [[13.04897335]\n",
      " [ 0.36750967]]\n",
      "epoch: 4000 cost: 22.37955687940853\n",
      "theta: [[13.0821519 ]\n",
      " [ 0.36770864]]\n",
      "epoch: 5000 cost: 22.379542133316168\n",
      "theta: [[13.08691555]\n",
      " [ 0.36773721]]\n",
      "epoch: 6000 cost: 22.37954182933839\n",
      "theta: [[13.0875995 ]\n",
      " [ 0.36774131]]\n",
      "epoch: 7000 cost: 22.379541823072156\n",
      "theta: [[13.0876977]\n",
      " [ 0.3677419]]\n",
      "epoch: 8000 cost: 22.37954182294298\n",
      "theta: [[13.0877118 ]\n",
      " [ 0.36774198]]\n",
      "epoch: 9000 cost: 22.37954182294032\n",
      "theta: [[13.08771382]\n",
      " [ 0.36774199]]\n",
      "epoch: 10000 cost: 22.37954182294026\n",
      "theta: [[13.08771411]\n",
      " [ 0.367742  ]]\n",
      "epoch: 11000 cost: 22.379541822940265\n",
      "theta: [[13.08771415]\n",
      " [ 0.367742  ]]\n",
      "epoch: 12000 cost: 22.37954182294027\n",
      "theta: [[13.08771416]\n",
      " [ 0.367742  ]]\n",
      "epoch: 13000 cost: 22.379541822940265\n",
      "theta: [[13.08771416]\n",
      " [ 0.367742  ]]\n",
      "epoch: 14000 cost: 22.379541822940265\n",
      "theta: [[13.08771416]\n",
      " [ 0.367742  ]]\n",
      "epoch: 15000 cost: 22.379541822940265\n",
      "theta: [[13.08771416]\n",
      " [ 0.367742  ]]\n",
      "epoch: 16000 cost: 22.379541822940265\n",
      "theta: [[13.08771416]\n",
      " [ 0.367742  ]]\n",
      "epoch: 17000 cost: 22.379541822940265\n",
      "theta: [[13.08771416]\n",
      " [ 0.367742  ]]\n",
      "epoch: 18000 cost: 22.379541822940265\n",
      "theta: [[13.08771416]\n",
      " [ 0.367742  ]]\n",
      "epoch: 19000 cost: 22.379541822940265\n",
      "theta: [[13.08771416]\n",
      " [ 0.367742  ]]\n",
      "epoch: 20000 cost: 22.379541822940265\n",
      "theta: [[13.08771416]\n",
      " [ 0.367742  ]]\n",
      "epoch: 21000 cost: 22.379541822940265\n",
      "theta: [[13.08771416]\n",
      " [ 0.367742  ]]\n",
      "epoch: 22000 cost: 22.379541822940265\n",
      "theta: [[13.08771416]\n",
      " [ 0.367742  ]]\n",
      "epoch: 23000 cost: 22.379541822940265\n",
      "theta: [[13.08771416]\n",
      " [ 0.367742  ]]\n",
      "epoch: 24000 cost: 22.379541822940265\n",
      "theta: [[13.08771416]\n",
      " [ 0.367742  ]]\n",
      "epoch: 25000 cost: 22.379541822940265\n",
      "theta: [[13.08771416]\n",
      " [ 0.367742  ]]\n",
      "epoch: 26000 cost: 22.379541822940265\n",
      "theta: [[13.08771416]\n",
      " [ 0.367742  ]]\n",
      "epoch: 27000 cost: 22.379541822940265\n",
      "theta: [[13.08771416]\n",
      " [ 0.367742  ]]\n",
      "epoch: 28000 cost: 22.379541822940265\n",
      "theta: [[13.08771416]\n",
      " [ 0.367742  ]]\n",
      "epoch: 29000 cost: 22.379541822940265\n",
      "theta: [[13.08771416]\n",
      " [ 0.367742  ]]\n",
      "epoch: 30000 cost: 22.379541822940265\n",
      "theta: [[13.08771416]\n",
      " [ 0.367742  ]]\n",
      "epoch: 31000 cost: 22.379541822940265\n",
      "theta: [[13.08771416]\n",
      " [ 0.367742  ]]\n",
      "epoch: 32000 cost: 22.379541822940265\n",
      "theta: [[13.08771416]\n",
      " [ 0.367742  ]]\n",
      "epoch: 33000 cost: 22.379541822940265\n",
      "theta: [[13.08771416]\n",
      " [ 0.367742  ]]\n",
      "epoch: 34000 cost: 22.379541822940265\n",
      "theta: [[13.08771416]\n",
      " [ 0.367742  ]]\n",
      "epoch: 35000 cost: 22.379541822940265\n",
      "theta: [[13.08771416]\n",
      " [ 0.367742  ]]\n",
      "epoch: 36000 cost: 22.379541822940265\n",
      "theta: [[13.08771416]\n",
      " [ 0.367742  ]]\n",
      "epoch: 37000 cost: 22.379541822940265\n",
      "theta: [[13.08771416]\n",
      " [ 0.367742  ]]\n",
      "epoch: 38000 cost: 22.379541822940265\n",
      "theta: [[13.08771416]\n",
      " [ 0.367742  ]]\n",
      "epoch: 39000 cost: 22.379541822940265\n",
      "theta: [[13.08771416]\n",
      " [ 0.367742  ]]\n",
      "epoch: 40000 cost: 22.379541822940265\n",
      "theta: [[13.08771416]\n",
      " [ 0.367742  ]]\n",
      "epoch: 41000 cost: 22.379541822940265\n",
      "theta: [[13.08771416]\n",
      " [ 0.367742  ]]\n",
      "epoch: 42000 cost: 22.379541822940265\n",
      "theta: [[13.08771416]\n",
      " [ 0.367742  ]]\n",
      "epoch: 43000 cost: 22.379541822940265\n",
      "theta: [[13.08771416]\n",
      " [ 0.367742  ]]\n",
      "epoch: 44000 cost: 22.379541822940265\n",
      "theta: [[13.08771416]\n",
      " [ 0.367742  ]]\n",
      "epoch: 45000 cost: 22.379541822940265\n",
      "theta: [[13.08771416]\n",
      " [ 0.367742  ]]\n",
      "epoch: 46000 cost: 22.379541822940265\n",
      "theta: [[13.08771416]\n",
      " [ 0.367742  ]]\n",
      "epoch: 47000 cost: 22.379541822940265\n",
      "theta: [[13.08771416]\n",
      " [ 0.367742  ]]\n",
      "epoch: 48000 cost: 22.379541822940265\n",
      "theta: [[13.08771416]\n",
      " [ 0.367742  ]]\n",
      "epoch: 49000 cost: 22.379541822940265\n",
      "theta: [[13.08771416]\n",
      " [ 0.367742  ]]\n",
      "epoch: 50000 cost: 22.379541822940265\n",
      "theta: [[13.08771416]\n",
      " [ 0.367742  ]]\n",
      "epoch: 51000 cost: 22.379541822940265\n",
      "theta: [[13.08771416]\n",
      " [ 0.367742  ]]\n",
      "epoch: 52000 cost: 22.379541822940265\n",
      "theta: [[13.08771416]\n",
      " [ 0.367742  ]]\n",
      "epoch: 53000 cost: 22.379541822940265\n",
      "theta: [[13.08771416]\n",
      " [ 0.367742  ]]\n",
      "epoch: 54000 cost: 22.379541822940265\n",
      "theta: [[13.08771416]\n",
      " [ 0.367742  ]]\n",
      "epoch: 55000 cost: 22.379541822940265\n",
      "theta: [[13.08771416]\n",
      " [ 0.367742  ]]\n",
      "epoch: 56000 cost: 22.379541822940265\n",
      "theta: [[13.08771416]\n",
      " [ 0.367742  ]]\n",
      "epoch: 57000 cost: 22.379541822940265\n",
      "theta: [[13.08771416]\n",
      " [ 0.367742  ]]\n",
      "epoch: 58000 cost: 22.379541822940265\n",
      "theta: [[13.08771416]\n",
      " [ 0.367742  ]]\n",
      "epoch: 59000 cost: 22.379541822940265\n",
      "theta: [[13.08771416]\n",
      " [ 0.367742  ]]\n",
      "epoch: 60000 cost: 22.379541822940265\n",
      "theta: [[13.08771416]\n",
      " [ 0.367742  ]]\n",
      "epoch: 61000 cost: 22.379541822940265\n",
      "theta: [[13.08771416]\n",
      " [ 0.367742  ]]\n",
      "epoch: 62000 cost: 22.379541822940265\n",
      "theta: [[13.08771416]\n",
      " [ 0.367742  ]]\n",
      "epoch: 63000 cost: 22.379541822940265\n",
      "theta: [[13.08771416]\n",
      " [ 0.367742  ]]\n",
      "epoch: 64000 cost: 22.379541822940265\n",
      "theta: [[13.08771416]\n",
      " [ 0.367742  ]]\n",
      "epoch: 65000 cost: 22.379541822940265\n",
      "theta: [[13.08771416]\n",
      " [ 0.367742  ]]\n",
      "epoch: 66000 cost: 22.379541822940265\n",
      "theta: [[13.08771416]\n",
      " [ 0.367742  ]]\n",
      "epoch: 67000 cost: 22.379541822940265\n",
      "theta: [[13.08771416]\n",
      " [ 0.367742  ]]\n",
      "epoch: 68000 cost: 22.379541822940265\n",
      "theta: [[13.08771416]\n",
      " [ 0.367742  ]]\n",
      "epoch: 69000 cost: 22.379541822940265\n",
      "theta: [[13.08771416]\n",
      " [ 0.367742  ]]\n",
      "epoch: 70000 cost: 22.379541822940265\n",
      "theta: [[13.08771416]\n",
      " [ 0.367742  ]]\n",
      "epoch: 71000 cost: 22.379541822940265\n",
      "theta: [[13.08771416]\n",
      " [ 0.367742  ]]\n",
      "epoch: 72000 cost: 22.379541822940265\n",
      "theta: [[13.08771416]\n",
      " [ 0.367742  ]]\n",
      "epoch: 73000 cost: 22.379541822940265\n",
      "theta: [[13.08771416]\n",
      " [ 0.367742  ]]\n",
      "epoch: 74000 cost: 22.379541822940265\n",
      "theta: [[13.08771416]\n",
      " [ 0.367742  ]]\n",
      "epoch: 75000 cost: 22.379541822940265\n",
      "theta: [[13.08771416]\n",
      " [ 0.367742  ]]\n",
      "epoch: 76000 cost: 22.379541822940265\n",
      "theta: [[13.08771416]\n",
      " [ 0.367742  ]]\n",
      "epoch: 77000 cost: 22.379541822940265\n",
      "theta: [[13.08771416]\n",
      " [ 0.367742  ]]\n",
      "epoch: 78000 cost: 22.379541822940265\n",
      "theta: [[13.08771416]\n",
      " [ 0.367742  ]]\n",
      "epoch: 79000 cost: 22.379541822940265\n",
      "theta: [[13.08771416]\n",
      " [ 0.367742  ]]\n",
      "epoch: 80000 cost: 22.379541822940265\n",
      "theta: [[13.08771416]\n",
      " [ 0.367742  ]]\n",
      "epoch: 81000 cost: 22.379541822940265\n",
      "theta: [[13.08771416]\n",
      " [ 0.367742  ]]\n",
      "epoch: 82000 cost: 22.379541822940265\n",
      "theta: [[13.08771416]\n",
      " [ 0.367742  ]]\n",
      "epoch: 83000 cost: 22.379541822940265\n",
      "theta: [[13.08771416]\n",
      " [ 0.367742  ]]\n",
      "epoch: 84000 cost: 22.379541822940265\n",
      "theta: [[13.08771416]\n",
      " [ 0.367742  ]]\n",
      "epoch: 85000 cost: 22.379541822940265\n",
      "theta: [[13.08771416]\n",
      " [ 0.367742  ]]\n",
      "epoch: 86000 cost: 22.379541822940265\n",
      "theta: [[13.08771416]\n",
      " [ 0.367742  ]]\n",
      "epoch: 87000 cost: 22.379541822940265\n",
      "theta: [[13.08771416]\n",
      " [ 0.367742  ]]\n",
      "epoch: 88000 cost: 22.379541822940265\n",
      "theta: [[13.08771416]\n",
      " [ 0.367742  ]]\n",
      "epoch: 89000 cost: 22.379541822940265\n",
      "theta: [[13.08771416]\n",
      " [ 0.367742  ]]\n",
      "epoch: 90000 cost: 22.379541822940265\n",
      "theta: [[13.08771416]\n",
      " [ 0.367742  ]]\n",
      "epoch: 91000 cost: 22.379541822940265\n",
      "theta: [[13.08771416]\n",
      " [ 0.367742  ]]\n",
      "epoch: 92000 cost: 22.379541822940265\n",
      "theta: [[13.08771416]\n",
      " [ 0.367742  ]]\n",
      "epoch: 93000 cost: 22.379541822940265\n",
      "theta: [[13.08771416]\n",
      " [ 0.367742  ]]\n",
      "epoch: 94000 cost: 22.379541822940265\n",
      "theta: [[13.08771416]\n",
      " [ 0.367742  ]]\n",
      "epoch: 95000 cost: 22.379541822940265\n",
      "theta: [[13.08771416]\n",
      " [ 0.367742  ]]\n",
      "epoch: 96000 cost: 22.379541822940265\n",
      "theta: [[13.08771416]\n",
      " [ 0.367742  ]]\n",
      "epoch: 97000 cost: 22.379541822940265\n",
      "theta: [[13.08771416]\n",
      " [ 0.367742  ]]\n",
      "epoch: 98000 cost: 22.379541822940265\n",
      "theta: [[13.08771416]\n",
      " [ 0.367742  ]]\n",
      "epoch: 99000 cost: 22.379541822940265\n",
      "theta: [[13.08771416]\n",
      " [ 0.367742  ]]\n",
      "epoch: 100000 cost: 22.379541822940265\n",
      "theta: [[13.08771416]\n",
      " [ 0.367742  ]]\n"
     ]
    }
   ],
   "source": [
    "x=np.append(np.ones((X.shape[0],1)),X, 1)\n",
    "xval=np.append(np.ones((Xval.shape[0],1)),Xval, 1)\n",
    "xtest=np.append(np.ones((Xtest.shape[0],1)),Xtest, 1)\n",
    "\n",
    "lr=0.002\n",
    "a=train(x, y, 1)"
   ]
  },
  {
   "cell_type": "code",
   "execution_count": 100,
   "metadata": {},
   "outputs": [
    {
     "data": {
      "text/plain": [
       "array([[11.35281291],\n",
       "       [ 0.35733808]])"
      ]
     },
     "execution_count": 100,
     "metadata": {},
     "output_type": "execute_result"
    }
   ],
   "source": [
    "a"
   ]
  },
  {
   "cell_type": "code",
   "execution_count": 241,
   "metadata": {},
   "outputs": [
    {
     "data": {
      "image/png": "[encoded data removed]",
      "text/plain": [
       "<Figure size 720x648 with 1 Axes>"
      ]
     },
     "metadata": {
      "needs_background": "light"
     },
     "output_type": "display_data"
    }
   ],
   "source": [
    "plt.figure(figsize=(10,9))\n",
    "p1=plt.plot(X, forward(x, a), 'r', label='trained')\n",
    "p2=plt.plot(X, forward(x, theta), 'b', label='untrained')\n",
    "p3=plt.plot(X, y, 'om', label='label')\n",
    "\n",
    "plt.legend()\n",
    "\n",
    "plt.xlabel('X')\n",
    "plt.ylabel('y')\n",
    "\n",
    "plt.show()"
   ]
  },
  {
   "cell_type": "code",
   "execution_count": 102,
   "metadata": {},
   "outputs": [
    {
     "name": "stdout",
     "output_type": "stream",
     "text": [
      "[before training]\n",
      "train error = 303.9515255535976\n",
      "cross validation error = 344.65081501026566\n",
      "test error = 342.3791418315095\n",
      "\n",
      "\n",
      "train error = 23.83331966330838\n",
      "cross validation error = 33.028936603328994\n",
      "test error = 37.66770389724085\n"
     ]
    }
   ],
   "source": [
    "print(\"[before training]\")\n",
    "print(\"train error =\", costFunction(x, y, theta, 0)[0])\n",
    "print(\"cross validation error =\", costFunction(xval, yval,theta, 0)[0])\n",
    "print(\"test error =\", costFunction(xtest, ytest, theta, 0)[0])\n",
    "print('\\n')\n",
    "\n",
    "print(\"train error =\", costFunction(x, y, a, 0)[0])\n",
    "print(\"cross validation error =\", costFunction(xval, yval,a, 0)[0])\n",
    "print(\"test error =\", costFunction(xtest, ytest, a, 0)[0])"
   ]
  },
  {
   "cell_type": "markdown",
   "metadata": {},
   "source": [
    "# overfitting (8차 다항식 가설)"
   ]
  },
  {
   "cell_type": "code",
   "execution_count": 371,
   "metadata": {},
   "outputs": [],
   "source": [
    "x_poly=x\n",
    "degree=8\n",
    "for i in range(2,degree+1):\n",
    "    x_poly=np.c_[x_poly, x[:,1]**i]\n",
    "theta_poly=np.ones([x_poly.shape[1], 1])"
   ]
  },
  {
   "cell_type": "code",
   "execution_count": 378,
   "metadata": {
    "scrolled": true
   },
   "outputs": [
    {
     "name": "stdout",
     "output_type": "stream",
     "text": [
      "epoch: 100000 cost: 36.54094270875386\n",
      "theta: [[1.16066169e-20]\n",
      " [1.31307326e-19]\n",
      " [6.07007745e-18]\n",
      " [8.17986042e-17]\n",
      " [4.89630453e-15]\n",
      " [1.02903303e-13]\n",
      " [3.72529122e-12]\n",
      " [2.06854972e-10]\n",
      " [4.52899807e-12]]\n",
      "epoch: 200000 cost: 36.537341226976196\n",
      "theta: [[2.22855569e-20]\n",
      " [2.04879802e-19]\n",
      " [1.10141285e-17]\n",
      " [7.90924659e-17]\n",
      " [8.55358806e-15]\n",
      " [7.67371686e-14]\n",
      " [6.40869156e-12]\n",
      " [2.06862402e-10]\n",
      " [4.52792014e-12]]\n",
      "epoch: 300000 cost: 36.533743421896844\n",
      "theta: [[3.29635062e-20]\n",
      " [2.78465954e-19]\n",
      " [1.59570469e-17]\n",
      " [7.63993542e-17]\n",
      " [1.22096208e-14]\n",
      " [5.05770434e-14]\n",
      " [9.09099081e-12]\n",
      " [2.06848956e-10]\n",
      " [4.52642227e-12]]\n",
      "epoch: 400000 cost: 36.5301482875528\n",
      "theta: [[4.36405587e-20]\n",
      " [3.52071604e-19]\n",
      " [2.08989465e-17]\n",
      " [7.37277930e-17]\n",
      " [1.58645282e-14]\n",
      " [2.44359508e-14]\n",
      " [1.17722944e-11]\n",
      " [2.06835512e-10]\n",
      " [4.52492493e-12]]\n",
      "epoch: 500000 cost: 36.52655582196131\n",
      "theta: [[ 5.43167148e-20]\n",
      " [ 4.25696746e-19]\n",
      " [ 2.58398277e-17]\n",
      " [ 7.10777752e-17]\n",
      " [ 1.95183107e-14]\n",
      " [-1.68611494e-15]\n",
      " [ 1.44526027e-11]\n",
      " [ 2.06822073e-10]\n",
      " [ 4.52342813e-12]]\n",
      "epoch: 600000 cost: 36.52296602314114\n",
      "theta: [[ 6.49919747e-20]\n",
      " [ 4.99341371e-19]\n",
      " [ 3.07796909e-17]\n",
      " [ 6.84492929e-17]\n",
      " [ 2.31709685e-14]\n",
      " [-2.77891609e-14]\n",
      " [ 1.71319160e-11]\n",
      " [ 2.06808639e-10]\n",
      " [ 4.52193190e-12]]\n",
      "epoch: 700000 cost: 36.51937888911251\n",
      "theta: [[ 7.56663389e-20]\n",
      " [ 5.73005474e-19]\n",
      " [ 3.57185365e-17]\n",
      " [ 6.58423380e-17]\n",
      " [ 2.68225023e-14]\n",
      " [-5.38731940e-14]\n",
      " [ 1.98102349e-11]\n",
      " [ 2.06795211e-10]\n",
      " [ 4.52043621e-12]]\n",
      "epoch: 800000 cost: 36.515794417897084\n",
      "theta: [[ 8.63398077e-20]\n",
      " [ 6.46689046e-19]\n",
      " [ 4.06563648e-17]\n",
      " [ 6.32569026e-17]\n",
      " [ 3.04729123e-14]\n",
      " [-7.99382215e-14]\n",
      " [ 2.24875595e-11]\n",
      " [ 2.06781787e-10]\n",
      " [ 4.51894109e-12]]\n",
      "epoch: 900000 cost: 36.51221260751805\n",
      "theta: [[ 9.70123813e-20]\n",
      " [ 7.20392080e-19]\n",
      " [ 4.55931763e-17]\n",
      " [ 6.06929786e-17]\n",
      " [ 3.41221991e-14]\n",
      " [-1.05984250e-13]\n",
      " [ 2.51638903e-11]\n",
      " [ 2.06768368e-10]\n",
      " [ 4.51744651e-12]]\n",
      "epoch: 1000000 cost: 36.50863345600004\n",
      "theta: [[ 1.07684060e-19]\n",
      " [ 7.94114570e-19]\n",
      " [ 5.05289712e-17]\n",
      " [ 5.81505581e-17]\n",
      " [ 3.77703629e-14]\n",
      " [-1.32011288e-13]\n",
      " [ 2.78392277e-11]\n",
      " [ 2.06754954e-10]\n",
      " [ 4.51595250e-12]]\n"
     ]
    }
   ],
   "source": [
    "\n",
    "lr=2e-26  #8차\n",
    "#lr=1e-10 #3차\n",
    "#lr=2e-40 #12차\n",
    "#lr=1.5e-83 #26차\n",
    "trained_theta_poly=train(x_poly, y, 0)"
   ]
  },
  {
   "cell_type": "code",
   "execution_count": 379,
   "metadata": {},
   "outputs": [
    {
     "data": {
      "image/png": "[encoded data removed]",
      "text/plain": [
       "<Figure size 720x648 with 1 Axes>"
      ]
     },
     "metadata": {
      "needs_background": "light"
     },
     "output_type": "display_data"
    }
   ],
   "source": [
    "plt.figure(figsize=(10,9))\n",
    "p1=plt.plot(X, forward(x_poly, trained_theta_poly), 'or', label='trained')\n",
    "p3=plt.plot(X, y, 'om', label='label')\n",
    "\n",
    "plt.legend()\n",
    "\n",
    "plt.xlabel('X')\n",
    "plt.ylabel('y')\n",
    "\n",
    "plt.show()"
   ]
  },
  {
   "cell_type": "code",
   "execution_count": 381,
   "metadata": {},
   "outputs": [],
   "source": [
    "testX=np.zeros([80,1])\n",
    "for i in range(80):\n",
    "    testX[i]=i-40\n",
    "    \n",
    "testX=np.append(np.ones((testX.shape[0],1)),testX, 1)"
   ]
  },
  {
   "cell_type": "code",
   "execution_count": 382,
   "metadata": {},
   "outputs": [],
   "source": [
    "testX_poly=testX\n",
    "for i in range(2,degree+1):\n",
    "    testX_poly=np.c_[testX_poly, testX[:,1]**i]"
   ]
  },
  {
   "cell_type": "code",
   "execution_count": 383,
   "metadata": {},
   "outputs": [
    {
     "data": {
      "text/plain": [
       "<Figure size 3600x3600 with 0 Axes>"
      ]
     },
     "execution_count": 383,
     "metadata": {},
     "output_type": "execute_result"
    },
    {
     "data": {
      "image/png": "[encoded data removed]",
      "text/plain": [
       "<Figure size 432x288 with 1 Axes>"
      ]
     },
     "metadata": {
      "needs_background": "light"
     },
     "output_type": "display_data"
    },
    {
     "data": {
      "text/plain": [
       "<Figure size 3600x3600 with 0 Axes>"
      ]
     },
     "metadata": {},
     "output_type": "display_data"
    }
   ],
   "source": [
    "plt.plot(testX[:,1], forward(testX_poly, trained_theta_poly), 'r', label='trained')\n",
    "plt.figure(figsize=(50,50))"
   ]
  },
  {
   "cell_type": "code",
   "execution_count": null,
   "metadata": {},
   "outputs": [],
   "source": []
  }
 ],
 "metadata": {
  "kernelspec": {
   "display_name": "Python 3",
   "language": "python",
   "name": "python3"
  },
  "language_info": {
   "codemirror_mode": {
    "name": "ipython",
    "version": 3
   },
   "file_extension": ".py",
   "mimetype": "text/x-python",
   "name": "python",
   "nbconvert_exporter": "python",
   "pygments_lexer": "ipython3",
   "version": "3.7.4"
  }
 },
 "nbformat": 4,
 "nbformat_minor": 2
}
