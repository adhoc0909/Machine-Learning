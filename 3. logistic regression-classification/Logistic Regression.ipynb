{
 "cells": [
  {
   "cell_type": "markdown",
   "metadata": {},
   "source": [
    "# Linear & polynomial classification problem"
   ]
  },
  {
   "cell_type": "code",
   "execution_count": 1,
   "metadata": {},
   "outputs": [],
   "source": [
    "import csv\n",
    "import matplotlib.pyplot as plt\n",
    "import numpy as np\n",
    "import math\n",
    "data=[]\n",
    "\n",
    "f= open('data1.csv', 'r')\n",
    "reader= csv.reader(f)\n",
    "for line in reader:\n",
    "    data.append(line)\n",
    "f.close()"
   ]
  },
  {
   "cell_type": "code",
   "execution_count": 2,
   "metadata": {},
   "outputs": [],
   "source": [
    "for i in range(len(data)):\n",
    "    data[i]=list(map(float, data[i]))\n",
    "    \n"
   ]
  },
  {
   "cell_type": "code",
   "execution_count": 41,
   "metadata": {},
   "outputs": [
    {
     "data": {
      "text/plain": [
       "[[34.62365962451697, 78.0246928153624, 0.0],\n",
       " [30.28671076822607, 43.89499752400101, 0.0],\n",
       " [35.84740876993872, 72.90219802708364, 0.0],\n",
       " [60.18259938620976, 86.30855209546826, 1.0],\n",
       " [79.0327360507101, 75.3443764369103, 1.0],\n",
       " [45.08327747668339, 56.3163717815305, 0.0],\n",
       " [61.10666453684766, 96.51142588489624, 1.0],\n",
       " [75.02474556738889, 46.55401354116538, 1.0],\n",
       " [76.09878670226257, 87.42056971926803, 1.0],\n",
       " [84.43281996120035, 43.53339331072109, 1.0],\n",
       " [95.86155507093572, 38.22527805795094, 0.0],\n",
       " [75.01365838958247, 30.60326323428011, 0.0],\n",
       " [82.30705337399482, 76.48196330235604, 1.0],\n",
       " [69.36458875970939, 97.71869196188608, 1.0],\n",
       " [39.53833914367223, 76.03681085115882, 0.0],\n",
       " [53.9710521485623, 89.20735013750205, 1.0],\n",
       " [69.07014406283025, 52.74046973016765, 1.0],\n",
       " [67.94685547711617, 46.67857410673128, 0.0],\n",
       " [70.66150955499435, 92.92713789364831, 1.0],\n",
       " [76.97878372747498, 47.57596364975532, 1.0],\n",
       " [67.37202754570876, 42.83843832029179, 0.0],\n",
       " [89.6767757507208, 65.79936592745237, 1.0],\n",
       " [50.534788289883, 48.85581152764205, 0.0],\n",
       " [34.21206097786789, 44.20952859866288, 0.0],\n",
       " [77.9240914545704, 68.9723599933059, 1.0],\n",
       " [62.27101367004632, 69.95445795447587, 1.0],\n",
       " [80.1901807509566, 44.82162893218353, 1.0],\n",
       " [93.114388797442, 38.80067033713209, 0.0],\n",
       " [61.83020602312595, 50.25610789244621, 0.0],\n",
       " [38.78580379679423, 64.99568095539578, 0.0],\n",
       " [61.379289447425, 72.80788731317097, 1.0],\n",
       " [85.40451939411645, 57.05198397627122, 1.0],\n",
       " [52.10797973193984, 63.12762376881715, 0.0],\n",
       " [52.04540476831827, 69.43286012045222, 1.0],\n",
       " [40.23689373545111, 71.16774802184875, 0.0],\n",
       " [54.63510555424817, 52.21388588061123, 0.0],\n",
       " [33.91550010906887, 98.86943574220611, 0.0],\n",
       " [64.17698887494485, 80.90806058670817, 1.0],\n",
       " [74.78925295941542, 41.57341522824434, 0.0],\n",
       " [34.1836400264419, 75.2377203360134, 0.0],\n",
       " [83.90239366249155, 56.30804621605327, 1.0],\n",
       " [51.54772026906181, 46.85629026349976, 0.0],\n",
       " [94.44336776917852, 65.56892160559052, 1.0],\n",
       " [82.36875375713919, 40.61825515970618, 0.0],\n",
       " [51.04775177128865, 45.82270145776001, 0.0],\n",
       " [62.22267576120188, 52.06099194836679, 0.0],\n",
       " [77.19303492601364, 70.45820000180959, 1.0],\n",
       " [97.77159928000232, 86.7278223300282, 1.0],\n",
       " [62.07306379667647, 96.76882412413983, 1.0],\n",
       " [91.56497449807442, 88.696292545466, 1.0],\n",
       " [79.94481794066932, 74.16311935043758, 1.0],\n",
       " [99.2725269292572, 60.99903099844988, 1.0],\n",
       " [90.54671411399852, 43.39060180650027, 1.0],\n",
       " [34.52451385320009, 60.39634245837173, 0.0],\n",
       " [50.2864961189907, 49.80453881323059, 0.0],\n",
       " [49.58667721632031, 59.80895099453265, 0.0],\n",
       " [97.64563396007767, 68.86157272420604, 1.0],\n",
       " [32.57720016809309, 95.59854761387875, 0.0],\n",
       " [74.24869136721598, 69.82457122657193, 1.0],\n",
       " [71.7964620586338, 78.45356224515052, 1.0],\n",
       " [75.3956114656803, 85.75993667331619, 1.0],\n",
       " [35.28611281526193, 47.02051394723416, 0.0],\n",
       " [56.25381749711624, 39.26147251058019, 0.0],\n",
       " [30.05882244669796, 49.59297386723685, 0.0],\n",
       " [44.66826172480893, 66.45008614558913, 0.0],\n",
       " [66.56089447242954, 41.09209807936973, 0.0],\n",
       " [40.45755098375164, 97.53518548909936, 1.0],\n",
       " [49.07256321908844, 51.88321182073966, 0.0],\n",
       " [80.27957401466998, 92.11606081344084, 1.0],\n",
       " [66.74671856944039, 60.99139402740988, 1.0],\n",
       " [32.72283304060323, 43.30717306430063, 0.0],\n",
       " [64.0393204150601, 78.03168802018232, 1.0],\n",
       " [72.34649422579923, 96.22759296761404, 1.0],\n",
       " [60.45788573918959, 73.09499809758037, 1.0],\n",
       " [58.84095621726802, 75.85844831279042, 1.0],\n",
       " [99.82785779692128, 72.36925193383885, 1.0],\n",
       " [47.26426910848174, 88.47586499559782, 1.0],\n",
       " [50.45815980285988, 75.80985952982456, 1.0],\n",
       " [60.45555629271532, 42.50840943572217, 0.0],\n",
       " [82.22666157785568, 42.71987853716458, 0.0],\n",
       " [88.9138964166533, 69.80378889835472, 1.0],\n",
       " [94.83450672430196, 45.69430680250754, 1.0],\n",
       " [67.31925746917527, 66.58935317747915, 1.0],\n",
       " [57.23870631569862, 59.51428198012956, 1.0],\n",
       " [80.36675600171273, 90.96014789746954, 1.0],\n",
       " [68.46852178591112, 85.59430710452014, 1.0],\n",
       " [42.0754545384731, 78.84478600148043, 0.0],\n",
       " [75.47770200533905, 90.42453899753964, 1.0],\n",
       " [78.63542434898018, 96.64742716885644, 1.0],\n",
       " [52.34800398794107, 60.76950525602592, 0.0],\n",
       " [94.09433112516793, 77.15910509073893, 1.0],\n",
       " [90.44855097096364, 87.50879176484702, 1.0],\n",
       " [55.48216114069585, 35.57070347228866, 0.0],\n",
       " [74.49269241843041, 84.84513684930135, 1.0],\n",
       " [89.84580670720979, 45.35828361091658, 1.0],\n",
       " [83.48916274498238, 48.38028579728175, 1.0],\n",
       " [42.2617008099817, 87.10385094025457, 1.0],\n",
       " [99.31500880510394, 68.77540947206617, 1.0],\n",
       " [55.34001756003703, 64.9319380069486, 1.0],\n",
       " [74.77589300092767, 89.52981289513276, 1.0]]"
      ]
     },
     "execution_count": 41,
     "metadata": {},
     "output_type": "execute_result"
    }
   ],
   "source": [
    "data"
   ]
  },
  {
   "cell_type": "code",
   "execution_count": 3,
   "metadata": {},
   "outputs": [],
   "source": [
    "data_0=[]\n",
    "data_1=[]\n",
    "\n",
    "for d in data:\n",
    "    if d[2]==0:\n",
    "        data_0.append(d)\n",
    "    elif d[2]==1:\n",
    "        data_1.append(d)"
   ]
  },
  {
   "cell_type": "code",
   "execution_count": 6,
   "metadata": {},
   "outputs": [],
   "source": [
    "data_0_np=np.array(data_0)\n",
    "data_1_np=np.array(data_1)\n",
    "\n",
    "\n",
    "data_np=np.array(data)\n"
   ]
  },
  {
   "cell_type": "code",
   "execution_count": 7,
   "metadata": {},
   "outputs": [],
   "source": [
    "X1_0=np.array([data_0_np[:,0]]).transpose()\n",
    "X1_1=np.array([data_1_np[:,0]]).transpose()\n",
    "X2_0=np.array([data_0_np[:,1]]).transpose()\n",
    "X2_1=np.array([data_1_np[:,1]]).transpose()\n",
    "y_0=np.array([data_0_np[:,2]]).transpose()\n",
    "y_1=np.array([data_1_np[:,2]]).transpose()\n",
    "X_0=np.array(data_0_np[:,:2])\n",
    "X_1=np.array(data_1_np[:,:2])\n",
    "\n",
    "X1=np.array([data_np[:,0]]).transpose()\n",
    "X2=np.array([data_np[:,1]]).transpose()\n",
    "X=np.append(np.ones((np.array(data_np[:,:2]).shape[0],1)),np.array(data_np[:,:2]), 1)\n",
    "y=np.array([data_np[:,2]]).transpose()\n",
    "\n",
    "initial_theta=np.zeros([X.shape[1], 1])"
   ]
  },
  {
   "cell_type": "markdown",
   "metadata": {},
   "source": [
    "# normalizing"
   ]
  },
  {
   "cell_type": "code",
   "execution_count": 50,
   "metadata": {},
   "outputs": [],
   "source": [
    "X_norm=np.ones(X.shape)\n",
    "for i in range(1, X.shape[1]):\n",
    "    X_norm[:,i]=(X[:,i]-(X[:,i].sum()/X[:,i].shape[0]))/(X[:,i].max()-X[:,i].min())"
   ]
  },
  {
   "cell_type": "code",
   "execution_count": 51,
   "metadata": {},
   "outputs": [],
   "source": [
    "X3=X1**2\n",
    "X4=X2**2\n",
    "X5=X1*X2\n",
    "X_poly=np.append(X, X3,1)\n",
    "X_poly=np.append(X_poly, X4, 1)\n",
    "X_poly=np.append(X_poly, X5, 1)"
   ]
  },
  {
   "cell_type": "code",
   "execution_count": 52,
   "metadata": {},
   "outputs": [],
   "source": [
    "X_poly_norm=np.ones(X_poly.shape)\n",
    "for i in range(1, X_poly.shape[1]):\n",
    "    X_poly_norm[:,i]=(X_poly[:,i]-(X_poly[:,i].sum()/X_poly[:,i].shape[0]))/(X_poly[:,i].max()-X_poly[:,i].min())"
   ]
  },
  {
   "cell_type": "markdown",
   "metadata": {},
   "source": [
    "# data plotting"
   ]
  },
  {
   "cell_type": "code",
   "execution_count": 53,
   "metadata": {},
   "outputs": [
    {
     "data": {
      "image/png": "[encoded data removed]",
      "text/plain": [
       "<Figure size 432x288 with 1 Axes>"
      ]
     },
     "metadata": {
      "needs_background": "light"
     },
     "output_type": "display_data"
    }
   ],
   "source": [
    "plt.plot(X1_0, X2_0, 'o', label='0')\n",
    "plt.plot(X1_1, X2_1, '+', label='1')\n",
    "plt.xlabel('X1')\n",
    "plt.ylabel('X2')\n",
    "plt.legend()\n",
    "plt.show()"
   ]
  },
  {
   "cell_type": "code",
   "execution_count": 80,
   "metadata": {},
   "outputs": [],
   "source": [
    "def sigmoid(z):\n",
    "    if(type(z)!=np.ndarray):\n",
    "        try:\n",
    "            return 1/(1+math.exp(-z))\n",
    "        except OverflowError:\n",
    "            return float('inf')\n",
    "    else:\n",
    "        g=np.zeros(z.shape)\n",
    "        for i in range(z.shape[0]):\n",
    "            try:\n",
    "                g[i]=1/(1+math.exp(-z[i]))\n",
    "            except OverflowError:\n",
    "                g[i]=float('inf')\n",
    "        return g\n",
    "    \n",
    "def log(x): #input type = np.ndarray, return type = np.ndarray\n",
    "    g=np.zeros(x.shape)\n",
    "    for i in range(x.shape[0]):\n",
    "        try:\n",
    "            g[i]=math.log(x[i])\n",
    "        except OverflowError:\n",
    "            g[i] = float('inf')\n",
    "    return g\n",
    "\n",
    "def costFunction(theta, X, y):\n",
    "    m=y.shape[0]\n",
    "    grad=np.zeros(theta.shape[0])\n",
    "    J=(1/m)*(-np.dot(y.transpose(), log(sigmoid(np.dot(X, theta)))) - (np.dot((1-y).transpose(), log(1-sigmoid(np.dot(X, theta))))))\n",
    "    grad=((1/m)*np.dot((sigmoid(np.dot(X, theta))-y).transpose(),X)).transpose()\n",
    "    \n",
    "    return [float(J), grad]\n",
    "\n",
    "def forward(X, theta):\n",
    "    return sigmoid(np.dot(X, theta))\n",
    "\n",
    "def train(X, y):\n",
    "    theta=np.zeros([X.shape[1], 1])\n",
    "    print('Training start\\tJ=', costFunction(theta, X, y)[0])\n",
    "    print('grad :', costFunction(theta, X, y)[1])\n",
    "    for epoch in range(1, epochs+1):\n",
    "        [J, grad] = costFunction(theta, X, y)\n",
    "        theta = theta- lr*grad\n",
    "        \n",
    "        if(epoch%(epochs/10)==0):\n",
    "            print(\"epoch:\", epoch+1, \"cost:\", J)\n",
    "            print(\"theta:\", theta)\n",
    "\n",
    "            \n",
    "    return theta"
   ]
  },
  {
   "cell_type": "code",
   "execution_count": null,
   "metadata": {},
   "outputs": [],
   "source": [
    "30000\n",
    "3000"
   ]
  },
  {
   "cell_type": "markdown",
   "metadata": {},
   "source": [
    "# 학습되지 않은 decision boundary"
   ]
  },
  {
   "cell_type": "code",
   "execution_count": 81,
   "metadata": {},
   "outputs": [
    {
     "data": {
      "image/png": "[encoded data removed]",
      "text/plain": [
       "<Figure size 432x288 with 1 Axes>"
      ]
     },
     "metadata": {
      "needs_background": "light"
     },
     "output_type": "display_data"
    }
   ],
   "source": [
    "plt.plot(X1_0, X2_0, 'o', label='0')\n",
    "plt.plot(X1_1, X2_1, '+', label='1')\n",
    "plt.plot(X1, forward(X, initial_theta), label='decision boundary')\n",
    "plt.xlabel('X1')\n",
    "plt.ylabel('X2')\n",
    "plt.legend()\n",
    "plt.show()"
   ]
  },
  {
   "cell_type": "code",
   "execution_count": 86,
   "metadata": {},
   "outputs": [
    {
     "name": "stdout",
     "output_type": "stream",
     "text": [
      "Training start\tJ= 0.6931471805599453\n",
      "grad : [[-0.1       ]\n",
      " [-0.0780402 ]\n",
      " [-0.06797865]]\n",
      "epoch: 3001 cost: 0.47189376512711606\n",
      "theta: [[0.43692905]\n",
      " [1.82172872]\n",
      " [1.60948626]]\n",
      "epoch: 6001 cost: 0.3877764093340101\n",
      "theta: [[0.49730519]\n",
      " [2.99049173]\n",
      " [2.67040602]]\n",
      "epoch: 9001 cost: 0.3432731922833685\n",
      "theta: [[0.5559606 ]\n",
      " [3.83514885]\n",
      " [3.45139682]]\n",
      "epoch: 12001 cost: 0.31574482227552453\n",
      "theta: [[0.60932883]\n",
      " [4.49607447]\n",
      " [4.07030621]]\n",
      "epoch: 15001 cost: 0.29695537304013064\n",
      "theta: [[0.65748465]\n",
      " [5.0398859 ]\n",
      " [4.58431214]]\n",
      "epoch: 18001 cost: 0.2832606848002453\n",
      "theta: [[0.70108941]\n",
      " [5.50262516]\n",
      " [5.02483946]]\n",
      "epoch: 21001 cost: 0.2728061380144123\n",
      "theta: [[0.74081163]\n",
      " [5.90584517]\n",
      " [5.41089946]]\n",
      "epoch: 24001 cost: 0.26454734765855326\n",
      "theta: [[0.77722288]\n",
      " [6.26343089]\n",
      " [5.7548535 ]]\n",
      "epoch: 27001 cost: 0.25784992867234946\n",
      "theta: [[0.81079274]\n",
      " [6.5848483 ]\n",
      " [6.06519562]]\n",
      "epoch: 30001 cost: 0.2523053223688379\n",
      "theta: [[0.84190413]\n",
      " [6.87684246]\n",
      " [6.34802109]]\n"
     ]
    }
   ],
   "source": [
    "epochs=30000\n",
    "lr=0.01\n",
    "theta = train(X_norm, y)"
   ]
  },
  {
   "cell_type": "markdown",
   "metadata": {},
   "source": [
    "gradient descent 방식으로 하니까 learning rate 선정도 까다롭고, 학습속도도 너무 느리다. 다른 방식을 써야 하나 싶다"
   ]
  },
  {
   "cell_type": "code",
   "execution_count": 87,
   "metadata": {
    "scrolled": false
   },
   "outputs": [],
   "source": [
    "plot_x=np.array(([X[:,1].min()-2, X[:,1].max()+2]))\n",
    "avg=np.array([X[:,1].sum()/X[:,1].shape[0], X[:,1].sum()/X[:,1].shape[0]])\n",
    "plot_y=((-1)/theta[2][0])*(theta[1][0]*(plot_x-avg)+theta[0][0])+[sum([X[:,2].min()-2, X[:,2].max()+2])/2,sum([X[:,2].min()-2, X[:,2].max()+2])/2]"
   ]
  },
  {
   "cell_type": "code",
   "execution_count": 88,
   "metadata": {},
   "outputs": [
    {
     "data": {
      "text/plain": [
       "array([105.32022941,  25.40587061])"
      ]
     },
     "execution_count": 88,
     "metadata": {},
     "output_type": "execute_result"
    }
   ],
   "source": [
    "plot_y"
   ]
  },
  {
   "cell_type": "markdown",
   "metadata": {},
   "source": [
    "### 학습 된 Decision Boundary"
   ]
  },
  {
   "cell_type": "code",
   "execution_count": 131,
   "metadata": {},
   "outputs": [
    {
     "data": {
      "image/png": "[encoded data removed]",
      "text/plain": [
       "<Figure size 432x288 with 1 Axes>"
      ]
     },
     "metadata": {
      "needs_background": "light"
     },
     "output_type": "display_data"
    }
   ],
   "source": [
    "plt.plot(plot_x, plot_y, label='decision boundary')\n",
    "plt.plot(X1_0, X2_0, 'o', label='0')\n",
    "plt.plot(X1_1, X2_1, '+', label='1')\n",
    "\n",
    "plt.xlabel('X1')\n",
    "plt.ylabel('X2')\n",
    "plt.legend()\n",
    "plt.show()"
   ]
  },
  {
   "cell_type": "code",
   "execution_count": 133,
   "metadata": {},
   "outputs": [
    {
     "name": "stdout",
     "output_type": "stream",
     "text": [
      "Training start\tJ= 0.6931471805599453\n",
      "grad : [[-0.1       ]\n",
      " [-0.0780402 ]\n",
      " [-0.06797865]\n",
      " [-0.07399532]\n",
      " [-0.06750749]\n",
      " [-0.09298631]]\n",
      "epoch: 10001 cost: 0.2620706805140113\n",
      "theta: [[0.88546151]\n",
      " [2.4845781 ]\n",
      " [2.18437584]\n",
      " [2.14355949]\n",
      " [1.97972719]\n",
      " [3.08704124]]\n",
      "epoch: 20001 cost: 0.23086484889593387\n",
      "theta: [[1.16385797]\n",
      " [3.26268773]\n",
      " [2.90563724]\n",
      " [2.60611337]\n",
      " [2.44837546]\n",
      " [4.26834418]]\n",
      "epoch: 30001 cost: 0.21775829901332053\n",
      "theta: [[1.34385679]\n",
      " [3.74770187]\n",
      " [3.36398134]\n",
      " [2.77877957]\n",
      " [2.6452384 ]\n",
      " [5.13486643]]\n",
      "epoch: 40001 cost: 0.2098763519352039\n",
      "theta: [[1.47590395]\n",
      " [4.10046306]\n",
      " [3.69939433]\n",
      " [2.82143565]\n",
      " [2.71594925]\n",
      " [5.85808107]]\n",
      "epoch: 50001 cost: 0.2042068847153387\n",
      "theta: [[1.57957983]\n",
      " [4.37668191]\n",
      " [3.96265499]\n",
      " [2.79006934]\n",
      " [2.71381627]\n",
      " [6.49687186]]\n",
      "epoch: 60001 cost: 0.1996735602131797\n",
      "theta: [[1.66464038]\n",
      " [4.60298556]\n",
      " [4.17856731]\n",
      " [2.71166325]\n",
      " [2.66508393]\n",
      " [7.07912941]]\n",
      "epoch: 70001 cost: 0.1958018823835127\n",
      "theta: [[1.7366856 ]\n",
      " [4.79438943]\n",
      " [4.36125425]\n",
      " [2.60152743]\n",
      " [2.58479161]\n",
      " [7.62044232]]\n",
      "epoch: 80001 cost: 0.19235393524218236\n",
      "theta: [[1.79923567]\n",
      " [4.96026141]\n",
      " [4.5195657 ]\n",
      " [2.46925604]\n",
      " [2.48240991]\n",
      " [8.13046425]]\n",
      "epoch: 90001 cost: 0.18919938058865363\n",
      "theta: [[1.85464713]\n",
      " [5.10685749]\n",
      " [4.65942304]\n",
      " [2.32127423]\n",
      " [2.36429661]\n",
      " [8.61560753]]\n",
      "epoch: 100001 cost: 0.18626192393348273\n",
      "theta: [[1.90457124]\n",
      " [5.2385637 ]\n",
      " [4.78498029]\n",
      " [2.16209176]\n",
      " [2.23491874]\n",
      " [9.08035452]]\n"
     ]
    }
   ],
   "source": [
    "epochs=100000\n",
    "lr=0.01\n",
    "theta_norm = train(X_poly_norm, y)"
   ]
  },
  {
   "cell_type": "code",
   "execution_count": 134,
   "metadata": {},
   "outputs": [],
   "source": [
    "res=forward(X_poly_norm, theta_norm)\n",
    "\n",
    "for i in range(len(res)):\n",
    "    if(res[i]>=0.5):\n",
    "        res[i]=1\n",
    "    else:\n",
    "        res[i]=0"
   ]
  },
  {
   "cell_type": "code",
   "execution_count": 166,
   "metadata": {},
   "outputs": [],
   "source": [
    "def mapFeature(X1, X2, degree):\n",
    "    res = np.ones(X1.shape[0])\n",
    "    for i in range(1,degree + 1):\n",
    "        for j in range(0,i + 1):\n",
    "            res = np.column_stack((res, (X1 ** (i-j)) * (X2 ** j)))\n",
    "    \n",
    "    return res\n",
    "\n",
    "\n",
    "def plotDecisionBoundary(theta, degree, axes):\n",
    "    u = np.linspace(25, 110, 80)\n",
    "    v = np.linspace(25, 110, 80)\n",
    "    U,V = np.meshgrid(u,v)\n",
    "    # convert U, V to vectors for calculating additional features\n",
    "    # using vectorized implementation\n",
    "    U = np.ravel(U)\n",
    "    V = np.ravel(V)\n",
    "    Z = np.zeros((len(u) * len(v)))\n",
    "    \n",
    "    X_poly = mapFeature(U, V, degree)\n",
    "    Z = X_poly.dot(theta)\n",
    "    \n",
    "    # reshape U, V, Z back to matrix\n",
    "    U = U.reshape((len(u), len(v)))\n",
    "    V = V.reshape((len(u), len(v)))\n",
    "    Z = Z.reshape((len(u), len(v)))\n",
    "    \n",
    "    cs = axes.contour(U,V,Z,levels=[0],cmap= \"Greys_r\")\n",
    "    axes.legend(labels=['1', '0', 'Decision Boundary'])\n",
    "    return cs"
   ]
  },
  {
   "cell_type": "code",
   "execution_count": 167,
   "metadata": {},
   "outputs": [
    {
     "data": {
      "text/plain": [
       "array([-1.        , -0.94897959, -0.89795918, -0.84693878, -0.79591837,\n",
       "       -0.74489796, -0.69387755, -0.64285714, -0.59183673, -0.54081633,\n",
       "       -0.48979592, -0.43877551, -0.3877551 , -0.33673469, -0.28571429,\n",
       "       -0.23469388, -0.18367347, -0.13265306, -0.08163265, -0.03061224,\n",
       "        0.02040816,  0.07142857,  0.12244898,  0.17346939,  0.2244898 ,\n",
       "        0.2755102 ,  0.32653061,  0.37755102,  0.42857143,  0.47959184,\n",
       "        0.53061224,  0.58163265,  0.63265306,  0.68367347,  0.73469388,\n",
       "        0.78571429,  0.83673469,  0.8877551 ,  0.93877551,  0.98979592,\n",
       "        1.04081633,  1.09183673,  1.14285714,  1.19387755,  1.24489796,\n",
       "        1.29591837,  1.34693878,  1.39795918,  1.44897959,  1.5       ])"
      ]
     },
     "execution_count": 167,
     "metadata": {},
     "output_type": "execute_result"
    }
   ],
   "source": [
    "np.linspace(-1, 1.5, 50)"
   ]
  },
  {
   "cell_type": "code",
   "execution_count": 173,
   "metadata": {},
   "outputs": [
    {
     "name": "stderr",
     "output_type": "stream",
     "text": [
      "C:\\Users\\admin\\AppData\\Local\\Continuum\\anaconda3\\lib\\site-packages\\ipykernel_launcher.py:28: UserWarning: No contour levels were found within the data range.\n"
     ]
    },
    {
     "data": {
      "text/plain": [
       "<matplotlib.contour.QuadContourSet at 0x17a8d2b53c8>"
      ]
     },
     "execution_count": 173,
     "metadata": {},
     "output_type": "execute_result"
    },
    {
     "data": {
      "image/png": "[encoded data removed]",
      "text/plain": [
       "<Figure size 432x288 with 1 Axes>"
      ]
     },
     "metadata": {
      "needs_background": "light"
     },
     "output_type": "display_data"
    }
   ],
   "source": [
    "fig, axes = plt.subplots();\n",
    "axes.set_xlabel('X1')\n",
    "axes.set_ylabel('X2')\n",
    "axes.scatter(X1_0, X2_0, color = 'r', marker='o', label='Faulty')\n",
    "axes.scatter(X1_1, X2_1, color = 'g', marker='x', label='Good')\n",
    "#axes.legend(title='Legend', loc = 'best' )\n",
    "\n",
    "degree=2\n",
    "\n",
    "plotDecisionBoundary(theta_norm, degree, axes)"
   ]
  }
 ],
 "metadata": {
  "kernelspec": {
   "display_name": "Python 3",
   "language": "python",
   "name": "python3"
  },
  "language_info": {
   "codemirror_mode": {
    "name": "ipython",
    "version": 3
   },
   "file_extension": ".py",
   "mimetype": "text/x-python",
   "name": "python",
   "nbconvert_exporter": "python",
   "pygments_lexer": "ipython3",
   "version": "3.7.4"
  }
 },
 "nbformat": 4,
 "nbformat_minor": 2
}
