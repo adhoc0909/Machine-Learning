{
 "cells": [
  {
   "cell_type": "markdown",
   "metadata": {},
   "source": [
    "# Linear & polynomial classification problem"
   ]
  },
  {
   "cell_type": "code",
   "execution_count": 4,
   "metadata": {},
   "outputs": [],
   "source": [
    "import csv\n",
    "import matplotlib.pyplot as plt\n",
    "import numpy as np\n",
    "import math\n",
    "data=[]\n",
    "\n",
    "f= open('data1.csv', 'r')\n",
    "reader= csv.reader(f)\n",
    "for line in reader:\n",
    "    data.append(line)\n",
    "f.close()"
   ]
  },
  {
   "cell_type": "code",
   "execution_count": 5,
   "metadata": {},
   "outputs": [],
   "source": [
    "for i in range(len(data)):\n",
    "    data[i]=list(map(float, data[i]))\n",
    "    \n"
   ]
  },
  {
   "cell_type": "code",
   "execution_count": 6,
   "metadata": {},
   "outputs": [],
   "source": [
    "data_0=[]\n",
    "data_1=[]\n",
    "\n",
    "for d in data:\n",
    "    if d[2]==0:\n",
    "        data_0.append(d)\n",
    "    elif d[2]==1:\n",
    "        data_1.append(d)"
   ]
  },
  {
   "cell_type": "code",
   "execution_count": 7,
   "metadata": {},
   "outputs": [],
   "source": [
    "data_0_np=np.array(data_0)\n",
    "data_1_np=np.array(data_1)\n",
    "\n",
    "\n",
    "data_np=np.array(data)\n"
   ]
  },
  {
   "cell_type": "code",
   "execution_count": 8,
   "metadata": {},
   "outputs": [],
   "source": [
    "X1_0=np.array([data_0_np[:,0]]).transpose()\n",
    "X1_1=np.array([data_1_np[:,0]]).transpose()\n",
    "X2_0=np.array([data_0_np[:,1]]).transpose()\n",
    "X2_1=np.array([data_1_np[:,1]]).transpose()\n",
    "y_0=np.array([data_0_np[:,2]]).transpose()\n",
    "y_1=np.array([data_1_np[:,2]]).transpose()\n",
    "X_0=np.array(data_0_np[:,:2])\n",
    "X_1=np.array(data_1_np[:,:2])\n",
    "\n",
    "X1=np.array([data_np[:,0]]).transpose()\n",
    "X2=np.array([data_np[:,1]]).transpose()\n",
    "X=np.append(np.ones((np.array(data_np[:,:2]).shape[0],1)),np.array(data_np[:,:2]), 1)\n",
    "y=np.array([data_np[:,2]]).transpose()\n",
    "\n",
    "initial_theta=np.zeros([X.shape[1], 1])"
   ]
  },
  {
   "cell_type": "markdown",
   "metadata": {},
   "source": [
    "# normalizing"
   ]
  },
  {
   "cell_type": "code",
   "execution_count": 9,
   "metadata": {},
   "outputs": [],
   "source": [
    "X_norm=np.ones(X.shape)\n",
    "for i in range(1, X.shape[1]):\n",
    "    X_norm[:,i]=(X[:,i]-(X[:,i].sum()/X[:,i].shape[0]))/(X[:,i].max()-X[:,i].min())"
   ]
  },
  {
   "cell_type": "code",
   "execution_count": 11,
   "metadata": {},
   "outputs": [],
   "source": [
    "X3=X1**2\n",
    "X4=X2**2\n",
    "X5=X1*X2\n",
    "X_poly=np.append(X, X3,1)\n",
    "X_poly=np.append(X_poly, X4, 1)\n",
    "X_poly=np.append(X_poly, X5, 1)"
   ]
  },
  {
   "cell_type": "code",
   "execution_count": 12,
   "metadata": {},
   "outputs": [],
   "source": [
    "X_poly_norm=np.ones(X_poly.shape)\n",
    "for i in range(1, X_poly.shape[1]):\n",
    "    X_poly_norm[:,i]=(X_poly[:,i]-(X_poly[:,i].sum()/X_poly[:,i].shape[0]))/(X_poly[:,i].max()-X_poly[:,i].min())"
   ]
  },
  {
   "cell_type": "markdown",
   "metadata": {},
   "source": [
    "# data plotting"
   ]
  },
  {
   "cell_type": "code",
   "execution_count": 13,
   "metadata": {},
   "outputs": [
    {
     "data": {
      "image/png": "[encoded data removed]",
      "text/plain": [
       "<Figure size 432x288 with 1 Axes>"
      ]
     },
     "metadata": {
      "needs_background": "light"
     },
     "output_type": "display_data"
    }
   ],
   "source": [
    "plt.plot(X1_0, X2_0, 'o', label='0')\n",
    "plt.plot(X1_1, X2_1, '+', label='1')\n",
    "plt.xlabel('X1')\n",
    "plt.ylabel('X2')\n",
    "plt.legend()\n",
    "plt.show()"
   ]
  },
  {
   "cell_type": "code",
   "execution_count": 14,
   "metadata": {},
   "outputs": [],
   "source": [
    "def sigmoid(z):\n",
    "    if(type(z)!=np.ndarray):\n",
    "        try:\n",
    "            return 1/(1+math.exp(-z))\n",
    "        except OverflowError:\n",
    "            return float('inf')\n",
    "    else:\n",
    "        g=np.zeros(z.shape)\n",
    "        for i in range(z.shape[0]):\n",
    "            try:\n",
    "                g[i]=1/(1+math.exp(-z[i]))\n",
    "            except OverflowError:\n",
    "                g[i]=float('inf')\n",
    "        return g\n",
    "    \n",
    "def log(x): #input type = np.ndarray, return type = np.ndarray\n",
    "    g=np.zeros(x.shape)\n",
    "    for i in range(x.shape[0]):\n",
    "        try:\n",
    "            g[i]=math.log(x[i])\n",
    "        except OverflowError:\n",
    "            g[i] = float('inf')\n",
    "    return g\n",
    "\n",
    "def costFunction(theta, X, y):\n",
    "    m=y.shape[0]\n",
    "    grad=np.zeros(theta.shape[0])\n",
    "    J=(1/m)*(-np.dot(y.transpose(), log(sigmoid(np.dot(X, theta)))) - (np.dot((1-y).transpose(), log(1-sigmoid(np.dot(X, theta))))))\n",
    "    grad=((1/m)*np.dot((sigmoid(np.dot(X, theta))-y).transpose(),X)).transpose()\n",
    "    \n",
    "    return [float(J), grad]\n",
    "\n",
    "def forward(X, theta):\n",
    "    return sigmoid(np.dot(X, theta))\n",
    "\n",
    "def train(X, y):\n",
    "    theta=np.zeros([X.shape[1], 1])\n",
    "    print('Training start\\tJ=', costFunction(theta, X, y)[0])\n",
    "    print('grad :', costFunction(theta, X, y)[1])\n",
    "    for epoch in range(1, epochs+1):\n",
    "        [J, grad] = costFunction(theta, X, y)\n",
    "        theta = theta- lr*grad\n",
    "        \n",
    "        if(epoch%(epochs/10)==0):\n",
    "            print(\"epoch:\", epoch, \"cost:\", J)\n",
    "            print(\"theta:\", theta)\n",
    "            \n",
    "    return theta"
   ]
  },
  {
   "cell_type": "markdown",
   "metadata": {},
   "source": [
    "# 학습되지 않은 decision boundary"
   ]
  },
  {
   "cell_type": "code",
   "execution_count": 15,
   "metadata": {},
   "outputs": [
    {
     "data": {
      "image/png": "[encoded data removed]",
      "text/plain": [
       "<Figure size 432x288 with 1 Axes>"
      ]
     },
     "metadata": {
      "needs_background": "light"
     },
     "output_type": "display_data"
    }
   ],
   "source": [
    "plt.plot(X1_0, X2_0, 'o', label='0')\n",
    "plt.plot(X1_1, X2_1, '+', label='1')\n",
    "plt.plot(X1, forward(X, initial_theta), label='decision boundary')\n",
    "plt.xlabel('X1')\n",
    "plt.ylabel('X2')\n",
    "plt.legend()\n",
    "plt.show()"
   ]
  },
  {
   "cell_type": "code",
   "execution_count": 17,
   "metadata": {
    "scrolled": true
   },
   "outputs": [
    {
     "name": "stdout",
     "output_type": "stream",
     "text": [
      "Training start\tJ= 0.6931471805599452\n",
      "grad : [[-0.1       ]\n",
      " [-0.0780402 ]\n",
      " [-0.06797865]]\n",
      "epoch: 3000 cost: 0.471893765127116\n",
      "theta: [[0.43692905]\n",
      " [1.82172872]\n",
      " [1.60948626]]\n",
      "epoch: 6000 cost: 0.3877764093340102\n",
      "theta: [[0.49730519]\n",
      " [2.99049173]\n",
      " [2.67040602]]\n",
      "epoch: 9000 cost: 0.3432731922833684\n",
      "theta: [[0.5559606 ]\n",
      " [3.83514885]\n",
      " [3.45139682]]\n",
      "epoch: 12000 cost: 0.3157448222755245\n",
      "theta: [[0.60932883]\n",
      " [4.49607447]\n",
      " [4.07030621]]\n",
      "epoch: 15000 cost: 0.29695537304013064\n",
      "theta: [[0.65748465]\n",
      " [5.0398859 ]\n",
      " [4.58431214]]\n",
      "epoch: 18000 cost: 0.28326068480024524\n",
      "theta: [[0.70108941]\n",
      " [5.50262516]\n",
      " [5.02483946]]\n",
      "epoch: 21000 cost: 0.2728061380144123\n",
      "theta: [[0.74081163]\n",
      " [5.90584517]\n",
      " [5.41089946]]\n",
      "epoch: 24000 cost: 0.2645473476585533\n",
      "theta: [[0.77722288]\n",
      " [6.26343089]\n",
      " [5.7548535 ]]\n",
      "epoch: 27000 cost: 0.25784992867234946\n",
      "theta: [[0.81079274]\n",
      " [6.5848483 ]\n",
      " [6.06519562]]\n",
      "epoch: 30000 cost: 0.25230532236883785\n",
      "theta: [[0.84190413]\n",
      " [6.87684246]\n",
      " [6.34802109]]\n"
     ]
    }
   ],
   "source": [
    "epochs=30000\n",
    "lr=0.01\n",
    "theta=train(X_norm, y)"
   ]
  },
  {
   "cell_type": "markdown",
   "metadata": {},
   "source": [
    "gradient descent 방식으로 하니까 learning rate 선정도 까다롭고, 학습속도도 너무 느리다. 다른 방식을 써야 하나 싶다"
   ]
  },
  {
   "cell_type": "code",
   "execution_count": 319,
   "metadata": {},
   "outputs": [],
   "source": [
    "expected_theta=np.array([[-25.161], [0.206], [0.201]])"
   ]
  },
  {
   "cell_type": "code",
   "execution_count": 29,
   "metadata": {
    "scrolled": false
   },
   "outputs": [
    {
     "ename": "TypeError",
     "evalue": "unsupported operand type(s) for -: 'list' and 'list'",
     "output_type": "error",
     "traceback": [
      "\u001b[1;31m---------------------------------------------------------------------------\u001b[0m",
      "\u001b[1;31mTypeError\u001b[0m                                 Traceback (most recent call last)",
      "\u001b[1;32m<ipython-input-29-fe41b1bc4a45>\u001b[0m in \u001b[0;36m<module>\u001b[1;34m\u001b[0m\n\u001b[0;32m      1\u001b[0m \u001b[0mplot_x\u001b[0m\u001b[1;33m=\u001b[0m\u001b[1;33m(\u001b[0m\u001b[1;33m[\u001b[0m\u001b[0mX\u001b[0m\u001b[1;33m[\u001b[0m\u001b[1;33m:\u001b[0m\u001b[1;33m,\u001b[0m\u001b[1;36m1\u001b[0m\u001b[1;33m]\u001b[0m\u001b[1;33m.\u001b[0m\u001b[0mmin\u001b[0m\u001b[1;33m(\u001b[0m\u001b[1;33m)\u001b[0m\u001b[1;33m-\u001b[0m\u001b[1;36m2\u001b[0m\u001b[1;33m,\u001b[0m \u001b[0mX\u001b[0m\u001b[1;33m[\u001b[0m\u001b[1;33m:\u001b[0m\u001b[1;33m,\u001b[0m\u001b[1;36m1\u001b[0m\u001b[1;33m]\u001b[0m\u001b[1;33m.\u001b[0m\u001b[0mmax\u001b[0m\u001b[1;33m(\u001b[0m\u001b[1;33m)\u001b[0m\u001b[1;33m+\u001b[0m\u001b[1;36m2\u001b[0m\u001b[1;33m]\u001b[0m\u001b[1;33m)\u001b[0m\u001b[1;33m\u001b[0m\u001b[1;33m\u001b[0m\u001b[0m\n\u001b[0;32m      2\u001b[0m \u001b[0mavg\u001b[0m\u001b[1;33m=\u001b[0m\u001b[1;33m[\u001b[0m\u001b[0mX\u001b[0m\u001b[1;33m[\u001b[0m\u001b[1;33m:\u001b[0m\u001b[1;33m,\u001b[0m\u001b[1;36m1\u001b[0m\u001b[1;33m]\u001b[0m\u001b[1;33m.\u001b[0m\u001b[0msum\u001b[0m\u001b[1;33m(\u001b[0m\u001b[1;33m)\u001b[0m\u001b[1;33m/\u001b[0m\u001b[0mX\u001b[0m\u001b[1;33m[\u001b[0m\u001b[1;33m:\u001b[0m\u001b[1;33m,\u001b[0m\u001b[1;36m1\u001b[0m\u001b[1;33m]\u001b[0m\u001b[1;33m.\u001b[0m\u001b[0mshape\u001b[0m\u001b[1;33m[\u001b[0m\u001b[1;36m0\u001b[0m\u001b[1;33m]\u001b[0m\u001b[1;33m,\u001b[0m \u001b[0mX\u001b[0m\u001b[1;33m[\u001b[0m\u001b[1;33m:\u001b[0m\u001b[1;33m,\u001b[0m\u001b[1;36m1\u001b[0m\u001b[1;33m]\u001b[0m\u001b[1;33m.\u001b[0m\u001b[0msum\u001b[0m\u001b[1;33m(\u001b[0m\u001b[1;33m)\u001b[0m\u001b[1;33m/\u001b[0m\u001b[0mX\u001b[0m\u001b[1;33m[\u001b[0m\u001b[1;33m:\u001b[0m\u001b[1;33m,\u001b[0m\u001b[1;36m1\u001b[0m\u001b[1;33m]\u001b[0m\u001b[1;33m.\u001b[0m\u001b[0mshape\u001b[0m\u001b[1;33m[\u001b[0m\u001b[1;36m0\u001b[0m\u001b[1;33m]\u001b[0m\u001b[1;33m]\u001b[0m\u001b[1;33m\u001b[0m\u001b[1;33m\u001b[0m\u001b[0m\n\u001b[1;32m----> 3\u001b[1;33m \u001b[0mplot_y\u001b[0m\u001b[1;33m=\u001b[0m\u001b[1;33m(\u001b[0m\u001b[1;33m-\u001b[0m\u001b[1;36m1\u001b[0m\u001b[1;33m/\u001b[0m\u001b[0mtheta\u001b[0m\u001b[1;33m[\u001b[0m\u001b[1;36m2\u001b[0m\u001b[1;33m]\u001b[0m\u001b[1;33m)\u001b[0m\u001b[1;33m*\u001b[0m\u001b[1;33m(\u001b[0m\u001b[0mtheta\u001b[0m\u001b[1;33m[\u001b[0m\u001b[1;36m1\u001b[0m\u001b[1;33m]\u001b[0m\u001b[1;33m*\u001b[0m\u001b[1;33m(\u001b[0m\u001b[0mplot_x\u001b[0m\u001b[1;33m-\u001b[0m\u001b[0mavg\u001b[0m\u001b[1;33m)\u001b[0m\u001b[1;33m+\u001b[0m\u001b[0mtheta\u001b[0m\u001b[1;33m[\u001b[0m\u001b[1;36m0\u001b[0m\u001b[1;33m]\u001b[0m\u001b[1;33m)\u001b[0m\u001b[1;33m+\u001b[0m\u001b[1;33m[\u001b[0m\u001b[0msum\u001b[0m\u001b[1;33m(\u001b[0m\u001b[1;33m[\u001b[0m\u001b[0mX\u001b[0m\u001b[1;33m[\u001b[0m\u001b[1;33m:\u001b[0m\u001b[1;33m,\u001b[0m\u001b[1;36m2\u001b[0m\u001b[1;33m]\u001b[0m\u001b[1;33m.\u001b[0m\u001b[0mmin\u001b[0m\u001b[1;33m(\u001b[0m\u001b[1;33m)\u001b[0m\u001b[1;33m-\u001b[0m\u001b[1;36m2\u001b[0m\u001b[1;33m,\u001b[0m \u001b[0mX\u001b[0m\u001b[1;33m[\u001b[0m\u001b[1;33m:\u001b[0m\u001b[1;33m,\u001b[0m\u001b[1;36m2\u001b[0m\u001b[1;33m]\u001b[0m\u001b[1;33m.\u001b[0m\u001b[0mmax\u001b[0m\u001b[1;33m(\u001b[0m\u001b[1;33m)\u001b[0m\u001b[1;33m+\u001b[0m\u001b[1;36m2\u001b[0m\u001b[1;33m]\u001b[0m\u001b[1;33m)\u001b[0m\u001b[1;33m/\u001b[0m\u001b[1;36m2\u001b[0m\u001b[1;33m,\u001b[0m\u001b[0msum\u001b[0m\u001b[1;33m(\u001b[0m\u001b[1;33m[\u001b[0m\u001b[0mX\u001b[0m\u001b[1;33m[\u001b[0m\u001b[1;33m:\u001b[0m\u001b[1;33m,\u001b[0m\u001b[1;36m2\u001b[0m\u001b[1;33m]\u001b[0m\u001b[1;33m.\u001b[0m\u001b[0mmin\u001b[0m\u001b[1;33m(\u001b[0m\u001b[1;33m)\u001b[0m\u001b[1;33m-\u001b[0m\u001b[1;36m2\u001b[0m\u001b[1;33m,\u001b[0m \u001b[0mX\u001b[0m\u001b[1;33m[\u001b[0m\u001b[1;33m:\u001b[0m\u001b[1;33m,\u001b[0m\u001b[1;36m2\u001b[0m\u001b[1;33m]\u001b[0m\u001b[1;33m.\u001b[0m\u001b[0mmax\u001b[0m\u001b[1;33m(\u001b[0m\u001b[1;33m)\u001b[0m\u001b[1;33m+\u001b[0m\u001b[1;36m2\u001b[0m\u001b[1;33m]\u001b[0m\u001b[1;33m)\u001b[0m\u001b[1;33m/\u001b[0m\u001b[1;36m2\u001b[0m\u001b[1;33m]\u001b[0m\u001b[1;33m\u001b[0m\u001b[1;33m\u001b[0m\u001b[0m\n\u001b[0m",
      "\u001b[1;31mTypeError\u001b[0m: unsupported operand type(s) for -: 'list' and 'list'"
     ]
    }
   ],
   "source": [
    "plot_x=([X[:,1].min()-2, X[:,1].max()+2])\n",
    "avg=[X[:,1].sum()/X[:,1].shape[0], X[:,1].sum()/X[:,1].shape[0]]\n",
    "plot_y=(-1/theta[2])*(theta[1]*(plot_x-avg)+theta[0])+[sum([X[:,2].min()-2, X[:,2].max()+2])/2,sum([X[:,2].min()-2, X[:,2].max()+2])/2]"
   ]
  },
  {
   "cell_type": "code",
   "execution_count": 31,
   "metadata": {},
   "outputs": [
    {
     "data": {
      "text/plain": [
       "array([ -30.52888501, -110.44324382])"
      ]
     },
     "execution_count": 31,
     "metadata": {},
     "output_type": "execute_result"
    }
   ],
   "source": [
    "plot_y"
   ]
  },
  {
   "cell_type": "code",
   "execution_count": 19,
   "metadata": {},
   "outputs": [
    {
     "data": {
      "image/png": "[encoded data removed]",
      "text/plain": [
       "<Figure size 432x288 with 1 Axes>"
      ]
     },
     "metadata": {
      "needs_background": "light"
     },
     "output_type": "display_data"
    }
   ],
   "source": [
    "plt.plot(plot_x, plot_y, label='decision boundary')\n",
    "plt.plot(X1_0, X2_0, 'o', label='0')\n",
    "plt.plot(X1_1, X2_1, '+', label='1')\n",
    "\n",
    "plt.xlabel('X1')\n",
    "plt.ylabel('X2')\n",
    "plt.legend()\n",
    "plt.show()"
   ]
  },
  {
   "cell_type": "code",
   "execution_count": 384,
   "metadata": {},
   "outputs": [
    {
     "data": {
      "text/plain": [
       "array([0.99999799])"
      ]
     },
     "execution_count": 384,
     "metadata": {},
     "output_type": "execute_result"
    }
   ],
   "source": [
    "forward([1,100,100], theta)"
   ]
  },
  {
   "cell_type": "code",
   "execution_count": 389,
   "metadata": {},
   "outputs": [
    {
     "name": "stdout",
     "output_type": "stream",
     "text": [
      "Training start\tJ= 0.6931471805599452\n",
      "grad : [[-0.1       ]\n",
      " [-0.0780402 ]\n",
      " [-0.06797865]\n",
      " [-0.07399532]\n",
      " [-0.06750749]\n",
      " [-0.09298631]]\n",
      "epoch: 10000 cost: 0.2620706805140113\n",
      "theta: [[0.88546151]\n",
      " [2.4845781 ]\n",
      " [2.18437584]\n",
      " [2.14355949]\n",
      " [1.97972719]\n",
      " [3.08704124]]\n",
      "grad [[-0.0036639 ]\n",
      " [-0.01066967]\n",
      " [-0.00972413]\n",
      " [-0.00747988]\n",
      " [-0.00728414]\n",
      " [-0.01491623]]\n",
      "epoch: 20000 cost: 0.23086484889593387\n",
      "theta: [[1.16385797]\n",
      " [3.26268773]\n",
      " [2.90563724]\n",
      " [2.60611337]\n",
      " [2.44837546]\n",
      " [4.26834418]]\n",
      "grad [[-0.00215821]\n",
      " [-0.00586524]\n",
      " [-0.0055131 ]\n",
      " [-0.00273006]\n",
      " [-0.00292826]\n",
      " [-0.00975763]]\n",
      "epoch: 30000 cost: 0.21775829901332053\n",
      "theta: [[1.34385679]\n",
      " [3.74770187]\n",
      " [3.36398134]\n",
      " [2.77877957]\n",
      " [2.6452384 ]\n",
      " [5.13486643]]\n",
      "grad [[-0.00151398]\n",
      " [-0.00405429]\n",
      " [-0.00384751]\n",
      " [-0.00094183]\n",
      " [-0.00121095]\n",
      " [-0.007806  ]]\n",
      "epoch: 40000 cost: 0.2098763519352039\n",
      "theta: [[1.47590395]\n",
      " [4.10046306]\n",
      " [3.69939433]\n",
      " [2.82143565]\n",
      " [2.71594925]\n",
      " [5.85808107]]\n",
      "grad [[-1.15712566e-03]\n",
      " [-3.08563617e-03]\n",
      " [-2.93846893e-03]\n",
      " [ 3.43680381e-06]\n",
      " [-2.84966982e-04]\n",
      " [-6.74772191e-03]]\n",
      "epoch: 50000 cost: 0.20420688471533868\n",
      "theta: [[1.57957983]\n",
      " [4.37668191]\n",
      " [3.96265499]\n",
      " [2.79006934]\n",
      " [2.71381627]\n",
      " [6.49687186]]\n",
      "grad [[-0.0009319 ]\n",
      " [-0.00248087]\n",
      " [-0.00236609]\n",
      " [ 0.00058116]\n",
      " [ 0.00028596]\n",
      " [-0.00607217]]\n",
      "epoch: 60000 cost: 0.19967356021317964\n",
      "theta: [[1.66464038]\n",
      " [4.60298556]\n",
      " [4.17856731]\n",
      " [2.71166325]\n",
      " [2.66508393]\n",
      " [7.07912941]]\n",
      "grad [[-0.00077836]\n",
      " [-0.00206941]\n",
      " [-0.00197495]\n",
      " [ 0.00096227]\n",
      " [ 0.0006644 ]\n",
      " [-0.00559809]]\n",
      "epoch: 70000 cost: 0.1958018823835127\n",
      "theta: [[1.7366856 ]\n",
      " [4.79438943]\n",
      " [4.36125425]\n",
      " [2.60152743]\n",
      " [2.58479161]\n",
      " [7.62044232]]\n",
      "grad [[-0.00066829]\n",
      " [-0.00177392]\n",
      " [-0.00169321]\n",
      " [ 0.00122482]\n",
      " [ 0.00092601]\n",
      " [-0.00524389]]\n",
      "epoch: 80000 cost: 0.19235393524218233\n",
      "theta: [[1.79923567]\n",
      " [4.96026141]\n",
      " [4.5195657 ]\n",
      " [2.46925604]\n",
      " [2.48240991]\n",
      " [8.13046425]]\n",
      "grad [[-0.00058658]\n",
      " [-0.00155377]\n",
      " [-0.00148273]\n",
      " [ 0.00141008]\n",
      " [ 0.0011112 ]\n",
      " [-0.00496706]]\n",
      "epoch: 90000 cost: 0.18919938058865363\n",
      "theta: [[1.85464713]\n",
      " [5.10685749]\n",
      " [4.65942304]\n",
      " [2.32127423]\n",
      " [2.36429661]\n",
      " [8.61560753]]\n",
      "grad [[-0.00052437]\n",
      " [-0.00138537]\n",
      " [-0.00132126]\n",
      " [ 0.00154214]\n",
      " [ 0.00124371]\n",
      " [-0.00474318]]\n",
      "epoch: 100000 cost: 0.18626192393348273\n",
      "theta: [[1.90457124]\n",
      " [5.2385637 ]\n",
      " [4.78498029]\n",
      " [2.16209176]\n",
      " [2.23491874]\n",
      " [9.08035452]]\n",
      "grad [[-0.00047609]\n",
      " [-0.00125402]\n",
      " [-0.00119487]\n",
      " [ 0.00163611]\n",
      " [ 0.00133849]\n",
      " [-0.00455714]]\n"
     ]
    }
   ],
   "source": [
    "epochs=100000\n",
    "lr=0.01\n",
    "theta_norm = train(X_poly_norm, y)"
   ]
  },
  {
   "cell_type": "code",
   "execution_count": 391,
   "metadata": {},
   "outputs": [],
   "source": [
    "res=forward(X_poly_norm, theta_norm)\n",
    "\n",
    "for i in range(len(res)):\n",
    "    if(res[i]>=0.5):\n",
    "        res[i]=1\n",
    "    else:\n",
    "        res[i]=0"
   ]
  },
  {
   "cell_type": "code",
   "execution_count": 1,
   "metadata": {},
   "outputs": [],
   "source": [
    "def plotDEcisionBoundary(theta, degree, axes):\n",
    "    u=np.linspace(-1, 1.5, 50)\n",
    "    v=np.linspace(-1, 1.5, 50)\n",
    "    U,V = np.meshgrid(u,v)\n",
    "    # convert U, V to vectors for calculating additional features\n",
    "    # using vectorized implementation\n",
    "    U = np.ravel(U)\n",
    "    V = np.ravel(V)\n",
    "    Z = np.zeros((len(u) * len(v)))\n",
    "    \n",
    "    X_poly = mapFeature(U, V, degree)\n",
    "    Z = X_poly.dot(theta)\n",
    "    \n",
    "    # reshape U, V, Z back to matrix\n",
    "    U = U.reshape((len(u), len(v)))\n",
    "    V = V.reshape((len(u), len(v)))\n",
    "    Z = Z.reshape((len(u), len(v)))\n",
    "    \n",
    "    cs = axes.contour(U,V,Z,levels=[0],cmap= \"Greys_r\")\n",
    "    axes.legend(labels=['good', 'faulty', 'Decision Boundary'])\n",
    "    return cs"
   ]
  },
  {
   "cell_type": "code",
   "execution_count": 3,
   "metadata": {},
   "outputs": [
    {
     "ename": "NameError",
     "evalue": "name 'plt' is not defined",
     "output_type": "error",
     "traceback": [
      "\u001b[1;31m---------------------------------------------------------------------------\u001b[0m",
      "\u001b[1;31mNameError\u001b[0m                                 Traceback (most recent call last)",
      "\u001b[1;32m<ipython-input-3-f2ae4434a4f4>\u001b[0m in \u001b[0;36m<module>\u001b[1;34m\u001b[0m\n\u001b[1;32m----> 1\u001b[1;33m \u001b[0mfig\u001b[0m\u001b[1;33m,\u001b[0m \u001b[0maxes\u001b[0m \u001b[1;33m=\u001b[0m \u001b[0mplt\u001b[0m\u001b[1;33m.\u001b[0m\u001b[0msubplots\u001b[0m\u001b[1;33m(\u001b[0m\u001b[1;33m)\u001b[0m\u001b[1;33m;\u001b[0m\u001b[1;33m\u001b[0m\u001b[1;33m\u001b[0m\u001b[0m\n\u001b[0m\u001b[0;32m      2\u001b[0m \u001b[0maxes\u001b[0m\u001b[1;33m.\u001b[0m\u001b[0mset_xlabel\u001b[0m\u001b[1;33m(\u001b[0m\u001b[1;34m'Feature 1'\u001b[0m\u001b[1;33m)\u001b[0m\u001b[1;33m\u001b[0m\u001b[1;33m\u001b[0m\u001b[0m\n\u001b[0;32m      3\u001b[0m \u001b[0maxes\u001b[0m\u001b[1;33m.\u001b[0m\u001b[0mset_ylabel\u001b[0m\u001b[1;33m(\u001b[0m\u001b[1;34m'Feature 2'\u001b[0m\u001b[1;33m)\u001b[0m\u001b[1;33m\u001b[0m\u001b[1;33m\u001b[0m\u001b[0m\n\u001b[0;32m      4\u001b[0m \u001b[0maxes\u001b[0m\u001b[1;33m.\u001b[0m\u001b[0mscatter\u001b[0m\u001b[1;33m(\u001b[0m\u001b[0mcomponents\u001b[0m\u001b[1;33m.\u001b[0m\u001b[0mloc\u001b[0m\u001b[1;33m[\u001b[0m\u001b[0mpos\u001b[0m\u001b[1;33m,\u001b[0m \u001b[1;34m'feature 1'\u001b[0m\u001b[1;33m]\u001b[0m\u001b[1;33m,\u001b[0m \u001b[0mcomponents\u001b[0m\u001b[1;33m.\u001b[0m\u001b[0mloc\u001b[0m\u001b[1;33m[\u001b[0m\u001b[0mpos\u001b[0m\u001b[1;33m,\u001b[0m \u001b[1;34m'feature 2'\u001b[0m\u001b[1;33m]\u001b[0m\u001b[1;33m,\u001b[0m \u001b[0mcolor\u001b[0m \u001b[1;33m=\u001b[0m \u001b[1;34m'r'\u001b[0m\u001b[1;33m,\u001b[0m \u001b[0mmarker\u001b[0m\u001b[1;33m=\u001b[0m\u001b[1;34m'x'\u001b[0m\u001b[1;33m,\u001b[0m \u001b[0mlabel\u001b[0m\u001b[1;33m=\u001b[0m\u001b[1;34m'Faulty'\u001b[0m\u001b[1;33m)\u001b[0m\u001b[1;33m\u001b[0m\u001b[1;33m\u001b[0m\u001b[0m\n\u001b[0;32m      5\u001b[0m \u001b[0maxes\u001b[0m\u001b[1;33m.\u001b[0m\u001b[0mscatter\u001b[0m\u001b[1;33m(\u001b[0m\u001b[0mcomponents\u001b[0m\u001b[1;33m.\u001b[0m\u001b[0mloc\u001b[0m\u001b[1;33m[\u001b[0m\u001b[0mneg\u001b[0m\u001b[1;33m,\u001b[0m \u001b[1;34m'feature 1'\u001b[0m\u001b[1;33m]\u001b[0m\u001b[1;33m,\u001b[0m \u001b[0mcomponents\u001b[0m\u001b[1;33m.\u001b[0m\u001b[0mloc\u001b[0m\u001b[1;33m[\u001b[0m\u001b[0mneg\u001b[0m\u001b[1;33m,\u001b[0m \u001b[1;34m'feature 2'\u001b[0m\u001b[1;33m]\u001b[0m\u001b[1;33m,\u001b[0m \u001b[0mcolor\u001b[0m \u001b[1;33m=\u001b[0m \u001b[1;34m'g'\u001b[0m\u001b[1;33m,\u001b[0m \u001b[0mmarker\u001b[0m\u001b[1;33m=\u001b[0m\u001b[1;34m'o'\u001b[0m\u001b[1;33m,\u001b[0m \u001b[0mlabel\u001b[0m\u001b[1;33m=\u001b[0m\u001b[1;34m'Good'\u001b[0m\u001b[1;33m)\u001b[0m\u001b[1;33m\u001b[0m\u001b[1;33m\u001b[0m\u001b[0m\n",
      "\u001b[1;31mNameError\u001b[0m: name 'plt' is not defined"
     ]
    }
   ],
   "source": [
    "fig, axes = plt.subplots();\n",
    "axes.set_xlabel('Feature 1')\n",
    "axes.set_ylabel('Feature 2')\n",
    "axes.scatter(components.loc[pos, 'feature 1'], components.loc[pos, 'feature 2'], color = 'r', marker='x', label='Faulty')\n",
    "axes.scatter(components.loc[neg, 'feature 1'], components.loc[neg, 'feature 2'], color = 'g', marker='o', label='Good')\n",
    "#axes.legend(title='Legend', loc = 'best' )\n",
    "\n",
    "degree=2\n",
    "\n",
    "plotDecisionBoundary(theta, degree, axes)"
   ]
  }
 ],
 "metadata": {
  "kernelspec": {
   "display_name": "Python 3",
   "language": "python",
   "name": "python3"
  },
  "language_info": {
   "codemirror_mode": {
    "name": "ipython",
    "version": 3
   },
   "file_extension": ".py",
   "mimetype": "text/x-python",
   "name": "python",
   "nbconvert_exporter": "python",
   "pygments_lexer": "ipython3",
   "version": "3.7.4"
  }
 },
 "nbformat": 4,
 "nbformat_minor": 2
}
