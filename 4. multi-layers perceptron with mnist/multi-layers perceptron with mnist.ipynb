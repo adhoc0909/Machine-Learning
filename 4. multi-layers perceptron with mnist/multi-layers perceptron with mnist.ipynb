{
 "cells": [
  {
   "cell_type": "code",
   "execution_count": 255,
   "metadata": {},
   "outputs": [],
   "source": [
    "import numpy as np\n",
    "import sys\n",
    "import os\n",
    "from array import array\n",
    "\n",
    "from struct import *\n",
    "import matplotlib\n",
    "import matplotlib.pyplot as plt\n",
    "import matplotlib.cm as cm\n",
    "\n",
    "#파일 읽기\n",
    "train_image = open('C:/Users/admin/Desktop/git/Machine-Learning/MNIST/raw/train-images.idx3-ubyte','rb')\n",
    "train_label = open('C:/Users/admin/Desktop/git/Machine-Learning/MNIST/raw/train-labels.idx1-ubyte','rb')\n",
    "\n",
    "#사용할 변수 초기화\n",
    "img = np.zeros((28,28)) #이미지가 저장될 부분\n",
    "trainset = [ [],[],[],[],[],[],[],[],[],[] ] #숫자별로 저장 (0 ~ 9)\n",
    "d = 0\n",
    "l = 0\n",
    "index=0\n",
    "\n",
    "s = train_image.read(16)    #read first 16byte\n",
    "l = train_label.read(8)     #read first  8byte\n",
    "\n",
    "\n",
    "\n",
    "\n",
    "\n",
    "\n",
    "k=0 #테스트용 index\n",
    "#read mnist and show number\n",
    "while True:    \n",
    "    s = train_image.read(784) #784바이트씩 읽음\n",
    "    l = train_label.read(1) #1바이트씩 읽음\n",
    "\n",
    "    if not s:\n",
    "        break;\n",
    "    if not l:\n",
    "        break;\n",
    "\n",
    "    index = int(l[0])\n",
    "    #print(k,\":\",index)\n",
    "\n",
    "#unpack\n",
    "    img = np.reshape( unpack(len(s)*'B',s), (28,28))\n",
    "    trainset[index].append(img) #각 숫자영역별로 해당이미지를 추가\n",
    "    k=k+1\n",
    "\n",
    "# MNIST 불러고는 코드 출처 : https://m.blog.naver.com/PostView.nhn?blogId=acwboy&logNo=220584307823&proxyReferer=https:%2F%2Fwww.google.com%2F"
   ]
  },
  {
   "cell_type": "code",
   "execution_count": 256,
   "metadata": {},
   "outputs": [],
   "source": [
    "#파일 읽기\n",
    "test_image = open('C:/Users/admin/Desktop/git/Machine-Learning/MNIST/raw/t10k-images.idx3-ubyte','rb')\n",
    "test_label = open('C:/Users/admin/Desktop/git/Machine-Learning/MNIST/raw/t10k-labels.idx1-ubyte','rb')\n",
    "\n",
    "#사용할 변수 초기화\n",
    "img = np.zeros((28,28)) #이미지가 저장될 부분\n",
    "testset = [ [],[],[],[],[],[],[],[],[],[] ] #숫자별로 저장 (0 ~ 9)\n",
    "d = 0\n",
    "l = 0\n",
    "index=0\n",
    "\n",
    "s = test_image.read(16)    #read first 16byte\n",
    "l = test_label.read(8)     #read first  8byte\n",
    "\n",
    "\n",
    "\n",
    "\n",
    "\n",
    "\n",
    "k=0 #테스트용 index\n",
    "#read mnist and show number\n",
    "while True:    \n",
    "    s = test_image.read(784) #784바이트씩 읽음\n",
    "    l = test_label.read(1) #1바이트씩 읽음\n",
    "\n",
    "    if not s:\n",
    "        break;\n",
    "    if not l:\n",
    "        break;\n",
    "\n",
    "    index = int(l[0])\n",
    "    #print(k,\":\",index)\n",
    "\n",
    "#unpack\n",
    "    img = np.reshape( unpack(len(s)*'B',s), (28,28))\n",
    "    testset[index].append(img) #각 숫자영역별로 해당이미지를 추가\n",
    "    k=k+1\n",
    "\n",
    "# MNIST 불러고는 코드 출처 : https://m.blog.naver.com/PostView.nhn?blogId=acwboy&logNo=220584307823&proxyReferer=https:%2F%2Fwww.google.com%2F"
   ]
  },
  {
   "cell_type": "code",
   "execution_count": 257,
   "metadata": {},
   "outputs": [
    {
     "data": {
      "image/png": "[encoded data removed]",
      "text/plain": [
       "<Figure size 720x720 with 10 Axes>"
      ]
     },
     "metadata": {
      "needs_background": "light"
     },
     "output_type": "display_data"
    }
   ],
   "source": [
    "fig = plt.figure(figsize=(10,10))\n",
    "for i in range(0,10):\n",
    "    img = trainset[i][0]\n",
    "    fig.add_subplot(5,2,i+1)\n",
    "    plt.imshow(img, cmap = cm.binary)\n",
    "plt.show()"
   ]
  },
  {
   "cell_type": "code",
   "execution_count": 258,
   "metadata": {},
   "outputs": [],
   "source": [
    "X_train=[]\n",
    "X_test=[]\n",
    "y_train=[]\n",
    "y_test=[]\n",
    "\n",
    "for i in range(10):\n",
    "    X_train.extend(np.array(trainset[i]))\n",
    "    X_test.extend(np.array(testset[i]))\n",
    "    for j in range(len(trainset[i])):\n",
    "        y_train.append(encoding(i))\n",
    "    for j in range(len(testset[i])):\n",
    "        y_test.append(encoding(i))\n",
    "\n",
    "\n",
    "        \n",
    "X_train = np.array(X_train)\n",
    "X_test = np.array(X_test)\n",
    "y_train = np.array(y_train).transpose()\n",
    "y_test = np.array(y_test).transpose()"
   ]
  },
  {
   "cell_type": "code",
   "execution_count": 259,
   "metadata": {},
   "outputs": [],
   "source": [
    "import math\n",
    "\n",
    "def randInitialWeight(input_layer, output_layer):\n",
    "    W = np.random.rand(output_layer, input_layer+1)\n",
    "    return W\n",
    "\n",
    "# def log(x): #input type = np.ndarray, return type = np.ndarray\n",
    "#     g=np.zeros(x.shape)\n",
    "#     for i in range(x.shape[0]):\n",
    "#         for j in range(x.shape[1]):\n",
    "#             try:\n",
    "#                 g[i][j]=math.log(x[i][j])\n",
    "#             except OverflowError:\n",
    "#                 g[i][j] = float('inf')\n",
    "#     return g\n",
    "\n",
    "def log(x):\n",
    "    g = np.zeros(x.shape)\n",
    "    for i in range(x.shape[0]):\n",
    "        for j in range(x.shape[1]):\n",
    "            g[i][j] = np.log(x[i][j])\n",
    "    return g\n",
    "\n",
    "\n",
    "\n",
    "def sigmoid(z):\n",
    "    if(type(z)!=np.ndarray):\n",
    "        try:\n",
    "            return 1/(1+math.exp(-z))\n",
    "        except OverflowError:\n",
    "            return float('inf')\n",
    "        \n",
    "    elif(len(z.shape)==1):\n",
    "        g=np.zeros(z.shape)\n",
    "        for i in range(z.shape[0]):\n",
    "            try:\n",
    "                g[i]=1/(1+math.exp(-z[i]))\n",
    "            except OverflowError:\n",
    "                g[i]=float('inf')\n",
    "        return g\n",
    "    else:\n",
    "        g=np.zeros(z.shape)\n",
    "        for i in range(z.shape[0]):\n",
    "            for j in range(z.shape[1]):\n",
    "                try:\n",
    "                    g[i][j]=1/(1+math.exp(-z[i][j]))\n",
    "                except OverflowError:\n",
    "                    g[i][j]=float('inf')\n",
    "        return g\n",
    "\n",
    "def sigmoidGradient(z):\n",
    "    a=sigmoid(z)\n",
    "    b=1-sigmoid(z)\n",
    "    return a*b\n",
    "\n",
    "def relu(z):\n",
    "    if(type(z)!=np.ndarray):\n",
    "        if(z<0):\n",
    "            return 0\n",
    "        else:\n",
    "            return z\n",
    "        \n",
    "    elif(len(z.shape)==1):\n",
    "        g=np.zeros(z.shape)\n",
    "        for i in range(z.shape[0]):\n",
    "            if(z[i]<0):\n",
    "                g[i]=0\n",
    "            else:\n",
    "                g[i]=z[i]\n",
    "        return g\n",
    "    else:\n",
    "        g=np.zeros(z.shape)\n",
    "        for i in range(z.shape[0]):\n",
    "            for j in range(z.shape[1]):\n",
    "                if(z[i][j]<0):\n",
    "                    g[i][j]=0\n",
    "                else:\n",
    "                    g[i][j]=z[i][j]\n",
    "        return g\n",
    "    \n",
    "def reluGradient(z):\n",
    "    if(type(z)!=np.ndarray):\n",
    "        if(z<0):\n",
    "            return 0\n",
    "        else:\n",
    "            return 1\n",
    "        \n",
    "    elif(len(z.shape)==1):\n",
    "        g=np.zeros(z.shape)\n",
    "        for i in range(z.shape[0]):\n",
    "            if(z[i]<0):\n",
    "                g[i]=0\n",
    "            else:\n",
    "                g[i]=1\n",
    "        return g\n",
    "    else:\n",
    "        g=np.zeros(z.shape)\n",
    "        for i in range(z.shape[0]):\n",
    "            for j in range(z.shape[1]):\n",
    "                if(z[i][j]<0):\n",
    "                    g[i][j]=0\n",
    "                else:\n",
    "                    g[i][j]=1\n",
    "        return g\n",
    "    \n",
    "def softmax(z):\n",
    "    if(len(z.shape)==1 or (len(z.shape)==2) and z.shape[1]==1):\n",
    "        res=[]\n",
    "        exp = []\n",
    "        for i in range(len(z)):\n",
    "            exp.append(np.exp(z[i])-z.max())\n",
    "        for i in range(len(z)):\n",
    "            res.append(exp[i]/sum(exp))\n",
    "        return res\n",
    "    else:\n",
    "        \n",
    "        \n",
    "        exp = np.zeros([z.shape[0], z.shape[1]])\n",
    "        res = np.zeros([z.shape[0], z.shape[1]])\n",
    "        for i in range(z.shape[0]):\n",
    "            for j in range(z.shape[1]):\n",
    "                exp[i][j]=np.exp(z[i][j] - z.max(axis=0)[j])\n",
    "        for i in range(z.shape[0]):\n",
    "            for j in range(z.shape[1]):\n",
    "                res[i][j] = exp[i][j]/exp.sum(axis=0)[j]\n",
    "        return res\n",
    "                \n",
    "\n",
    "def encoding(n):\n",
    "    res=[0,0,0,0,0,0,0,0,0,0]\n",
    "    res[n] = 1\n",
    "    return res\n",
    "\n",
    "def Convert1Dim(X): #reshape Variable to 1 dimensional vector. input : [n, m], output : [n*m]\n",
    "    if(len(X.shape)==2):\n",
    "        return X.reshape([X.shape[0]*X.shape[1]])\n",
    "    elif(len(X.shape)==3):\n",
    "        return X.reshape([X.shape[0], X.shape[1]*X.shape[2]])\n",
    "    \n",
    "def insertbias(X):\n",
    "\n",
    "    return np.insert(X, 0, 1).reshape(X.shape[0]+1,)\n",
    "\n",
    "def addBias(X):\n",
    "    res = []\n",
    "    for i in range(len(X)):\n",
    "        res.append(insertbias(X[i]))\n",
    "        \n",
    "    return np.array(res)\n",
    "        \n",
    "    \n",
    "def costFunction_sigmoid(X, y, theta1, theta2,  Lambda=0, input_layer_size=784, hidden_layer_size=40, num_labels=10): #Gradient Vanishing problem 야기\n",
    "\n",
    "    m = Convert1Dim(X_train).shape[0]\n",
    "    Theta1_grad = np.zeros(theta1.shape)\n",
    "    Theta2_grad = np.zeros(theta2.shape)\n",
    "    \n",
    "    a1 = addBias(Convert1Dim(X)).transpose() #785 X m. containing bias\\\n",
    "\n",
    "    z1 = theta1.dot(a1) # (40X785) * (785Xm) = (40Xm)\n",
    "    \n",
    "    a2 = addBias(sigmoid(z1).transpose()).transpose() # (41Xm)\n",
    "    z2 = theta2.dot(a2) # (10X41) * (41Xm) = (10Xm)\n",
    "    a3 = sigmoid(z2) # (10Xm)\n",
    "\n",
    "    \n",
    "    #y : 10Xm\n",
    "    \n",
    "    #J=(1/m)*(-(np.dot(y.transpose(), log(a3))).sum() - (np.dot((1-y).transpose(), log(1-a3)).sum()))\n",
    "    J=(1/m)*(-(y*log(a3)).sum() - (((1-y)*log(1-a3)).sum())) \n",
    "    # 한꺼번에 모든 데이터로 학습시킬 경우 메모리 문제가 발생한다. \n",
    "    # 특히 손실함수를 계산할 때 47995X47995 사이즈의 매트릭스를 메모리에 적재하게 되어, RAM에 약 16GB의 여유 공간이 필요하다.\n",
    "    # 따라서 Batch size 개념이 중요하는 사실을 알게 되었다.\n",
    "    \n",
    "    R_term = (Lambda/(2*m))*((theta1[:,1:]**2).sum() + (theta2[:,1:]**2).sum())\n",
    "    J+=R_term\n",
    "    \n",
    "    delta3 = a3-y # 10Xm\n",
    "    delta2 = (np.dot(delta3.transpose(), theta2))*addBias(sigmoidGradient(z1.transpose()))     #(mx41)*(mx41)=(mX41)\n",
    "    \n",
    "    D1 = delta2[:, 1:].transpose().dot(a1.transpose())\n",
    "    D2 = delta3.dot(a2.transpose())\n",
    "    \n",
    "    Theta1_grad+=(1/m)*D1\n",
    "    Theta2_grad+=(1/m)*D2\n",
    "    \n",
    "    Theta1_grad[:,1:]+=(Lambda/m)*theta1[:,1:]\n",
    "    Theta2_grad[:,1:]+=(Lambda/m)*theta2[:,1:]\n",
    "    \n",
    "    return J, Theta1_grad, Theta2_grad\n",
    "\n",
    "def costFunction_ReLu(X, y, theta1, theta2,  Lambda=0, input_layer_size=784, hidden_layer_size=40, num_labels=10): #Gradient Vanishing problem 야기\n",
    "    \n",
    "    m = Convert1Dim(X_train).shape[0]\n",
    "    Theta1_grad = np.zeros(theta1.shape)\n",
    "    Theta2_grad = np.zeros(theta2.shape)\n",
    "    \n",
    "    a1 = addBias(Convert1Dim(X)).transpose() #785 X m. containing bias\\\n",
    "\n",
    "    z1 = theta1.dot(a1) # (40X785) * (785Xm) = (40Xm)\n",
    "    \n",
    "    a2 = addBias(relu(z1).transpose()).transpose() # (41Xm)\n",
    "    z2 = theta2.dot(a2) # (10X41) * (41Xm) = (10Xm)\n",
    "\n",
    "    a3 = softmax(z2) # (10Xm)\n",
    "    \n",
    "    #y : 10Xm\n",
    "    \n",
    "    #J=(1/m)*(-(np.dot(y.transpose(), log(a3))).sum() - (np.dot((1-y).transpose(), log(1-a3)).sum()))\n",
    "    J=(1/m)*(-(y*log(a3+1e-7)).sum() - (((1-y)*log(1-a3+1e-7)).sum())) \n",
    "    # 한꺼번에 모든 데이터로 학습시킬 경우 메모리 문제가 발생한다. \n",
    "    # 특히 손실함수를 계산할 때 47995X47995 사이즈의 매트릭스를 메모리에 적재하게 되어, RAM에 약 16GB의 여유 공간이 필요하다.\n",
    "    # 따라서 Batch size 개념이 중요하는 사실을 알게 되었다.\n",
    "    \n",
    "    R_term = (Lambda/(2*m))*((theta1[:,1:]**2).sum() + (theta2[:,1:]**2).sum())\n",
    "    J+=R_term\n",
    "    \n",
    "    delta3 = a3-y # 10Xm\n",
    "    delta2 = (np.dot(delta3.transpose(), theta2))*addBias(reluGradient(z1.transpose()))     #(mx41)*(mx41)=(mX41)\n",
    "    \n",
    "    D1 = delta2[:, 1:].transpose().dot(a1.transpose())\n",
    "    D2 = delta3.dot(a2.transpose())\n",
    "    \n",
    "    Theta1_grad+=(1/m)*D1\n",
    "    Theta2_grad+=(1/m)*D2\n",
    "    \n",
    "    Theta1_grad[:,1:]+=(Lambda/m)*theta1[:,1:]\n",
    "    Theta2_grad[:,1:]+=(Lambda/m)*theta2[:,1:]\n",
    "    \n",
    "    return J, Theta1_grad, Theta2_grad\n",
    "\n",
    "def train(X, y):\n",
    "    #Theta1= randInitialWeight(784, 40)\n",
    "    #Theta2 = randInitialWeight(40, 10)\n",
    "    #Theta1 = np.zeros([40, 785]) \n",
    "    #Theta2 = np.zeros([10, 41]) #theta를 모두 0으로 초기화했더니, theta값들이 같게 나오는 문제가 생김\n",
    "    \n",
    "    Theta1 = np.random.randn(40, 785)/math.sqrt(40/2) #HE initialization\n",
    "    Theta2 = np.random.randn(10, 41)/math.sqrt(10/2) #HE initialization\n",
    "    Js=[]\n",
    "    for epoch in range(epochs):\n",
    "        J=0\n",
    "        s=time.time()\n",
    "\n",
    "        for iteration in range(iterations):\n",
    "            index=np.random.choice(X_train.shape[0], batch_size, replace=False)\n",
    "            J_temp, tg1, tg2 = costFunction_ReLu(X[index], y.transpose()[index].transpose(), Theta1, Theta2, Lambda=0.1)\n",
    "            J+=J_temp\n",
    "            Theta1-=lr*tg1\n",
    "            Theta2-=lr*tg2\n",
    "\n",
    "        Js.append(J)\n",
    "        print(\"epoch:\",epoch, \"-> cost:\", J, \"time:\", time.time()-s)\n",
    "    return Theta1, Theta2, Js\n",
    "    \n",
    "\n",
    "\n",
    "def predict(X, theta1, theta2):\n",
    "\n",
    "    a1 = addBias(Convert1Dim(X).reshape(1,784)).transpose() #785 X 1. containing bias\n",
    "\n",
    "    z1 = theta1.dot(a1) # (40X785) * (785X1) = (40X1)\n",
    "    \n",
    "    a2 = addBias(relu(z1).transpose()).transpose() # (41X1)\n",
    "\n",
    "    z2 = theta2.dot(a2) # (10X41) * (41X1) = (10X1)\n",
    "\n",
    "    a3 = softmax(z2) # (10X1)\n",
    "    \n",
    "    return a3"
   ]
  },
  {
   "cell_type": "code",
   "execution_count": 32,
   "metadata": {
    "scrolled": true
   },
   "outputs": [
    {
     "name": "stdout",
     "output_type": "stream",
     "text": [
      "training iteration: 468\n",
      "epoch: 0 -> cost: 4.782258948442557 time: 18.128482818603516\n",
      "epoch: 1 -> cost: 3.2528077112531095 time: 18.235749006271362\n",
      "epoch: 2 -> cost: 2.7477224269126235 time: 19.297346115112305\n",
      "epoch: 3 -> cost: 2.4141270076035495 time: 19.089988946914673\n",
      "epoch: 4 -> cost: 2.1555278854368662 time: 18.762771368026733\n",
      "epoch: 5 -> cost: 1.9770040572202072 time: 18.760823011398315\n",
      "epoch: 6 -> cost: 1.8412532855874102 time: 19.688673496246338\n",
      "epoch: 7 -> cost: 1.7319942982112075 time: 20.237651348114014\n",
      "epoch: 8 -> cost: 1.6334736215144865 time: 19.010166883468628\n",
      "epoch: 9 -> cost: 1.5474098916998342 time: 19.019123554229736\n",
      "epoch: 10 -> cost: 1.471522346351561 time: 18.286465167999268\n",
      "epoch: 11 -> cost: 1.4303405656954347 time: 18.414331674575806\n",
      "epoch: 12 -> cost: 1.367518292957337 time: 18.44262933731079\n",
      "epoch: 13 -> cost: 1.3230214946157455 time: 18.40709114074707\n",
      "epoch: 14 -> cost: 1.2777918881076331 time: 18.320057153701782\n",
      "epoch: 15 -> cost: 1.2518527707576734 time: 18.346853733062744\n",
      "epoch: 16 -> cost: 1.2110583455445854 time: 18.611223697662354\n",
      "epoch: 17 -> cost: 1.1842452515607165 time: 18.855584383010864\n",
      "epoch: 18 -> cost: 1.1575674257523088 time: 18.62716579437256\n",
      "epoch: 19 -> cost: 1.1363397217661595 time: 18.4446804523468\n",
      "epoch: 20 -> cost: 1.1099777328648293 time: 18.443660974502563\n",
      "epoch: 21 -> cost: 1.089131276966193 time: 18.374921560287476\n",
      "epoch: 22 -> cost: 1.0511707132140975 time: 18.63309931755066\n",
      "epoch: 23 -> cost: 1.0449429419099392 time: 18.637155771255493\n",
      "epoch: 24 -> cost: 1.026446647229708 time: 18.50951099395752\n",
      "epoch: 25 -> cost: 1.0146504601816555 time: 18.871511220932007\n",
      "epoch: 26 -> cost: 0.9866360980413833 time: 18.769797563552856\n",
      "epoch: 27 -> cost: 0.9745649357553882 time: 18.75787091255188\n",
      "epoch: 28 -> cost: 0.964252729627048 time: 19.170762062072754\n",
      "epoch: 29 -> cost: 0.959700796984119 time: 19.061193227767944\n",
      "epoch: 30 -> cost: 0.930930124428045 time: 18.430648803710938\n",
      "epoch: 31 -> cost: 0.9285496476803712 time: 18.229216814041138\n",
      "epoch: 32 -> cost: 0.9173914602305917 time: 18.412782430648804\n",
      "epoch: 33 -> cost: 0.8900410029292438 time: 18.245160818099976\n",
      "epoch: 34 -> cost: 0.9031626112435146 time: 18.257206201553345\n",
      "epoch: 35 -> cost: 0.8729899576001887 time: 19.416046857833862\n",
      "epoch: 36 -> cost: 0.8836677476588525 time: 19.939658403396606\n",
      "epoch: 37 -> cost: 0.8690097557227975 time: 18.96826982498169\n",
      "epoch: 38 -> cost: 0.8624582539088333 time: 19.757168769836426\n",
      "epoch: 39 -> cost: 0.8411574718895587 time: 18.601298570632935\n",
      "epoch: 40 -> cost: 0.8458630183193122 time: 18.708961963653564\n",
      "epoch: 41 -> cost: 0.832234559390121 time: 18.773751497268677\n",
      "epoch: 42 -> cost: 0.8296959093133264 time: 18.79074239730835\n",
      "epoch: 43 -> cost: 0.8156795576196854 time: 18.822659015655518\n",
      "epoch: 44 -> cost: 0.8002428490632331 time: 18.670064687728882\n",
      "epoch: 45 -> cost: 0.8048324176392061 time: 17.93709135055542\n",
      "epoch: 46 -> cost: 0.793711121829176 time: 17.947021007537842\n",
      "epoch: 47 -> cost: 0.7906307049821377 time: 17.920806169509888\n",
      "epoch: 48 -> cost: 0.7944599475534576 time: 17.856241464614868\n",
      "epoch: 49 -> cost: 0.7797931152321295 time: 17.930906295776367\n",
      "epoch: 50 -> cost: 0.7710812030782003 time: 17.878251552581787\n",
      "epoch: 51 -> cost: 0.7721867675397428 time: 17.86755681037903\n",
      "epoch: 52 -> cost: 0.7782370107050366 time: 17.965734004974365\n",
      "epoch: 53 -> cost: 0.7658804908557932 time: 17.95793604850769\n",
      "epoch: 54 -> cost: 0.7632157160911777 time: 17.999255657196045\n",
      "epoch: 55 -> cost: 0.7624434800278752 time: 17.885162115097046\n",
      "epoch: 56 -> cost: 0.730384905460678 time: 18.012629985809326\n",
      "epoch: 57 -> cost: 0.7365972753057914 time: 17.91985559463501\n",
      "epoch: 58 -> cost: 0.7368184630784231 time: 31.715831995010376\n",
      "epoch: 59 -> cost: 0.733283261498726 time: 24.768279552459717\n",
      "epoch: 60 -> cost: 0.7351152705736268 time: 19.776111841201782\n",
      "epoch: 61 -> cost: 0.7327060554408222 time: 19.522331476211548\n",
      "epoch: 62 -> cost: 0.7195747757923815 time: 19.2211172580719\n",
      "epoch: 63 -> cost: 0.7186026672467182 time: 19.27208685874939\n",
      "epoch: 64 -> cost: 0.707416221782344 time: 17.907064199447632\n",
      "epoch: 65 -> cost: 0.7055562222011066 time: 18.106574773788452\n",
      "epoch: 66 -> cost: 0.7046052967646647 time: 17.875253200531006\n",
      "epoch: 67 -> cost: 0.6929840282468513 time: 17.845252990722656\n",
      "epoch: 68 -> cost: 0.6989918424530154 time: 17.90808606147766\n",
      "epoch: 69 -> cost: 0.6849500910396158 time: 18.11289644241333\n",
      "epoch: 70 -> cost: 0.689691375393215 time: 17.986880779266357\n",
      "epoch: 71 -> cost: 0.6841666981704848 time: 18.01777958869934\n",
      "epoch: 72 -> cost: 0.6788501084181395 time: 21.449059009552002\n",
      "epoch: 73 -> cost: 0.6847719733472711 time: 17.939087867736816\n",
      "epoch: 74 -> cost: 0.6732499556170713 time: 17.87925434112549\n",
      "epoch: 75 -> cost: 0.6790565411773051 time: 17.85824942588806\n",
      "epoch: 76 -> cost: 0.6608548899684782 time: 17.912565231323242\n",
      "epoch: 77 -> cost: 0.6729765773343606 time: 17.872602462768555\n",
      "epoch: 78 -> cost: 0.6647699122992549 time: 17.83537483215332\n",
      "epoch: 79 -> cost: 0.648065466332821 time: 17.956881046295166\n",
      "epoch: 80 -> cost: 0.6514771535761094 time: 18.01781129837036\n",
      "epoch: 81 -> cost: 0.6501344963457898 time: 17.943891763687134\n",
      "epoch: 82 -> cost: 0.6532638977600677 time: 17.98173952102661\n",
      "epoch: 83 -> cost: 0.641005048082535 time: 17.863157272338867\n",
      "epoch: 84 -> cost: 0.6516950641077055 time: 17.955521821975708\n",
      "epoch: 85 -> cost: 0.6569950487656686 time: 17.94981074333191\n",
      "epoch: 86 -> cost: 0.6346941719509521 time: 17.915460109710693\n",
      "epoch: 87 -> cost: 0.6389171804343187 time: 18.19914722442627\n",
      "epoch: 88 -> cost: 0.6293153543564343 time: 17.98386859893799\n",
      "epoch: 89 -> cost: 0.6309831863725197 time: 17.993093967437744\n",
      "epoch: 90 -> cost: 0.6384010613814413 time: 17.976155757904053\n",
      "epoch: 91 -> cost: 0.6410478042743247 time: 17.87480330467224\n",
      "epoch: 92 -> cost: 0.6197724924006697 time: 17.945805549621582\n",
      "epoch: 93 -> cost: 0.6309421475113963 time: 17.941052198410034\n",
      "epoch: 94 -> cost: 0.6129458644494772 time: 17.93002486228943\n",
      "epoch: 95 -> cost: 0.6206333238849655 time: 17.861879587173462\n",
      "epoch: 96 -> cost: 0.6151986586628062 time: 17.914042472839355\n",
      "epoch: 97 -> cost: 0.6031879557718202 time: 17.94858717918396\n",
      "epoch: 98 -> cost: 0.6192359206226435 time: 17.939990282058716\n",
      "epoch: 99 -> cost: 0.606776126045523 time: 17.918078660964966\n",
      "epoch: 100 -> cost: 0.5936531385275825 time: 17.919140577316284\n",
      "epoch: 101 -> cost: 0.6128878781903698 time: 17.881986141204834\n",
      "epoch: 102 -> cost: 0.6056280548218583 time: 17.90652298927307\n",
      "epoch: 103 -> cost: 0.5972599222162054 time: 19.60259747505188\n",
      "epoch: 104 -> cost: 0.6025501145738966 time: 19.816999197006226\n",
      "epoch: 105 -> cost: 0.6039137591328575 time: 19.823742628097534\n",
      "epoch: 106 -> cost: 0.5921027897671296 time: 20.113205671310425\n",
      "epoch: 107 -> cost: 0.5939626491426439 time: 20.069324016571045\n",
      "epoch: 108 -> cost: 0.5880278773351538 time: 19.981564044952393\n",
      "epoch: 109 -> cost: 0.5953013775878482 time: 19.8409264087677\n",
      "epoch: 110 -> cost: 0.5970708739905852 time: 20.02372694015503\n",
      "epoch: 111 -> cost: 0.5797120706054943 time: 20.29472041130066\n",
      "epoch: 112 -> cost: 0.5715284584850819 time: 19.82005023956299\n",
      "epoch: 113 -> cost: 0.5919638117418086 time: 19.669394493103027\n",
      "epoch: 114 -> cost: 0.5799237239230495 time: 19.64545726776123\n",
      "epoch: 115 -> cost: 0.5883275825333585 time: 19.70430016517639\n",
      "epoch: 116 -> cost: 0.580157420923682 time: 19.5217866897583\n",
      "epoch: 117 -> cost: 0.573612862095738 time: 19.9027681350708\n",
      "epoch: 118 -> cost: 0.5684267769658748 time: 19.68834352493286\n",
      "epoch: 119 -> cost: 0.5747637938510963 time: 19.940704822540283\n",
      "epoch: 120 -> cost: 0.5754155768296052 time: 19.905287742614746\n",
      "epoch: 121 -> cost: 0.5723072140779591 time: 19.843928575515747\n",
      "epoch: 122 -> cost: 0.5736096876597249 time: 20.017462015151978\n",
      "epoch: 123 -> cost: 0.5646904193460826 time: 20.185012817382812\n",
      "epoch: 124 -> cost: 0.5718337477351843 time: 20.238927841186523\n",
      "epoch: 125 -> cost: 0.5651732162653105 time: 20.05131506919861\n",
      "epoch: 126 -> cost: 0.549930450603935 time: 20.0104820728302\n",
      "epoch: 127 -> cost: 0.5671036074082435 time: 19.697318077087402\n",
      "epoch: 128 -> cost: 0.5609362854341284 time: 19.712823390960693\n",
      "epoch: 129 -> cost: 0.5592072782065783 time: 19.73923921585083\n",
      "epoch: 130 -> cost: 0.5578804379277303 time: 19.68319582939148\n"
     ]
    },
    {
     "name": "stdout",
     "output_type": "stream",
     "text": [
      "epoch: 131 -> cost: 0.5549677386885885 time: 19.66693377494812\n",
      "epoch: 132 -> cost: 0.5539237649005538 time: 19.566664934158325\n",
      "epoch: 133 -> cost: 0.551327886504917 time: 19.509856939315796\n",
      "epoch: 134 -> cost: 0.5424649089616508 time: 19.704299449920654\n",
      "epoch: 135 -> cost: 0.5494995201004087 time: 19.586613655090332\n",
      "epoch: 136 -> cost: 0.552498531723147 time: 19.64552116394043\n",
      "epoch: 137 -> cost: 0.5533560312021555 time: 19.594125747680664\n",
      "epoch: 138 -> cost: 0.5526233407777671 time: 19.469991207122803\n",
      "epoch: 139 -> cost: 0.5423613104667393 time: 19.691405534744263\n",
      "epoch: 140 -> cost: 0.5430899147886356 time: 19.664960145950317\n",
      "epoch: 141 -> cost: 0.5462875766520362 time: 19.510818481445312\n",
      "epoch: 142 -> cost: 0.5429143727716196 time: 19.693372011184692\n",
      "epoch: 143 -> cost: 0.5345810288920156 time: 19.603094339370728\n",
      "epoch: 144 -> cost: 0.5445398085808035 time: 19.60656452178955\n",
      "epoch: 145 -> cost: 0.5370131687549023 time: 19.634543895721436\n",
      "epoch: 146 -> cost: 0.5417332199027173 time: 19.722251653671265\n",
      "epoch: 147 -> cost: 0.5324183367552224 time: 19.63348913192749\n",
      "epoch: 148 -> cost: 0.5401514769116456 time: 19.708290576934814\n",
      "epoch: 149 -> cost: 0.5359810972647946 time: 19.774113178253174\n",
      "2844.5969417095184\n"
     ]
    }
   ],
   "source": [
    "#parameter setting & training\n",
    "#after normalization\n",
    "#no regularization\n",
    "\n",
    "import time\n",
    "\n",
    "batch_size = 128\n",
    "iterations = X_train.shape[0]//batch_size\n",
    "\n",
    "epochs = 150\n",
    "lr = 0.4 #learning rate\n",
    "\n",
    "print(\"training iteration:\", iterations)\n",
    "\n",
    "s=time.time()\n",
    "theta1, theta2, J = train(X_train/255, y_train)\n",
    "print(time.time()-s)"
   ]
  },
  {
   "cell_type": "code",
   "execution_count": 87,
   "metadata": {},
   "outputs": [
    {
     "name": "stdout",
     "output_type": "stream",
     "text": [
      "training iteration: 468\n",
      "epoch: 0 -> cost: 0.8341280754166522 time: 20.498176097869873\n",
      "epoch: 1 -> cost: 0.4472979737690671 time: 20.592949151992798\n",
      "epoch: 2 -> cost: 0.3649374738131355 time: 20.24485182762146\n",
      "epoch: 3 -> cost: 0.32403440341962747 time: 20.668522119522095\n",
      "epoch: 4 -> cost: 0.28833625786466516 time: 20.58456826210022\n",
      "epoch: 5 -> cost: 0.25946135604803716 time: 20.408401489257812\n",
      "epoch: 6 -> cost: 0.2475465968576031 time: 20.577749252319336\n",
      "epoch: 7 -> cost: 0.2229203792914075 time: 20.73680877685547\n",
      "epoch: 8 -> cost: 0.21412497408062067 time: 20.5369234085083\n",
      "epoch: 9 -> cost: 0.20057604817255015 time: 20.393458604812622\n",
      "epoch: 10 -> cost: 0.1882745224192739 time: 20.418421030044556\n",
      "epoch: 11 -> cost: 0.17487926821283298 time: 21.8683602809906\n",
      "epoch: 12 -> cost: 0.16733818700030018 time: 23.18200159072876\n",
      "epoch: 13 -> cost: 0.16475645282129653 time: 22.002158164978027\n",
      "epoch: 14 -> cost: 0.1603358320269883 time: 22.8897488117218\n",
      "epoch: 15 -> cost: 0.14587692767792665 time: 22.031071186065674\n",
      "epoch: 16 -> cost: 0.14801947382935898 time: 21.587265729904175\n",
      "epoch: 17 -> cost: 0.13956584401170144 time: 21.46858310699463\n",
      "epoch: 18 -> cost: 0.13294420729386247 time: 21.23520541191101\n",
      "epoch: 19 -> cost: 0.12576933067247173 time: 21.487531423568726\n",
      "epoch: 20 -> cost: 0.12695961255584118 time: 21.54038906097412\n",
      "epoch: 21 -> cost: 0.12209767738438637 time: 21.519402503967285\n",
      "epoch: 22 -> cost: 0.11695927593191097 time: 21.543384313583374\n",
      "epoch: 23 -> cost: 0.10979034549837591 time: 20.924033641815186\n",
      "epoch: 24 -> cost: 0.10725432452023899 time: 21.270103693008423\n",
      "epoch: 25 -> cost: 0.10616233848715731 time: 21.42864489555359\n",
      "epoch: 26 -> cost: 0.10309615902049353 time: 21.456687211990356\n",
      "epoch: 27 -> cost: 0.10039005000662064 time: 22.148686408996582\n",
      "epoch: 28 -> cost: 0.09425906091383628 time: 23.6356782913208\n",
      "epoch: 29 -> cost: 0.09606443411297176 time: 21.464593410491943\n",
      "epoch: 30 -> cost: 0.09748092985647025 time: 21.512465000152588\n",
      "epoch: 31 -> cost: 0.09067233288974824 time: 21.566321849822998\n",
      "epoch: 32 -> cost: 0.08735628738085721 time: 21.152421712875366\n",
      "epoch: 33 -> cost: 0.08519604153071618 time: 21.23121690750122\n",
      "epoch: 34 -> cost: 0.0825261976381858 time: 21.22224259376526\n",
      "epoch: 35 -> cost: 0.08784887460678453 time: 21.11649990081787\n",
      "epoch: 36 -> cost: 0.07851482791893395 time: 21.627153396606445\n",
      "epoch: 37 -> cost: 0.07199325855240657 time: 21.554320812225342\n",
      "epoch: 38 -> cost: 0.0740332271985124 time: 20.463271617889404\n",
      "epoch: 39 -> cost: 0.07306606366459033 time: 20.823808193206787\n",
      "epoch: 40 -> cost: 0.06636947903466611 time: 21.097071170806885\n",
      "epoch: 41 -> cost: 0.0701387568390062 time: 20.71958088874817\n",
      "epoch: 42 -> cost: 0.06629650570994658 time: 20.551416397094727\n",
      "epoch: 43 -> cost: 0.06500479989835306 time: 20.443313598632812\n",
      "epoch: 44 -> cost: 0.06527987282661978 time: 20.669756412506104\n",
      "epoch: 45 -> cost: 0.06167789846555243 time: 20.47680354118347\n",
      "epoch: 46 -> cost: 0.06021763007570765 time: 20.340811252593994\n",
      "epoch: 47 -> cost: 0.06276640695817923 time: 19.47593927383423\n",
      "epoch: 48 -> cost: 0.058719710826181014 time: 17.940935611724854\n",
      "epoch: 49 -> cost: 0.05545550176427512 time: 17.961812734603882\n",
      "1052.5480411052704\n"
     ]
    }
   ],
   "source": [
    "#parameter setting & training\n",
    "#after normalization\n",
    "#no regularization\n",
    "import time\n",
    "\n",
    "batch_size = 128\n",
    "iterations = X_train.shape[0]//batch_size\n",
    "\n",
    "epochs = 50\n",
    "lr = 100 #learning rate\n",
    "\n",
    "print(\"training iteration:\", iterations)\n",
    "\n",
    "s=time.time()\n",
    "theta1, theta2, J = train(X_train/255, y_train)\n",
    "print(time.time()-s)"
   ]
  },
  {
   "cell_type": "code",
   "execution_count": 98,
   "metadata": {},
   "outputs": [
    {
     "name": "stdout",
     "output_type": "stream",
     "text": [
      "training iteration: 468\n",
      "epoch: 0 -> cost: 1.3732944604129596 time: 17.796347856521606\n",
      "epoch: 1 -> cost: 0.9315922911930098 time: 17.909932613372803\n",
      "epoch: 2 -> cost: 0.787151936706975 time: 17.96196174621582\n",
      "epoch: 3 -> cost: 0.6786235872457863 time: 18.059701681137085\n",
      "epoch: 4 -> cost: 0.6162373517330894 time: 18.214215755462646\n",
      "epoch: 5 -> cost: 0.5434243154088734 time: 18.03666067123413\n",
      "epoch: 6 -> cost: 0.49116613270622234 time: 17.87020516395569\n",
      "epoch: 7 -> cost: 0.44873167114733165 time: 17.873685359954834\n",
      "epoch: 8 -> cost: 0.41503692857264207 time: 18.180359363555908\n",
      "epoch: 9 -> cost: 0.3821360571514417 time: 18.220298051834106\n",
      "epoch: 10 -> cost: 0.3613828464758211 time: 18.1354398727417\n",
      "epoch: 11 -> cost: 0.33832678685270723 time: 18.235358238220215\n",
      "epoch: 12 -> cost: 0.3212265930007211 time: 18.233262062072754\n",
      "epoch: 13 -> cost: 0.30650752567173145 time: 18.498525857925415\n",
      "epoch: 14 -> cost: 0.2945615904658801 time: 18.557366371154785\n",
      "epoch: 15 -> cost: 0.28803819258567115 time: 18.58330202102661\n",
      "epoch: 16 -> cost: 0.2737541074600878 time: 19.2705020904541\n",
      "epoch: 17 -> cost: 0.26154669152003224 time: 18.619194746017456\n",
      "epoch: 18 -> cost: 0.2572806719546922 time: 18.53243851661682\n",
      "epoch: 19 -> cost: 0.25475603899537713 time: 18.890332221984863\n",
      "epoch: 20 -> cost: 0.24673421509673177 time: 19.296425580978394\n",
      "epoch: 21 -> cost: 0.23306241380041312 time: 18.564314126968384\n",
      "epoch: 22 -> cost: 0.23770359578449549 time: 18.6431303024292\n",
      "epoch: 23 -> cost: 0.23533688618786563 time: 18.63718891143799\n",
      "epoch: 24 -> cost: 0.2299995137955435 time: 18.265106201171875\n",
      "epoch: 25 -> cost: 0.23169080961725855 time: 18.452268838882446\n",
      "epoch: 26 -> cost: 0.22631094520662895 time: 18.258161783218384\n",
      "epoch: 27 -> cost: 0.22453187382085607 time: 18.027755975723267\n",
      "epoch: 28 -> cost: 0.22048072729203935 time: 18.14059329032898\n",
      "epoch: 29 -> cost: 0.21846973747811277 time: 18.048776865005493\n",
      "epoch: 30 -> cost: 0.21578264525591154 time: 17.936047792434692\n",
      "epoch: 31 -> cost: 0.21586657717719826 time: 17.911853790283203\n",
      "epoch: 32 -> cost: 0.2158680751361015 time: 17.89854121208191\n",
      "epoch: 33 -> cost: 0.21382572056118535 time: 17.933690786361694\n",
      "epoch: 34 -> cost: 0.21141424234893702 time: 17.89253306388855\n",
      "epoch: 35 -> cost: 0.20855322907016471 time: 17.945589780807495\n",
      "epoch: 36 -> cost: 0.20751031543337503 time: 17.97558856010437\n",
      "epoch: 37 -> cost: 0.20925149741132537 time: 17.915204524993896\n",
      "epoch: 38 -> cost: 0.20552110316249309 time: 18.031525373458862\n",
      "epoch: 39 -> cost: 0.21153698684896602 time: 17.962959051132202\n",
      "epoch: 40 -> cost: 0.2056663163306651 time: 18.119316577911377\n",
      "epoch: 41 -> cost: 0.20836857215520066 time: 17.91489577293396\n",
      "epoch: 42 -> cost: 0.2053869348970765 time: 18.810574769973755\n",
      "epoch: 43 -> cost: 0.20574167805236507 time: 20.645368099212646\n",
      "epoch: 44 -> cost: 0.20331921384454665 time: 20.680687427520752\n",
      "epoch: 45 -> cost: 0.20687925366789467 time: 20.710337162017822\n",
      "epoch: 46 -> cost: 0.20634779556975555 time: 19.986780881881714\n",
      "epoch: 47 -> cost: 0.2029656854368202 time: 17.930068254470825\n",
      "epoch: 48 -> cost: 0.20634593042057683 time: 18.004411220550537\n",
      "epoch: 49 -> cost: 0.2052655407099139 time: 17.955562353134155\n",
      "920.3964536190033\n"
     ]
    }
   ],
   "source": [
    "#parameter setting & training\n",
    "#after normalization\n",
    "#with regularization\n",
    "import time\n",
    "\n",
    "batch_size = 128\n",
    "iterations = X_train.shape[0]//batch_size\n",
    "\n",
    "epochs = 50\n",
    "lr = 100 #learning rate\n",
    "\n",
    "print(\"training iteration:\", iterations)\n",
    "\n",
    "s=time.time()\n",
    "theta1, theta2, J = train(X_train/255, y_train)\n",
    "print(time.time()-s)"
   ]
  },
  {
   "cell_type": "code",
   "execution_count": 266,
   "metadata": {
    "scrolled": true
   },
   "outputs": [
    {
     "data": {
      "image/png": "[encoded data removed]",
      "text/plain": [
       "<Figure size 432x288 with 1 Axes>"
      ]
     },
     "metadata": {
      "needs_background": "light"
     },
     "output_type": "display_data"
    }
   ],
   "source": [
    "plt.plot(range(len(J)), J)\n",
    "plt.xlabel('epoch')\n",
    "plt.ylabel('loss')\n",
    "plt.show()"
   ]
  },
  {
   "cell_type": "code",
   "execution_count": 110,
   "metadata": {},
   "outputs": [
    {
     "name": "stdout",
     "output_type": "stream",
     "text": [
      "label : 0\n",
      "predict: 0\n"
     ]
    },
    {
     "data": {
      "image/png": "[encoded data removed]",
      "text/plain": [
       "<Figure size 432x288 with 1 Axes>"
      ]
     },
     "metadata": {
      "needs_background": "light"
     },
     "output_type": "display_data"
    }
   ],
   "source": [
    "i=0\n",
    "plt.imshow(X_test[i])\n",
    "print(\"label :\", np.where(y_test.transpose()[i]==1)[0][0])\n",
    "num=np.array(X_test[i])\n",
    "print(\"predict:\", np.argmax(predict(num/255, theta1, theta2)))"
   ]
  },
  {
   "cell_type": "code",
   "execution_count": 260,
   "metadata": {},
   "outputs": [
    {
     "name": "stdout",
     "output_type": "stream",
     "text": [
      "predict: 3\n"
     ]
    },
    {
     "data": {
      "image/png": "[encoded data removed]",
      "text/plain": [
       "<Figure size 432x288 with 1 Axes>"
      ]
     },
     "metadata": {
      "needs_background": "light"
     },
     "output_type": "display_data"
    }
   ],
   "source": [
    "num=np.array(testset[3][122])\n",
    "plt.imshow(num)\n",
    "print(\"predict:\", np.argmax(predict(num/255, theta1, theta2)))"
   ]
  },
  {
   "cell_type": "code",
   "execution_count": 261,
   "metadata": {},
   "outputs": [],
   "source": [
    "#분류에 실패한 이미지의 인덱스\n",
    "\n",
    "index=[]\n",
    "for i in range(X_test.shape[0]):\n",
    "    num =X_test[i]\n",
    "    if(np.argmax(predict(num/255, theta1, theta2))!=np.where(y_test.transpose()[i]==1)[0][0]):\n",
    "        index.append(i)"
   ]
  },
  {
   "cell_type": "code",
   "execution_count": 262,
   "metadata": {
    "scrolled": true
   },
   "outputs": [
    {
     "data": {
      "text/plain": [
       "278"
      ]
     },
     "execution_count": 262,
     "metadata": {},
     "output_type": "execute_result"
    }
   ],
   "source": [
    "len(index) #10000개의 test dataset 중 278개"
   ]
  },
  {
   "cell_type": "markdown",
   "metadata": {},
   "source": [
    "## 분류하지 못한 숫자 시각화"
   ]
  },
  {
   "cell_type": "code",
   "execution_count": 264,
   "metadata": {},
   "outputs": [
    {
     "data": {
      "image/png": "[encoded data removed]",
      "text/plain": [
       "<Figure size 1080x1080 with 32 Axes>"
      ]
     },
     "metadata": {},
     "output_type": "display_data"
    },
    {
     "data": {
      "image/png": "[encoded data removed]",
      "text/plain": [
       "<Figure size 1080x1080 with 32 Axes>"
      ]
     },
     "metadata": {},
     "output_type": "display_data"
    },
    {
     "data": {
      "image/png": "[encoded data removed]",
      "text/plain": [
       "<Figure size 1080x1080 with 32 Axes>"
      ]
     },
     "metadata": {},
     "output_type": "display_data"
    }
   ],
   "source": [
    "wspace=0.5\n",
    "hspace=0\n",
    "\n",
    "fig = plt.figure(figsize=(15,15))\n",
    "c=0\n",
    "for i in np.random.choice(len(index), 32, replace=False).reshape(32,):\n",
    "    img = X_test[index[i]]\n",
    "    c+=1\n",
    "    fig.add_subplot(4,8,c)\n",
    "    plt.imshow(img, cmap = cm.binary)\n",
    "    plt.xlabel(\"predict: {}\\nlabel: {}\".format(np.argmax(predict(X_test[index[i]]/255, theta1, theta2)), np.where(y_test.transpose()[index[i]]==1)[0][0]))\n",
    "\n",
    "    plt.xticks([], [])\n",
    "    plt.yticks([], [])\n",
    "    \n",
    "plt.subplots_adjust(wspace=wspace, hspace=hspace)\n",
    "plt.show()\n",
    "\n",
    "fig = plt.figure(figsize=(15, 15))\n",
    "c=0\n",
    "for i in np.random.choice(len(index), 32, replace=False).reshape(32,):\n",
    "    img = X_test[index[i]]\n",
    "    c+=1\n",
    "    fig.add_subplot(4,8,c)\n",
    "    plt.imshow(img, cmap = cm.binary)\n",
    "    plt.xlabel(\"predict: {}\\nlabel: {}\".format(np.argmax(predict(X_test[index[i]]/255, theta1, theta2)), np.where(y_test.transpose()[index[i]]==1)[0][0]))\n",
    "\n",
    "    plt.xticks([], [])\n",
    "    plt.yticks([], [])\n",
    "    \n",
    "plt.subplots_adjust(wspace=wspace, hspace=hspace)\n",
    "plt.show()\n",
    "\n",
    "fig = plt.figure(figsize=(15,15))\n",
    "c=0\n",
    "for i in np.random.choice(len(index), 32, replace=False).reshape(32,):\n",
    "    img = X_test[index[i]]\n",
    "    c+=1\n",
    "    fig.add_subplot(4,8,c)\n",
    "    plt.imshow(img, cmap = cm.binary)\n",
    "    plt.xlabel(\"predict: {}\\nlabel: {}\".format(np.argmax(predict(X_test[index[i]]/255, theta1, theta2)), np.where(y_test.transpose()[index[i]]==1)[0][0]))\n",
    "\n",
    "    plt.xticks([], [])\n",
    "    plt.yticks([], [])\n",
    "    \n",
    "plt.subplots_adjust(wspace=wspace, hspace=hspace)\n",
    "plt.show()"
   ]
  },
  {
   "cell_type": "markdown",
   "metadata": {},
   "source": [
    "##### random하게 predict할 경우 약 10%의 정확도를 가져야 한다. (label이 10개이기 때문)"
   ]
  },
  {
   "cell_type": "code",
   "execution_count": 265,
   "metadata": {},
   "outputs": [
    {
     "name": "stdout",
     "output_type": "stream",
     "text": [
      "random accuracy : 9.82%\n"
     ]
    }
   ],
   "source": [
    "import random\n",
    "\n",
    "res=[]\n",
    "for i in range(X_test.shape[0]):\n",
    "    num = X_test[i]\n",
    "    res.append(np.argmax(predict(num/255, t1, t2))==random.randint(0, 9))\n",
    "\n",
    "print(\"random accuracy : {:.2f}%\".format(sum(res)/len(res)*100))"
   ]
  },
  {
   "cell_type": "markdown",
   "metadata": {},
   "source": [
    "##### regularization하기 전의 accuracy\n",
    "\n",
    "learning rate: 0.4, epoch: 150"
   ]
  },
  {
   "cell_type": "code",
   "execution_count": 96,
   "metadata": {},
   "outputs": [
    {
     "name": "stdout",
     "output_type": "stream",
     "text": [
      "train accuracy : 79.62%\n",
      "test accuracy : 80.32%\n"
     ]
    }
   ],
   "source": [
    "res=[]\n",
    "for i in range(X_train.shape[0]):\n",
    "    num = X_train[i]\n",
    "    res.append(np.argmax(predict(num/255, t1, t2))==np.where(y_train.transpose()[i]==1)[0][0])\n",
    "\n",
    "print(\"train accuracy : {:.2f}%\".format(sum(res)/len(res)*100))\n",
    "\n",
    "res=[]\n",
    "for i in range(X_test.shape[0]):\n",
    "    num = X_test[i]\n",
    "    res.append(np.argmax(predict(num/255, t1, t2))==np.where(y_test.transpose()[i]==1)[0][0])\n",
    "\n",
    "print(\"test accuracy : {:.2f}%\".format(sum(res)/len(res)*100))"
   ]
  },
  {
   "cell_type": "markdown",
   "metadata": {},
   "source": [
    "##### regularization하기 전의 accuracy\n",
    "\n",
    "learning rate: 100, epoch: 50"
   ]
  },
  {
   "cell_type": "code",
   "execution_count": 91,
   "metadata": {},
   "outputs": [
    {
     "name": "stdout",
     "output_type": "stream",
     "text": [
      "train accuracy : 99.12%\n",
      "test accuracy : 96.45%\n"
     ]
    }
   ],
   "source": [
    "res=[]\n",
    "for i in range(X_train.shape[0]):\n",
    "    num = X_train[i]\n",
    "    res.append(np.argmax(predict(num/255, theta1, theta2))==np.where(y_train.transpose()[i]==1)[0][0])\n",
    "\n",
    "print(\"train accuracy : {:.2f}%\".format(sum(res)/len(res)*100))\n",
    "\n",
    "res=[]\n",
    "for i in range(X_test.shape[0]):\n",
    "    num = X_test[i]\n",
    "    res.append(np.argmax(predict(num/255, theta1, theta2))==np.where(y_test.transpose()[i]==1)[0][0])\n",
    "\n",
    "print(\"test accuracy : {:.2f}%\".format(sum(res)/len(res)*100))"
   ]
  },
  {
   "cell_type": "markdown",
   "metadata": {},
   "source": [
    "##### 약간의 overfitting이 의심이 되어 regularization또한 해보았다. \n",
    "##### regularization한 후의 accuracy\n",
    "\n",
    "lambda: 0,1, learning rate: 100, epoch: 50"
   ]
  },
  {
   "cell_type": "code",
   "execution_count": 100,
   "metadata": {},
   "outputs": [
    {
     "name": "stdout",
     "output_type": "stream",
     "text": [
      "train accuracy : 98.13%\n",
      "test accuracy : 97.22%\n"
     ]
    }
   ],
   "source": [
    "res=[]\n",
    "for i in range(X_train.shape[0]):\n",
    "    num = X_train[i]\n",
    "    res.append(np.argmax(predict(num/255, theta1, theta2))==np.where(y_train.transpose()[i]==1)[0][0])\n",
    "\n",
    "print(\"train accuracy : {:.2f}%\".format(sum(res)/len(res)*100))\n",
    "\n",
    "res=[]\n",
    "for i in range(X_test.shape[0]):\n",
    "    num = X_test[i]\n",
    "    res.append(np.argmax(predict(num/255, theta1, theta2))==np.where(y_test.transpose()[i]==1)[0][0])\n",
    "\n",
    "print(\"test accuracy : {:.2f}%\".format(sum(res)/len(res)*100))"
   ]
  },
  {
   "cell_type": "code",
   "execution_count": 243,
   "metadata": {},
   "outputs": [],
   "source": [
    "#save weights\n",
    "\n",
    "import h5py\n",
    "\n",
    "hf = h5py.File('Theta_100_reg.h5', 'w')\n",
    "hf.create_dataset('theta1', data=theta1)\n",
    "hf.create_dataset('theta2', data=theta2)\n",
    "\n",
    "hf.close()"
   ]
  },
  {
   "cell_type": "code",
   "execution_count": 247,
   "metadata": {},
   "outputs": [],
   "source": [
    "#load weights\n",
    "\n",
    "hf = h5py.File('Theta_100_reg.h5', 'r')\n",
    "hf.keys()\n",
    "t1 = hf.get('theta1')\n",
    "t2 = hf.get('theta2')\n",
    "\n",
    "t1 = np.array(t1)\n",
    "t2 = np.array(t2)\n",
    "hf.close()"
   ]
  },
  {
   "cell_type": "markdown",
   "metadata": {},
   "source": [
    "### 겪은 문제\n",
    "\n",
    "relu랑 softmax 사용했더니 relu에서 값이 크게 나와서 softmax의 exponential의 인자로 큰 값이 들어오는 바람에 overflow 문제 발생\n",
    "또한 softmax에서 0값이 출력되면 이후 cross entropy loss의 log에 인자로 0이 들어가서 underflow 발생\n",
    "\n",
    "overflow의 경우 softmax에서 max값을 빼주는 방법을, underflow의 경우  cross entropy 연산 시 0에 가까운 1e-7값을 더해 보정해주는 방법으로 해결"
   ]
  },
  {
   "cell_type": "markdown",
   "metadata": {},
   "source": [
    "### mlp architecture\n",
    "\n",
    "mnist dataset으로 3 layers perceptron을 학습시켰다.\n",
    "\n",
    "input layer의 unit 수는 784개(mnist 사진이 28X28임), hidden layer의 unit 수는 40개, output layer 수는 10개인 구조를 갖는다.  activation function으로는 relu, softmax를 사용하였고, optimizer로는 SGD를 사용하였다."
   ]
  },
  {
   "cell_type": "markdown",
   "metadata": {},
   "source": [
    "### conclusion & discussion\n",
    "\n",
    "learning rate가 얼마인지에 따라서 수렴한다고 느끼는 구간이 다르다. learning rate가 0.01이었을 때는  2정도에서 수렴했다. 당연히 이때의 test accuracy는 30%정도로 턱없이 낮은 정확도였다. learning rate가 0.4였을 때는 0.5정도에서 수렴하였다. 이\n",
    "때의 test accuracy는 약 80%정도였다. 무엇이 문제인지 모르고 있다가, learning rate를 100까지 대폭 올려서 학습한 결과, 수렴도 빨리되어서 epochs도 적게 학습을 하고, 이에따라 학습시간도 단축되었다. 이때 수렴은 약 0.01에서 이루어졌고, 정확도도 98%까지 도달했다. \n",
    "\n",
    "여기서 도출한 인사이트는 학습시간이 너무 길거나, 원하지 않는 곳에서 수렴을 할 경우, 알고리즘의 문제일 수도 있지만, learning rate가 올바른지부터 체크할 필요가 있다. 물론 learning rate가 아무리 작아도 epoch를 대폭 늘려서 끝까지 학습을 시키면 되겠지만, 시간적 비용을 고려한다면 가장 optimal한 learning rate를 찾을 필요가 있다.\n",
    "\n",
    "이렇게 중요한것이 당연하지만 상대적으로 중요치 않게 여겨지는 learning rate에 대한 연구가 있을 것이라 생각된다. 구글에서 찾아보면 learning rate는 그때그때 비교적 적합한 값을 찾아야 한다는 의견이 많다. 하지만, 가중치 값들의 범위와 가중치들의 gradient의 값들의 범위를 고려하여 optimal한 learning rate를 자동으로 찾는 연구도 추후해 한다면 좋을 것 같다."
   ]
  }
 ],
 "metadata": {
  "kernelspec": {
   "display_name": "Python 3",
   "language": "python",
   "name": "python3"
  },
  "language_info": {
   "codemirror_mode": {
    "name": "ipython",
    "version": 3
   },
   "file_extension": ".py",
   "mimetype": "text/x-python",
   "name": "python",
   "nbconvert_exporter": "python",
   "pygments_lexer": "ipython3",
   "version": "3.7.4"
  }
 },
 "nbformat": 4,
 "nbformat_minor": 4
}
