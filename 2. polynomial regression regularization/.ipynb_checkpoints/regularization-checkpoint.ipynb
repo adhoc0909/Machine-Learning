{
 "cells": [
  {
   "cell_type": "markdown",
   "metadata": {},
   "source": [
    "# 머신러닝 라이브러리 없이 알고리즘 구현하기\n",
    "\n",
    "\n",
    "polynomial regression의 underfitting problem과 overfitting problem 다루기"
   ]
  },
  {
   "cell_type": "code",
   "execution_count": 1,
   "metadata": {},
   "outputs": [],
   "source": [
    "from scipy.io import loadmat\n",
    "import numpy as np\n",
    "import pandas as pd\n",
    "import matplotlib.pyplot as plt\n",
    "from matplotlib.pyplot import subplots\n",
    "data= loadmat('data.mat')"
   ]
  },
  {
   "cell_type": "code",
   "execution_count": 2,
   "metadata": {},
   "outputs": [],
   "source": [
    "X=data['X']\n",
    "y=data['y']\n",
    "Xval=data['Xval']\n",
    "yval=data['yval']\n",
    "Xtest=data['Xtest']\n",
    "ytest=data['ytest']\n",
    "\n",
    "theta=np.ones([2,1])"
   ]
  },
  {
   "cell_type": "code",
   "execution_count": 3,
   "metadata": {},
   "outputs": [],
   "source": [
    "def costFunction(X, y, theta, Lambda):\n",
    "    m= len(y)\n",
    "    J= 0\n",
    "        \n",
    "    h=np.array(np.dot(np.matrix(X),theta))\n",
    "    \n",
    "    theta_reg=np.vstack((np.zeros([1,1]), theta[1:]))\n",
    "    \n",
    "    J=(1/(2*m))*((h-y)**2).sum() + (Lambda/(2*m))*(theta_reg**2).sum()\n",
    "    \n",
    "    grad = (1/m)*(np.dot(X.transpose(),(h-y)))+ (Lambda/m)*theta_reg\n",
    "    \n",
    "    return [J, grad]\n",
    "\n",
    "\n",
    "def train(X, y, Lambda):\n",
    "    Theta = np.zeros([X.shape[1],1]) #initial theta\n",
    "\n",
    "    grad=np.zeros([X.shape[1],1])\n",
    "    \n",
    "    print('Training start\\tJ=', costFunction(X, y, Theta, Lambda)[0])\n",
    "    \n",
    "    for epoch in range(1,epochs+1):\n",
    "        [J, grad] = costFunction(X, y, Theta, Lambda)\n",
    "        Theta=Theta-lr*grad\n",
    "\n",
    "        if(epoch%(epochs/10)==0):\n",
    "            print(\"epoch:\", epoch, \"cost:\", J)\n",
    "            print(\"theta:\", Theta)\n",
    "        \n",
    "    return Theta\n",
    "\n",
    "def forward(X, theta):\n",
    "    return np.dot(X, theta)\n",
    "\n",
    "\n",
    "def train_no_print(X, y, Lambda):\n",
    "    Theta = np.zeros([X.shape[1],1]) #initial theta\n",
    "\n",
    "    grad=np.zeros([X.shape[1],1])\n",
    "    \n",
    "    for epoch in range(1,epochs+1):\n",
    "        [J, grad] = costFunction(X, y, Theta, Lambda)\n",
    "        Theta=Theta-lr*grad\n",
    "    \n",
    "    print(\"training end\")\n",
    "        \n",
    "    return Theta"
   ]
  },
  {
   "cell_type": "markdown",
   "metadata": {},
   "source": [
    "### 데이터셋(training set, cross validation set, test set)을 그려보면 다음과 같다"
   ]
  },
  {
   "cell_type": "code",
   "execution_count": 31,
   "metadata": {},
   "outputs": [
    {
     "data": {
      "image/png": "[encoded data removed]",
      "text/plain": [
       "<Figure size 1584x288 with 3 Axes>"
      ]
     },
     "metadata": {
      "needs_background": "light"
     },
     "output_type": "display_data"
    }
   ],
   "source": [
    "f, ax = subplots(1,3,figsize=(22,4))\n",
    "\n",
    "ax[0].plot(X, y, 'or')\n",
    "ax[0].set_title('traing set')\n",
    "ax[0].set_xlabel('X')\n",
    "ax[0].set_ylabel('y')\n",
    "\n",
    "ax[1].plot(Xval, yval, 'or')\n",
    "ax[1].set_title('cross validatoin set')\n",
    "ax[1].set_xlabel('Xval')\n",
    "ax[1].set_ylabel('yval')\n",
    "\n",
    "ax[2].plot(Xtest, ytest, 'or')\n",
    "ax[2].set_title('test set')\n",
    "ax[2].set_xlabel('Xtest')\n",
    "ax[2].set_ylabel('ytest')\n",
    "\n",
    "plt.show()"
   ]
  },
  {
   "cell_type": "markdown",
   "metadata": {},
   "source": [
    "# underfitting problem"
   ]
  },
  {
   "cell_type": "code",
   "execution_count": 5,
   "metadata": {},
   "outputs": [
    {
     "name": "stdout",
     "output_type": "stream",
     "text": [
      "Training start\tJ= 140.95412088055392\n",
      "epoch: 1000 cost: 24.098354140420703\n",
      "theta: [[11.2083809 ]\n",
      " [ 0.35647195]]\n",
      "epoch: 2000 cost: 22.41497363327665\n",
      "theta: [[12.81788664]\n",
      " [ 0.36612389]]\n",
      "epoch: 3000 cost: 22.380272218673962\n",
      "theta: [[13.04897335]\n",
      " [ 0.36750967]]\n",
      "epoch: 4000 cost: 22.37955687940853\n",
      "theta: [[13.0821519 ]\n",
      " [ 0.36770864]]\n",
      "epoch: 5000 cost: 22.379542133316168\n",
      "theta: [[13.08691555]\n",
      " [ 0.36773721]]\n",
      "epoch: 6000 cost: 22.37954182933839\n",
      "theta: [[13.0875995 ]\n",
      " [ 0.36774131]]\n",
      "epoch: 7000 cost: 22.379541823072156\n",
      "theta: [[13.0876977]\n",
      " [ 0.3677419]]\n",
      "epoch: 8000 cost: 22.37954182294298\n",
      "theta: [[13.0877118 ]\n",
      " [ 0.36774198]]\n",
      "epoch: 9000 cost: 22.37954182294032\n",
      "theta: [[13.08771382]\n",
      " [ 0.36774199]]\n",
      "epoch: 10000 cost: 22.37954182294026\n",
      "theta: [[13.08771411]\n",
      " [ 0.367742  ]]\n"
     ]
    }
   ],
   "source": [
    "x=np.append(np.ones((X.shape[0],1)),X, 1)\n",
    "xval=np.append(np.ones((Xval.shape[0],1)),Xval, 1)\n",
    "xtest=np.append(np.ones((Xtest.shape[0],1)),Xtest, 1)\n",
    "\n",
    "epochs=10000\n",
    "lr=0.002\n",
    "a=train(x, y, 1)"
   ]
  },
  {
   "cell_type": "code",
   "execution_count": 6,
   "metadata": {},
   "outputs": [
    {
     "data": {
      "text/plain": [
       "array([[13.08771411],\n",
       "       [ 0.367742  ]])"
      ]
     },
     "execution_count": 6,
     "metadata": {},
     "output_type": "execute_result"
    }
   ],
   "source": [
    "a"
   ]
  },
  {
   "cell_type": "code",
   "execution_count": 7,
   "metadata": {
    "scrolled": false
   },
   "outputs": [
    {
     "data": {
      "image/png": "[encoded data removed]",
      "text/plain": [
       "<Figure size 720x648 with 1 Axes>"
      ]
     },
     "metadata": {
      "needs_background": "light"
     },
     "output_type": "display_data"
    }
   ],
   "source": [
    "plt.figure(figsize=(10,9))\n",
    "p1=plt.plot(X, forward(x, a), 'r', label='trained')\n",
    "p2=plt.plot(X, forward(x, theta), 'b', label='untrained')\n",
    "p3=plt.plot(X, y, 'om', label='label')\n",
    "\n",
    "plt.legend()\n",
    "\n",
    "plt.xlabel('X')\n",
    "plt.ylabel('y')\n",
    "\n",
    "plt.show()"
   ]
  },
  {
   "cell_type": "markdown",
   "metadata": {},
   "source": [
    "#### 위의 그림에서 알 수 있듯, 모델이 데이터에 비해 단순하면 일반화성능이 없는 것(high variance)은 물론, training set에 대해서도 오차가 크게 된다(high bias)."
   ]
  },
  {
   "cell_type": "code",
   "execution_count": 8,
   "metadata": {},
   "outputs": [
    {
     "name": "stdout",
     "output_type": "stream",
     "text": [
      "[before training]\n",
      "train error = 303.9515255535976\n",
      "cross validation error = 344.65081501026566\n",
      "test error = 342.3791418315095\n",
      "\n",
      "\n",
      "train error = 22.373907065638427\n",
      "cross validation error = 29.43317677278829\n",
      "test error = 32.50666536596448\n"
     ]
    }
   ],
   "source": [
    "print(\"[before training]\")\n",
    "print(\"train error =\", costFunction(x, y, theta, 0)[0])\n",
    "print(\"cross validation error =\", costFunction(xval, yval,theta, 0)[0])\n",
    "print(\"test error =\", costFunction(xtest, ytest, theta, 0)[0])\n",
    "print('\\n')\n",
    "\n",
    "print(\"train error =\", costFunction(x, y, a, 0)[0])\n",
    "print(\"cross validation error =\", costFunction(xval, yval,a, 0)[0])\n",
    "print(\"test error =\", costFunction(xtest, ytest, a, 0)[0])"
   ]
  },
  {
   "cell_type": "markdown",
   "metadata": {},
   "source": [
    "# overfitting (8차 다항식 가설)"
   ]
  },
  {
   "cell_type": "markdown",
   "metadata": {},
   "source": [
    "### Feature Normalization을 하지 않은 경우\n",
    "\n",
    "내가 실제로 feature normalization을 해야된다는 생각을 못하고, overfitting을 내려고 수 없이 시도했으나, 원하는대로 overfitting이 나지 않았다. 나중에 feature normalization을 하지 않아서 그랬다는 사실을 알고 이 항목도 추가하게 되었다. feature 마다 수치상의 차이가 큰 경우 feature normalization은 절대 까먹지 말것"
   ]
  },
  {
   "cell_type": "code",
   "execution_count": 9,
   "metadata": {},
   "outputs": [],
   "source": [
    "x_poly_non_norm=x\n",
    "xval_poly_non_norm=xval\n",
    "xtest_poly_non_norm=xtest\n",
    "degree=8\n",
    "for i in range(2,degree+1):\n",
    "    x_poly_non_norm=np.c_[x_poly_non_norm, x_poly_non_norm[:,1]**i]\n",
    "    xval_poly_non_norm=np.c_[xval_poly_non_norm, xval_poly_non_norm[:,1]**i]\n",
    "    xtest_poly_non_norm=np.c_[xtest_poly_non_norm, xtest_poly_non_norm[:,1]**i]\n",
    "    \n",
    "theta_poly_non_norm=np.ones([x_poly_non_norm.shape[1], 1])"
   ]
  },
  {
   "cell_type": "code",
   "execution_count": 10,
   "metadata": {},
   "outputs": [
    {
     "name": "stdout",
     "output_type": "stream",
     "text": [
      "Training start\tJ= 140.95412088055392\n",
      "epoch: 10000 cost: 75.80014960605801\n",
      "theta: [[8.75827887e-22]\n",
      " [2.49770213e-20]\n",
      " [6.62211970e-19]\n",
      " [3.10361234e-17]\n",
      " [6.39541031e-16]\n",
      " [4.62970271e-14]\n",
      " [5.18238463e-13]\n",
      " [7.62826578e-11]\n",
      " [1.90086515e-12]]\n",
      "epoch: 20000 cost: 52.18728594897084\n",
      "theta: [[1.62560024e-21]\n",
      " [4.21003275e-20]\n",
      " [1.17139397e-18]\n",
      " [5.05783782e-17]\n",
      " [1.11066449e-15]\n",
      " [7.50415053e-14]\n",
      " [8.94773642e-13]\n",
      " [1.24441384e-10]\n",
      " [2.87056303e-12]]\n",
      "epoch: 30000 cost: 42.77764914860791\n",
      "theta: [[2.29580918e-21]\n",
      " [5.42654960e-20]\n",
      " [1.58399631e-18]\n",
      " [6.28640968e-17]\n",
      " [1.47552024e-15]\n",
      " [9.27036845e-14]\n",
      " [1.18196131e-12]\n",
      " [1.54841906e-10]\n",
      " [3.48266874e-12]]\n",
      "epoch: 40000 cost: 39.02787930079303\n",
      "theta: [[2.91579194e-21]\n",
      " [6.33007991e-20]\n",
      " [1.93563066e-18]\n",
      " [7.05690603e-17]\n",
      " [1.77329221e-15]\n",
      " [1.03370048e-13]\n",
      " [1.41274638e-12]\n",
      " [1.74032350e-10]\n",
      " [3.86904014e-12]]\n",
      "epoch: 50000 cost: 37.533519035467876\n",
      "theta: [[3.50406800e-21]\n",
      " [7.03603551e-20]\n",
      " [2.24877730e-18]\n",
      " [7.53823873e-17]\n",
      " [2.02871569e-15]\n",
      " [1.09620236e-13]\n",
      " [1.60792571e-12]\n",
      " [1.86146299e-10]\n",
      " [4.11291405e-12]]\n",
      "epoch: 60000 cost: 36.93792060343905\n",
      "theta: [[4.07232799e-21]\n",
      " [7.61727154e-20]\n",
      " [2.53762716e-18]\n",
      " [7.83703542e-17]\n",
      " [2.25740515e-15]\n",
      " [1.13082680e-13]\n",
      " [1.78062758e-12]\n",
      " [1.93793125e-10]\n",
      " [4.26683473e-12]]\n",
      "epoch: 70000 cost: 36.7004712387552\n",
      "theta: [[4.62795177e-21]\n",
      " [8.11977863e-20]\n",
      " [2.81113846e-18]\n",
      " [8.02060606e-17]\n",
      " [2.46921739e-15]\n",
      " [1.14785343e-13]\n",
      " [1.93913936e-12]\n",
      " [1.98620028e-10]\n",
      " [4.36397136e-12]]\n",
      "epoch: 80000 cost: 36.605741281887035\n",
      "theta: [[5.17559797e-21]\n",
      " [8.57258895e-20]\n",
      " [3.07496617e-18]\n",
      " [8.13144087e-17]\n",
      " [2.67037466e-15]\n",
      " [1.15377141e-13]\n",
      " [2.08869257e-12]\n",
      " [2.01666819e-10]\n",
      " [4.42526238e-12]]\n",
      "epoch: 90000 cost: 36.56788381776364\n",
      "theta: [[5.71820740e-21]\n",
      " [8.99402939e-20]\n",
      " [3.33268005e-18]\n",
      " [8.19636231e-17]\n",
      " [2.86480481e-15]\n",
      " [1.15267711e-13]\n",
      " [2.23258964e-12]\n",
      " [2.03589895e-10]\n",
      " [4.46392543e-12]]\n",
      "epoch: 100000 cost: 36.552689569708136\n",
      "theta: [[6.25763648e-21]\n",
      " [9.39566901e-20]\n",
      " [3.58653357e-18]\n",
      " [8.23230238e-17]\n",
      " [3.05498735e-15]\n",
      " [1.14715639e-13]\n",
      " [2.37291530e-12]\n",
      " [2.04803611e-10]\n",
      " [4.48830430e-12]]\n"
     ]
    }
   ],
   "source": [
    "epochs=100000\n",
    "lr=1e-26  #8차\n",
    "Lambda=0\n",
    "trained_theta_poly_non_norm=train(x_poly_non_norm, y, Lambda)"
   ]
  },
  {
   "cell_type": "code",
   "execution_count": 11,
   "metadata": {},
   "outputs": [
    {
     "data": {
      "image/png": "[encoded data removed]",
      "text/plain": [
       "<Figure size 720x648 with 1 Axes>"
      ]
     },
     "metadata": {
      "needs_background": "light"
     },
     "output_type": "display_data"
    }
   ],
   "source": [
    "plt.figure(figsize=(10,9))\n",
    "p1=plt.plot(X[np.argsort(X[:,0])], forward(x_poly_non_norm[np.argsort(x_poly_non_norm[:, 1])], trained_theta_poly_non_norm), 'r', label='trained')\n",
    "p3=plt.plot(X, y, 'om', label='label')\n",
    "\n",
    "plt.legend()\n",
    "\n",
    "plt.xlabel('X')\n",
    "plt.ylabel('y')\n",
    "\n",
    "plt.show()"
   ]
  },
  {
   "cell_type": "markdown",
   "metadata": {},
   "source": [
    "feature normalization을 하지 않으면 다항식 항의 차수가 커질수록 x의 값이 커지므로, 즉 feature들 간의 수치상의 차이가 크므로(ex: x1=4, x8=123123), 학습 시 overfitting이 나게 하고 싶어도 나지 않는 문제가 생긴다. 위 결과를 보면 cost값이 약 36.5에 수렴한 것을 볼 수 있다."
   ]
  },
  {
   "cell_type": "markdown",
   "metadata": {},
   "source": [
    "### Feature Normalization을 한 경우"
   ]
  },
  {
   "cell_type": "code",
   "execution_count": 12,
   "metadata": {},
   "outputs": [],
   "source": [
    "x_poly_norm=np.ones(x_poly_non_norm.shape)\n",
    "xval_poly_norm=np.ones(xval_poly_non_norm.shape)\n",
    "xtest_poly_norm=np.ones(xtest_poly_non_norm.shape)\n",
    "for i in range(1,degree+1):\n",
    "    x_poly_norm[:,i]=(x_poly_non_norm[:,i]-x_poly_non_norm[:,i].sum()/len(x_poly_non_norm[:,i]))/(x_poly_non_norm[:,i].max()-x_poly_non_norm[:,i].min())\n",
    "    xval_poly_norm[:,i]=(xval_poly_non_norm[:,i]-xval_poly_non_norm[:,i].sum()/len(xval_poly_non_norm[:,i]))/(xval_poly_non_norm[:,i].max()-xval_poly_non_norm[:,i].min())\n",
    "    xtest_poly_norm[:,i]=(xtest_poly_non_norm[:,i]-xtest_poly_non_norm[:,i].sum()/len(xtest_poly_non_norm[:,i]))/(xtest_poly_non_norm[:,i].max()-xtest_poly_non_norm[:,i].min())\n",
    "\n",
    "    \n"
   ]
  },
  {
   "cell_type": "code",
   "execution_count": 13,
   "metadata": {},
   "outputs": [
    {
     "name": "stdout",
     "output_type": "stream",
     "text": [
      "Training start\tJ= 140.95412088055392\n",
      "epoch: 30000 cost: 0.1839825120692451\n",
      "theta: [[ 11.21758933]\n",
      " [ 33.60609224]\n",
      " [ 40.27065693]\n",
      " [ 28.6556073 ]\n",
      " [-24.40885601]\n",
      " [-29.35033653]\n",
      " [  7.51151674]\n",
      " [ -5.31431515]\n",
      " [-13.45592926]]\n",
      "epoch: 60000 cost: 0.15157772221150279\n",
      "theta: [[ 11.21758933]\n",
      " [ 32.73361058]\n",
      " [ 42.8242636 ]\n",
      " [ 35.15075329]\n",
      " [-36.57479494]\n",
      " [-45.09234549]\n",
      " [ 23.35924687]\n",
      " [  7.09584969]\n",
      " [-17.4258179 ]]\n",
      "epoch: 90000 cost: 0.12779760856186367\n",
      "theta: [[ 11.21758933]\n",
      " [ 32.42831148]\n",
      " [ 45.16782744]\n",
      " [ 38.41069233]\n",
      " [-47.96213374]\n",
      " [-57.4208517 ]\n",
      " [ 36.81482567]\n",
      " [ 19.76904677]\n",
      " [-18.55246522]]\n",
      "epoch: 120000 cost: 0.10943040710464094\n",
      "theta: [[ 11.21758933]\n",
      " [ 32.25357893]\n",
      " [ 47.23370562]\n",
      " [ 40.81851769]\n",
      " [-58.02636859]\n",
      " [-68.13029875]\n",
      " [ 48.32859243]\n",
      " [ 31.45065387]\n",
      " [-18.873438  ]]\n",
      "epoch: 150000 cost: 0.09516857637591193\n",
      "theta: [[ 11.21758933]\n",
      " [ 32.11383384]\n",
      " [ 49.03608635]\n",
      " [ 42.9086953 ]\n",
      " [-66.79325009]\n",
      " [-77.71489383]\n",
      " [ 58.1774466 ]\n",
      " [ 41.99476071]\n",
      " [-18.85710817]]\n",
      "epoch: 180000 cost: 0.08406238854079096\n",
      "theta: [[ 11.21758933]\n",
      " [ 31.98762426]\n",
      " [ 50.60336565]\n",
      " [ 44.81229782]\n",
      " [-74.39452641]\n",
      " [-86.37370601]\n",
      " [ 66.5784174 ]\n",
      " [ 51.48054704]\n",
      " [-18.62791281]]\n",
      "epoch: 210000 cost: 0.07538485907968918\n",
      "theta: [[ 11.21758933]\n",
      " [ 31.86967513]\n",
      " [ 51.96389005]\n",
      " [ 46.57098965]\n",
      " [-80.96933409]\n",
      " [-94.2304515 ]\n",
      " [ 73.71607738]\n",
      " [ 60.02240435]\n",
      " [-18.23276404]]\n",
      "epoch: 240000 cost: 0.06857761826094222\n",
      "theta: [[  11.21758933]\n",
      " [  31.75829754]\n",
      " [  53.14324916]\n",
      " [  48.20541565]\n",
      " [ -86.64472344]\n",
      " [-101.38260002]\n",
      " [  79.75090094]\n",
      " [  67.73040306]\n",
      " [ -17.6992377 ]]\n",
      "epoch: 270000 cost: 0.06321167913584798\n",
      "theta: [[  11.21758933]\n",
      " [  31.65264635]\n",
      " [  54.16402752]\n",
      " [  49.73024614]\n",
      " [ -91.53312425]\n",
      " [-107.91325679]\n",
      " [  84.8231884 ]\n",
      " [  74.70318909]\n",
      " [ -17.04851607]]\n",
      "epoch: 300000 cost: 0.058957418272115425\n",
      "theta: [[  11.21758933]\n",
      " [  31.55211678]\n",
      " [  55.04604837]\n",
      " [  51.15761705]\n",
      " [ -95.73327935]\n",
      " [-113.89481253]\n",
      " [  89.05576662]\n",
      " [  81.02773761]\n",
      " [ -16.29846994]]\n"
     ]
    }
   ],
   "source": [
    "epochs=300000\n",
    "lr=0.9\n",
    "Lambda=0\n",
    "trained_theta_poly_norm=train(x_poly_norm, y, Lambda)"
   ]
  },
  {
   "cell_type": "code",
   "execution_count": 14,
   "metadata": {},
   "outputs": [
    {
     "data": {
      "image/png": "[encoded data removed]",
      "text/plain": [
       "<Figure size 720x648 with 1 Axes>"
      ]
     },
     "metadata": {
      "needs_background": "light"
     },
     "output_type": "display_data"
    }
   ],
   "source": [
    "plt.figure(figsize=(10,9))\n",
    "p1=plt.plot(X[np.argsort(X[:,0])], forward(x_poly_norm[np.argsort(x_poly_norm[:, 1])], trained_theta_poly_norm), 'r', label='trained')\n",
    "p3=plt.plot(X, y, 'om', label='label')\n",
    "\n",
    "plt.legend()\n",
    "plt.title(\"train set\")\n",
    "plt.xlabel('X')\n",
    "plt.ylabel('y')\n",
    "\n",
    "plt.show()"
   ]
  },
  {
   "cell_type": "markdown",
   "metadata": {},
   "source": [
    "#### 그래프가 데이터에 거의 정확히 적합된 것을 확인할 수 있다."
   ]
  },
  {
   "cell_type": "code",
   "execution_count": 15,
   "metadata": {},
   "outputs": [
    {
     "data": {
      "image/png": "[encoded data removed]",
      "text/plain": [
       "<Figure size 720x648 with 1 Axes>"
      ]
     },
     "metadata": {
      "needs_background": "light"
     },
     "output_type": "display_data"
    }
   ],
   "source": [
    "plt.figure(figsize=(10,9))\n",
    "p1=plt.plot(Xval[np.argsort(Xval[:,0])], forward(xval_poly_norm[np.argsort(xval_poly_norm[:, 1])], trained_theta_poly_norm), 'r', label='trained')\n",
    "p3=plt.plot(Xval, yval, 'om', label='label')\n",
    "\n",
    "plt.legend()\n",
    "plt.title('cross validation set')\n",
    "plt.xlabel('X')\n",
    "plt.ylabel('y')\n",
    "\n",
    "plt.show()"
   ]
  },
  {
   "cell_type": "code",
   "execution_count": 16,
   "metadata": {},
   "outputs": [
    {
     "data": {
      "image/png": "[encoded data removed]",
      "text/plain": [
       "<Figure size 720x648 with 1 Axes>"
      ]
     },
     "metadata": {
      "needs_background": "light"
     },
     "output_type": "display_data"
    }
   ],
   "source": [
    "plt.figure(figsize=(10,9))\n",
    "p1=plt.plot(Xtest[np.argsort(Xtest[:,0])], forward(xtest_poly_norm[np.argsort(xtest_poly_norm[:, 1])], trained_theta_poly_norm), 'r', label='trained')\n",
    "p3=plt.plot(Xtest, ytest, 'om', label='label')\n",
    "\n",
    "plt.legend()\n",
    "plt.title('test set')\n",
    "plt.xlabel('X')\n",
    "plt.ylabel('y')\n",
    "\n",
    "plt.show()"
   ]
  },
  {
   "cell_type": "code",
   "execution_count": 17,
   "metadata": {},
   "outputs": [
    {
     "name": "stdout",
     "output_type": "stream",
     "text": [
      "[before training]\n",
      "train error = 121.56321569450995\n",
      "cross validation error = 141.51590843411373\n",
      "test error = 169.6952531922153\n",
      "\n",
      "\n",
      "[after training]\n",
      "train error = 0.058957291997377745\n",
      "cross validation error = 7.309802833356965\n",
      "test error = 11.796045675253197\n",
      "\n",
      "\n"
     ]
    }
   ],
   "source": [
    "print(\"[before training]\")\n",
    "print(\"train error =\", costFunction(x_poly_norm, y, np.ones(trained_theta_poly_norm.shape), 0)[0])\n",
    "print(\"cross validation error =\", costFunction(xval_poly_norm, yval,np.ones(trained_theta_poly_norm.shape), 0)[0])\n",
    "print(\"test error =\", costFunction(xtest_poly_norm, ytest, np.ones(trained_theta_poly_norm.shape), 0)[0])\n",
    "print('\\n')\n",
    "\n",
    "print(\"[after training]\")\n",
    "print(\"train error =\", costFunction(x_poly_norm, y, trained_theta_poly_norm, 0)[0])\n",
    "print(\"cross validation error =\", costFunction(xval_poly_norm, yval,trained_theta_poly_norm, 0)[0])\n",
    "print(\"test error =\", costFunction(xtest_poly_norm, ytest, trained_theta_poly_norm, 0)[0])\n",
    "print('\\n')\n",
    "\n"
   ]
  },
  {
   "cell_type": "markdown",
   "metadata": {},
   "source": [
    "#### 모델을 학습시킨 후 train error, cross validation error, test error을 각각 비교해본 결과 train error는 0에 수렴하는 반면 나머지 error은 그렇지 않다.\n",
    "#### overfitting이 발생(low bias, high variance)했다는 사실을 알 수 있다. 즉, 일반화 성능이 떨어진다고 할 수 있다.  따라서 regularization을 한 후 일반화 성능이 얼마나 좋아지는지 확인해보자."
   ]
  },
  {
   "cell_type": "markdown",
   "metadata": {},
   "source": [
    "# Regularization"
   ]
  },
  {
   "cell_type": "code",
   "execution_count": 18,
   "metadata": {
    "scrolled": true
   },
   "outputs": [
    {
     "name": "stdout",
     "output_type": "stream",
     "text": [
      "Training start\tJ= 140.95412088055392\n",
      "epoch: 3000 cost: 6.573486627956593\n",
      "theta: [[11.21758933]\n",
      " [26.65015851]\n",
      " [16.37791056]\n",
      " [10.05729378]\n",
      " [ 6.41891665]\n",
      " [ 5.19523542]\n",
      " [ 2.51891452]\n",
      " [ 3.55410055]\n",
      " [ 0.50326928]]\n",
      "epoch: 6000 cost: 6.573486627956594\n",
      "theta: [[11.21758933]\n",
      " [26.65015851]\n",
      " [16.37791056]\n",
      " [10.05729378]\n",
      " [ 6.41891665]\n",
      " [ 5.19523542]\n",
      " [ 2.51891452]\n",
      " [ 3.55410055]\n",
      " [ 0.50326928]]\n",
      "epoch: 9000 cost: 6.573486627956594\n",
      "theta: [[11.21758933]\n",
      " [26.65015851]\n",
      " [16.37791056]\n",
      " [10.05729378]\n",
      " [ 6.41891665]\n",
      " [ 5.19523542]\n",
      " [ 2.51891452]\n",
      " [ 3.55410055]\n",
      " [ 0.50326928]]\n",
      "epoch: 12000 cost: 6.573486627956594\n",
      "theta: [[11.21758933]\n",
      " [26.65015851]\n",
      " [16.37791056]\n",
      " [10.05729378]\n",
      " [ 6.41891665]\n",
      " [ 5.19523542]\n",
      " [ 2.51891452]\n",
      " [ 3.55410055]\n",
      " [ 0.50326928]]\n",
      "epoch: 15000 cost: 6.573486627956594\n",
      "theta: [[11.21758933]\n",
      " [26.65015851]\n",
      " [16.37791056]\n",
      " [10.05729378]\n",
      " [ 6.41891665]\n",
      " [ 5.19523542]\n",
      " [ 2.51891452]\n",
      " [ 3.55410055]\n",
      " [ 0.50326928]]\n",
      "epoch: 18000 cost: 6.573486627956594\n",
      "theta: [[11.21758933]\n",
      " [26.65015851]\n",
      " [16.37791056]\n",
      " [10.05729378]\n",
      " [ 6.41891665]\n",
      " [ 5.19523542]\n",
      " [ 2.51891452]\n",
      " [ 3.55410055]\n",
      " [ 0.50326928]]\n",
      "epoch: 21000 cost: 6.573486627956594\n",
      "theta: [[11.21758933]\n",
      " [26.65015851]\n",
      " [16.37791056]\n",
      " [10.05729378]\n",
      " [ 6.41891665]\n",
      " [ 5.19523542]\n",
      " [ 2.51891452]\n",
      " [ 3.55410055]\n",
      " [ 0.50326928]]\n",
      "epoch: 24000 cost: 6.573486627956594\n",
      "theta: [[11.21758933]\n",
      " [26.65015851]\n",
      " [16.37791056]\n",
      " [10.05729378]\n",
      " [ 6.41891665]\n",
      " [ 5.19523542]\n",
      " [ 2.51891452]\n",
      " [ 3.55410055]\n",
      " [ 0.50326928]]\n",
      "epoch: 27000 cost: 6.573486627956594\n",
      "theta: [[11.21758933]\n",
      " [26.65015851]\n",
      " [16.37791056]\n",
      " [10.05729378]\n",
      " [ 6.41891665]\n",
      " [ 5.19523542]\n",
      " [ 2.51891452]\n",
      " [ 3.55410055]\n",
      " [ 0.50326928]]\n",
      "epoch: 30000 cost: 6.573486627956594\n",
      "theta: [[11.21758933]\n",
      " [26.65015851]\n",
      " [16.37791056]\n",
      " [10.05729378]\n",
      " [ 6.41891665]\n",
      " [ 5.19523542]\n",
      " [ 2.51891452]\n",
      " [ 3.55410055]\n",
      " [ 0.50326928]]\n"
     ]
    }
   ],
   "source": [
    "epochs=30000\n",
    "lr=0.9\n",
    "Lambda=0.1\n",
    "trained_theta_poly_norm_reg=train(x_poly_norm, y, Lambda)"
   ]
  },
  {
   "cell_type": "code",
   "execution_count": 19,
   "metadata": {},
   "outputs": [
    {
     "data": {
      "image/png": "[encoded data removed]",
      "text/plain": [
       "<Figure size 720x648 with 1 Axes>"
      ]
     },
     "metadata": {
      "needs_background": "light"
     },
     "output_type": "display_data"
    }
   ],
   "source": [
    "plt.figure(figsize=(10,9))\n",
    "p1=plt.plot(X[np.argsort(X[:,0])], forward(x_poly_norm[np.argsort(x_poly_norm[:, 1])], trained_theta_poly_norm_reg), 'r', label='trained')\n",
    "p3=plt.plot(X, y, 'om', label='label')\n",
    "\n",
    "plt.legend()\n",
    "plt.title(\"train set\")\n",
    "plt.xlabel('X')\n",
    "plt.ylabel('y')\n",
    "\n",
    "plt.show()"
   ]
  },
  {
   "cell_type": "code",
   "execution_count": 20,
   "metadata": {},
   "outputs": [
    {
     "data": {
      "image/png": "[encoded data removed]",
      "text/plain": [
       "<Figure size 720x648 with 1 Axes>"
      ]
     },
     "metadata": {
      "needs_background": "light"
     },
     "output_type": "display_data"
    }
   ],
   "source": [
    "plt.figure(figsize=(10,9))\n",
    "p1=plt.plot(Xval[np.argsort(Xval[:,0])], forward(xval_poly_norm[np.argsort(xval_poly_norm[:, 1])], trained_theta_poly_norm_reg), 'r', label='trained')\n",
    "p3=plt.plot(Xval, yval, 'om', label='label')\n",
    "\n",
    "plt.legend()\n",
    "plt.title('cross validation set')\n",
    "plt.xlabel('X')\n",
    "plt.ylabel('y')\n",
    "\n",
    "plt.show()"
   ]
  },
  {
   "cell_type": "code",
   "execution_count": 21,
   "metadata": {
    "scrolled": true
   },
   "outputs": [
    {
     "data": {
      "image/png": "[encoded data removed]",
      "text/plain": [
       "<Figure size 720x648 with 1 Axes>"
      ]
     },
     "metadata": {
      "needs_background": "light"
     },
     "output_type": "display_data"
    }
   ],
   "source": [
    "plt.figure(figsize=(10,9))\n",
    "p1=plt.plot(Xtest[np.argsort(Xtest[:,0])], forward(xtest_poly_norm[np.argsort(xtest_poly_norm[:, 1])], trained_theta_poly_norm_reg), 'r', label='trained')\n",
    "p3=plt.plot(Xtest, ytest, 'om', label='label')\n",
    "\n",
    "plt.legend()\n",
    "plt.title('test set')\n",
    "plt.xlabel('X')\n",
    "plt.ylabel('y')\n",
    "\n",
    "plt.show()"
   ]
  },
  {
   "cell_type": "markdown",
   "metadata": {},
   "source": [
    "#### 규제를 한 결과 육안으로 그래프를 봤을 때 일반화 성능이 월등히 좋아졌음을 알 수 있다. 수치상으로도 그런지 확인해보자."
   ]
  },
  {
   "cell_type": "code",
   "execution_count": 22,
   "metadata": {},
   "outputs": [
    {
     "name": "stdout",
     "output_type": "stream",
     "text": [
      "[before training]\n",
      "train error = 121.59654902784328\n",
      "cross validation error = 141.53495605316135\n",
      "test error = 169.71430081126292\n",
      "\n",
      "\n",
      "[after training]\n",
      "train error = 6.573486627956594\n",
      "cross validation error = 8.239127359110709\n",
      "test error = 15.868739953228841\n",
      "\n",
      "\n"
     ]
    }
   ],
   "source": [
    "Lambda=0.1\n",
    "print(\"[before training]\")\n",
    "print(\"train error =\", costFunction(x_poly_norm, y, np.ones(trained_theta_poly_norm_reg.shape), Lambda)[0])\n",
    "print(\"cross validation error =\", costFunction(xval_poly_norm, yval,np.ones(trained_theta_poly_norm_reg.shape), Lambda)[0])\n",
    "print(\"test error =\", costFunction(xtest_poly_norm, ytest, np.ones(trained_theta_poly_norm_reg.shape), Lambda)[0])\n",
    "print('\\n')\n",
    "\n",
    "print(\"[after training]\")\n",
    "print(\"train error =\", costFunction(x_poly_norm, y, trained_theta_poly_norm_reg, Lambda)[0])\n",
    "print(\"cross validation error =\", costFunction(xval_poly_norm, yval,trained_theta_poly_norm_reg, Lambda)[0])\n",
    "print(\"test error =\", costFunction(xtest_poly_norm, ytest, trained_theta_poly_norm_reg, Lambda)[0])\n",
    "print('\\n')\n",
    "\n"
   ]
  },
  {
   "cell_type": "markdown",
   "metadata": {},
   "source": [
    "규제를 하지 않았을 때 traing error는 0에, cross validation error, test error는 각각 7과 11에 수렴한 것과는 달리, 규제를 하고 났을 때 train error은 6, cross validation error, test error은 각각 8, 15에 수렴한 것을 확인할 수 있다. 즉 일반화 성능이 좋아졌음을 알 수 있다. "
   ]
  },
  {
   "cell_type": "code",
   "execution_count": 23,
   "metadata": {},
   "outputs": [],
   "source": [
    "Lambdas=[0, 0.001, 0.003, 0.01, 0.03, 0.1, 0.3, 1, 3, 10]"
   ]
  },
  {
   "cell_type": "code",
   "execution_count": 24,
   "metadata": {},
   "outputs": [
    {
     "name": "stdout",
     "output_type": "stream",
     "text": [
      "training end\n",
      "training end\n",
      "training end\n",
      "training end\n",
      "training end\n",
      "training end\n",
      "training end\n",
      "training end\n",
      "training end\n",
      "training end\n"
     ]
    }
   ],
   "source": [
    "lr=0.9\n",
    "\n",
    "train_error_list=[]\n",
    "val_error_list=[]\n",
    "test_error_list=[]\n",
    "theta_list=[]\n",
    "\n",
    "for Lambda in Lambdas:\n",
    "    if(Lambda==0):\n",
    "        epochs=300000\n",
    "    else:\n",
    "        epochs=100000\n",
    "    t=train_no_print(x_poly_norm, y, Lambda)\n",
    "    theta_list.append(t)\n",
    "    train_error_list.append(costFunction(x_poly_norm, y, t, 0)[0])\n",
    "    val_error_list.append(costFunction(xval_poly_norm, yval, t, 0)[0])\n",
    "    test_error_list.append(costFunction(xtest_poly_norm, ytest, t, 0)[0])"
   ]
  },
  {
   "cell_type": "markdown",
   "metadata": {},
   "source": [
    "### Lambda 값에 따른 train error, cross validation error의 변화 그래프"
   ]
  },
  {
   "cell_type": "code",
   "execution_count": 29,
   "metadata": {
    "scrolled": true
   },
   "outputs": [
    {
     "data": {
      "image/png": "[encoded data removed]",
      "text/plain": [
       "<Figure size 432x288 with 1 Axes>"
      ]
     },
     "metadata": {
      "needs_background": "light"
     },
     "output_type": "display_data"
    }
   ],
   "source": [
    "plt.plot(Lambdas, train_error_list, label='train error')\n",
    "plt.plot(Lambdas, val_error_list, label='cross validation error')\n",
    "plt.xlabel('lambda')\n",
    "plt.ylabel('error')\n",
    "plt.legend()\n",
    "plt.show()"
   ]
  },
  {
   "cell_type": "code",
   "execution_count": 30,
   "metadata": {},
   "outputs": [
    {
     "data": {
      "image/png": "[encoded data removed]",
      "text/plain": [
       "<Figure size 432x288 with 1 Axes>"
      ]
     },
     "metadata": {
      "needs_background": "light"
     },
     "output_type": "display_data"
    }
   ],
   "source": [
    "plt.plot(Lambdas, train_error_list, label='train error')\n",
    "plt.xlabel('lambda')\n",
    "plt.ylabel('error')\n",
    "plt.legend()\n",
    "plt.show()"
   ]
  },
  {
   "cell_type": "code",
   "execution_count": 27,
   "metadata": {},
   "outputs": [
    {
     "name": "stdout",
     "output_type": "stream",
     "text": [
      "----------------Lambda=0.000----------------\n",
      "[before training]\n",
      "train error = 121.56321569450995\n",
      "cross validation error = 141.51590843411373\n",
      "test error = 169.6952531922153\n",
      "\n",
      "\n",
      "[after training]\n",
      "train error = 0.058957291997377745\n",
      "cross validation error = 7.309802833356965\n",
      "test error = 11.796045675253197\n",
      "\n",
      "\n",
      "----------------Lambda=0.001----------------\n",
      "[before training]\n",
      "train error = 121.56354902784328\n",
      "cross validation error = 141.5160989103042\n",
      "test error = 169.69544366840577\n",
      "\n",
      "\n",
      "[after training]\n",
      "train error = 0.36830667412391555\n",
      "cross validation error = 12.523881949354648\n",
      "test error = 12.141210796560397\n",
      "\n",
      "\n",
      "----------------Lambda=0.003----------------\n",
      "[before training]\n",
      "train error = 121.56421569450995\n",
      "cross validation error = 141.51647986268515\n",
      "test error = 169.6958246207867\n",
      "\n",
      "\n",
      "[after training]\n",
      "train error = 0.6154709887333207\n",
      "cross validation error = 10.593838810973555\n",
      "test error = 11.96759187476104\n",
      "\n",
      "\n",
      "----------------Lambda=0.010----------------\n",
      "[before training]\n",
      "train error = 121.56654902784328\n",
      "cross validation error = 141.5178131960185\n",
      "test error = 169.69715795412006\n",
      "\n",
      "\n",
      "[after training]\n",
      "train error = 1.2844211660893006\n",
      "cross validation error = 8.257912100394925\n",
      "test error = 11.91359285878628\n",
      "\n",
      "\n",
      "----------------Lambda=0.030----------------\n",
      "[before training]\n",
      "train error = 121.57321569450995\n",
      "cross validation error = 141.521622719828\n",
      "test error = 169.70096747792957\n",
      "\n",
      "\n",
      "[after training]\n",
      "train error = 2.7451276086024246\n",
      "cross validation error = 7.006690144716828\n",
      "test error = 12.55466137635017\n",
      "\n",
      "\n",
      "----------------Lambda=0.100----------------\n",
      "[before training]\n",
      "train error = 121.59654902784328\n",
      "cross validation error = 141.53495605316135\n",
      "test error = 169.71430081126292\n",
      "\n",
      "\n",
      "[after training]\n",
      "train error = 6.573486627956594\n",
      "cross validation error = 8.239127359110709\n",
      "test error = 15.868739953228841\n",
      "\n",
      "\n",
      "----------------Lambda=0.300----------------\n",
      "[before training]\n",
      "train error = 121.66321569450994\n",
      "cross validation error = 141.57305129125658\n",
      "test error = 169.75239604935814\n",
      "\n",
      "\n",
      "[after training]\n",
      "train error = 14.784555631689623\n",
      "cross validation error = 13.413628093137323\n",
      "test error = 24.624436522294804\n",
      "\n",
      "\n",
      "----------------Lambda=1.000----------------\n",
      "[before training]\n",
      "train error = 121.89654902784328\n",
      "cross validation error = 141.70638462458993\n",
      "test error = 169.8857293826915\n",
      "\n",
      "\n",
      "[after training]\n",
      "train error = 32.09443941029496\n",
      "cross validation error = 27.867451978612365\n",
      "test error = 44.768725837037906\n",
      "\n",
      "\n",
      "----------------Lambda=3.000----------------\n",
      "[before training]\n",
      "train error = 122.56321569450995\n",
      "cross validation error = 142.0873370055423\n",
      "test error = 170.26668176364387\n",
      "\n",
      "\n",
      "[after training]\n",
      "train error = 51.27154011667221\n",
      "cross validation error = 48.911785489972274\n",
      "test error = 68.68160742530517\n",
      "\n",
      "\n",
      "----------------Lambda=10.000----------------\n",
      "[before training]\n",
      "train error = 124.89654902784328\n",
      "cross validation error = 143.42067033887562\n",
      "test error = 171.6000150969772\n",
      "\n",
      "\n",
      "[after training]\n",
      "train error = 66.48906045681325\n",
      "cross validation error = 68.01639316428458\n",
      "test error = 88.34264647231551\n",
      "\n",
      "\n"
     ]
    }
   ],
   "source": [
    "cnt=0\n",
    "for Lambda in Lambdas:\n",
    "    print(\"----------------Lambda={:.3f}----------------\".format(Lambda))\n",
    "    print(\"[before training]\")\n",
    "    print(\"train error =\", costFunction(x_poly_norm, y, np.ones(theta_list[cnt].shape), Lambda)[0])\n",
    "    print(\"cross validation error =\", costFunction(xval_poly_norm, yval,np.ones(theta_list[cnt].shape), Lambda)[0])\n",
    "    print(\"test error =\", costFunction(xtest_poly_norm, ytest, np.ones(theta_list[cnt].shape), Lambda)[0])\n",
    "    print('\\n')\n",
    "\n",
    "    print(\"[after training]\")\n",
    "    print(\"train error =\", costFunction(x_poly_norm, y, theta_list[cnt], Lambda)[0])\n",
    "    print(\"cross validation error =\", costFunction(xval_poly_norm, yval, theta_list[cnt], Lambda)[0])\n",
    "    print(\"test error =\", costFunction(xtest_poly_norm, ytest, theta_list[cnt], Lambda)[0])\n",
    "    print('\\n')\n",
    "    cnt+=1\n",
    "\n"
   ]
  },
  {
   "cell_type": "markdown",
   "metadata": {},
   "source": [
    "## Lambda selection\n",
    "\n",
    "cross validation error가 가장 작은 lambda를 찾아보자"
   ]
  },
  {
   "cell_type": "code",
   "execution_count": 28,
   "metadata": {},
   "outputs": [
    {
     "name": "stdout",
     "output_type": "stream",
     "text": [
      "The best lambda is 0.1\n"
     ]
    }
   ],
   "source": [
    "min_lambda_index=val_error_list.index(min(val_error_list))\n",
    "print('The best lambda is',Lambdas[min_lambda_index])"
   ]
  }
 ],
 "metadata": {
  "kernelspec": {
   "display_name": "Python 3",
   "language": "python",
   "name": "python3"
  },
  "language_info": {
   "codemirror_mode": {
    "name": "ipython",
    "version": 3
   },
   "file_extension": ".py",
   "mimetype": "text/x-python",
   "name": "python",
   "nbconvert_exporter": "python",
   "pygments_lexer": "ipython3",
   "version": "3.7.4"
  }
 },
 "nbformat": 4,
 "nbformat_minor": 2
}
